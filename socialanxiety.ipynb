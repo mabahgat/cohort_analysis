{
 "cells": [
  {
   "cell_type": "markdown",
   "source": [
    "\n",
    "# Analysis Comparison between Original and Expanded Lexicons on Cohort Analysis Task\n",
    "\n",
    "Subreddit: Social Anxiety"
   ],
   "metadata": {
    "collapsed": false
   }
  },
  {
   "cell_type": "code",
   "execution_count": 15,
   "outputs": [],
   "source": [
    "from pathlib import Path\n",
    "import pandas as pd\n",
    "\n",
    "from config import global_config\n",
    "from lexicons2 import Values, ValuesExpanded, Liwc2015, Liwc2015Expanded\n",
    "from spaces import WordEmbeddings, LabelEmbeddings"
   ],
   "metadata": {
    "collapsed": false,
    "ExecuteTime": {
     "end_time": "2023-08-03T10:17:51.762337Z",
     "start_time": "2023-08-03T10:17:51.115829Z"
    }
   }
  },
  {
   "cell_type": "code",
   "execution_count": 16,
   "outputs": [],
   "source": [
    "COHORT_NAME = 'socialanxiety'"
   ],
   "metadata": {
    "collapsed": false,
    "ExecuteTime": {
     "end_time": "2023-08-03T10:17:51.762399Z",
     "start_time": "2023-08-03T10:17:51.115978Z"
    }
   }
  },
  {
   "cell_type": "code",
   "execution_count": 17,
   "outputs": [],
   "source": [
    "cohort_corpus_path = global_config.reddit.submissions[COHORT_NAME]\n",
    "cohort_models_path = f'{global_config.paths.models}/{COHORT_NAME}'\n",
    "\n",
    "control_corpus_path = global_config.reddit.submissions['IAMA']\n",
    "control_models_path = f'{global_config.paths.models}/IAMA'"
   ],
   "metadata": {
    "collapsed": false,
    "ExecuteTime": {
     "end_time": "2023-08-03T10:17:51.762449Z",
     "start_time": "2023-08-03T10:17:51.116045Z"
    }
   }
  },
  {
   "cell_type": "code",
   "execution_count": 18,
   "outputs": [],
   "source": [
    "cohort_ranks_csv = f'{global_config.paths.ranks}/{COHORT_NAME}_ranks.csv'\n",
    "expanded_cohort_ranks_csv = f'{global_config.paths.ranks}/{COHORT_NAME}_ranks_expanded.csv'\n",
    "\n",
    "control_ranks_csv = f'{global_config.paths.ranks}/IAMA_ranks.csv'\n",
    "expanded_control_ranks_csv = f'{global_config.paths.ranks}/IAMA_ranks_expanded.csv'\n",
    "\n",
    "relative_ranks_csv = f'{global_config.paths.ranks}/{COHORT_NAME}_relative-ranks.csv'\n",
    "expanded_relative_ranks_csv = f'{global_config.paths.ranks}/{COHORT_NAME}_relative-ranks_expanded.csv'"
   ],
   "metadata": {
    "collapsed": false,
    "ExecuteTime": {
     "end_time": "2023-08-03T10:17:51.762536Z",
     "start_time": "2023-08-03T10:17:51.116512Z"
    }
   }
  },
  {
   "cell_type": "markdown",
   "source": [
    "Build Control Spaces"
   ],
   "metadata": {
    "collapsed": false
   }
  },
  {
   "cell_type": "code",
   "execution_count": 19,
   "outputs": [],
   "source": [
    "control_word_space = WordEmbeddings(corpus_path=control_corpus_path, model_path=control_models_path).build()"
   ],
   "metadata": {
    "collapsed": false,
    "ExecuteTime": {
     "end_time": "2023-08-03T10:17:54.327605Z",
     "start_time": "2023-08-03T10:17:51.116606Z"
    }
   }
  },
  {
   "cell_type": "code",
   "execution_count": 20,
   "outputs": [],
   "source": [
    "org_control_label_space = LabelEmbeddings(lexicons=[Liwc2015(), Values()], word_embeddings=control_word_space).build()"
   ],
   "metadata": {
    "collapsed": false,
    "ExecuteTime": {
     "end_time": "2023-08-03T10:17:56.217109Z",
     "start_time": "2023-08-03T10:17:54.327427Z"
    }
   }
  },
  {
   "cell_type": "code",
   "execution_count": 21,
   "outputs": [],
   "source": [
    "expanded_control_label_space = LabelEmbeddings(lexicons=[Liwc2015Expanded(), ValuesExpanded()], word_embeddings=control_word_space).build()"
   ],
   "metadata": {
    "collapsed": false
   }
  },
  {
   "cell_type": "markdown",
   "source": [
    "Build Cohort Spaces"
   ],
   "metadata": {
    "collapsed": false
   }
  },
  {
   "cell_type": "code",
   "execution_count": 22,
   "outputs": [],
   "source": [
    "cohort_word_space = WordEmbeddings(corpus_path=cohort_corpus_path, model_path=cohort_models_path).build()"
   ],
   "metadata": {
    "collapsed": false,
    "ExecuteTime": {
     "end_time": "2023-08-03T10:18:13.328131Z",
     "start_time": "2023-08-03T10:16:07.750482Z"
    }
   }
  },
  {
   "cell_type": "code",
   "execution_count": 23,
   "outputs": [],
   "source": [
    "org_cohort_label_space = LabelEmbeddings(lexicons=[Liwc2015(), Values()], word_embeddings=cohort_word_space).build()"
   ],
   "metadata": {
    "collapsed": false,
    "ExecuteTime": {
     "end_time": "2023-08-03T10:18:14.328454Z",
     "start_time": "2023-08-03T10:17:32.564455Z"
    }
   }
  },
  {
   "cell_type": "code",
   "execution_count": 24,
   "outputs": [],
   "source": [
    "expanded_cohort_label_space = LabelEmbeddings(lexicons=[Liwc2015Expanded(), ValuesExpanded()], word_embeddings=cohort_word_space).build()"
   ],
   "metadata": {
    "collapsed": false,
    "ExecuteTime": {
     "end_time": "2023-08-03T10:18:31.178269Z",
     "start_time": "2023-08-03T10:17:33.425120Z"
    }
   }
  },
  {
   "cell_type": "markdown",
   "source": [
    "Save and view results"
   ],
   "metadata": {
    "collapsed": false
   }
  },
  {
   "cell_type": "code",
   "execution_count": 25,
   "outputs": [],
   "source": [
    "def save_if_not_save_and_return(space: LabelEmbeddings, path: str):\n",
    "\tif not Path(path).exists():\n",
    "\t\tspace.save_distances_to_csv(path)\n",
    "\treturn pd.read_csv(path, names=['label_one', 'label_two', 'distance'])\n",
    "\n",
    "control_ranks = save_if_not_save_and_return(org_control_label_space, control_ranks_csv)\n",
    "expanded_control_ranks = save_if_not_save_and_return(expanded_control_label_space, expanded_control_ranks_csv)\n",
    "\n",
    "cohort_ranks = save_if_not_save_and_return(org_cohort_label_space, cohort_ranks_csv)\n",
    "expanded_cohort_ranks = save_if_not_save_and_return(expanded_cohort_label_space, expanded_cohort_ranks_csv)"
   ],
   "metadata": {
    "collapsed": false,
    "ExecuteTime": {
     "end_time": "2023-08-03T10:18:31.206669Z",
     "start_time": "2023-08-03T10:17:50.811101Z"
    }
   }
  },
  {
   "cell_type": "code",
   "execution_count": 26,
   "outputs": [],
   "source": [
    "org_cohort_label_space.compute_rank_deltas(org_control_label_space, relative_ranks_csv)\n",
    "relative_ranks = pd.read_csv(relative_ranks_csv, names=['label_one', 'label_two', 'current_rank', 'control_rank', 'current_distance', 'control_distance', 'rank_delta', 'distance_delta'])\n",
    "\n",
    "expanded_cohort_label_space.compute_rank_deltas(expanded_control_label_space, expanded_relative_ranks_csv)\n",
    "expanded_relative_ranks = pd.read_csv(expanded_relative_ranks_csv, names=['label_one', 'label_two', 'current_rank', 'control_rank', 'current_distance', 'control_distance', 'rank_delta', 'distance_delta'])"
   ],
   "metadata": {
    "collapsed": false,
    "ExecuteTime": {
     "end_time": "2023-08-03T10:18:31.333798Z",
     "start_time": "2023-08-03T10:17:50.842662Z"
    }
   }
  },
  {
   "cell_type": "markdown",
   "source": [
    "View Stuff"
   ],
   "metadata": {
    "collapsed": false
   }
  },
  {
   "cell_type": "code",
   "execution_count": 27,
   "outputs": [
    {
     "data": {
      "text/plain": "              label_one            label_two  current_rank  control_rank  \\\n0     liwc2015:function  values:feeling-good            76            43   \n1     liwc2015:function         values:truth            78            55   \n2     liwc2015:function      values:children            72            50   \n3     liwc2015:function       values:animals            81            64   \n4     liwc2015:function      liwc2015:posemo            47            32   \n...                 ...                  ...           ...           ...   \n6967     values:animals        liwc2015:home             3            68   \n6968     values:animals         values:truth             2            71   \n6969     values:animals        liwc2015:male            12            82   \n6970     values:animals        liwc2015:body             5            77   \n6971     values:animals      values:children             4            76   \n\n      current_distance  control_distance  rank_delta  distance_delta  \n0             0.595167          0.499940          33        0.095227  \n1             0.673343          0.713501          23       -0.040158  \n2             0.303095          0.680796          22       -0.377701  \n3             0.957955          0.794112          17        0.163843  \n4             0.026139          0.259349          15       -0.233209  \n...                ...               ...         ...             ...  \n6967          0.904813          0.975827         -65       -0.071013  \n6968          0.877259          0.982374         -69       -0.105116  \n6969          0.934944          1.117406         -70       -0.182462  \n6970          0.921115          1.040876         -72       -0.119761  \n6971          0.910941          1.028190         -72       -0.117249  \n\n[6972 rows x 8 columns]",
      "text/html": "<div>\n<style scoped>\n    .dataframe tbody tr th:only-of-type {\n        vertical-align: middle;\n    }\n\n    .dataframe tbody tr th {\n        vertical-align: top;\n    }\n\n    .dataframe thead th {\n        text-align: right;\n    }\n</style>\n<table border=\"1\" class=\"dataframe\">\n  <thead>\n    <tr style=\"text-align: right;\">\n      <th></th>\n      <th>label_one</th>\n      <th>label_two</th>\n      <th>current_rank</th>\n      <th>control_rank</th>\n      <th>current_distance</th>\n      <th>control_distance</th>\n      <th>rank_delta</th>\n      <th>distance_delta</th>\n    </tr>\n  </thead>\n  <tbody>\n    <tr>\n      <th>0</th>\n      <td>liwc2015:function</td>\n      <td>values:feeling-good</td>\n      <td>76</td>\n      <td>43</td>\n      <td>0.595167</td>\n      <td>0.499940</td>\n      <td>33</td>\n      <td>0.095227</td>\n    </tr>\n    <tr>\n      <th>1</th>\n      <td>liwc2015:function</td>\n      <td>values:truth</td>\n      <td>78</td>\n      <td>55</td>\n      <td>0.673343</td>\n      <td>0.713501</td>\n      <td>23</td>\n      <td>-0.040158</td>\n    </tr>\n    <tr>\n      <th>2</th>\n      <td>liwc2015:function</td>\n      <td>values:children</td>\n      <td>72</td>\n      <td>50</td>\n      <td>0.303095</td>\n      <td>0.680796</td>\n      <td>22</td>\n      <td>-0.377701</td>\n    </tr>\n    <tr>\n      <th>3</th>\n      <td>liwc2015:function</td>\n      <td>values:animals</td>\n      <td>81</td>\n      <td>64</td>\n      <td>0.957955</td>\n      <td>0.794112</td>\n      <td>17</td>\n      <td>0.163843</td>\n    </tr>\n    <tr>\n      <th>4</th>\n      <td>liwc2015:function</td>\n      <td>liwc2015:posemo</td>\n      <td>47</td>\n      <td>32</td>\n      <td>0.026139</td>\n      <td>0.259349</td>\n      <td>15</td>\n      <td>-0.233209</td>\n    </tr>\n    <tr>\n      <th>...</th>\n      <td>...</td>\n      <td>...</td>\n      <td>...</td>\n      <td>...</td>\n      <td>...</td>\n      <td>...</td>\n      <td>...</td>\n      <td>...</td>\n    </tr>\n    <tr>\n      <th>6967</th>\n      <td>values:animals</td>\n      <td>liwc2015:home</td>\n      <td>3</td>\n      <td>68</td>\n      <td>0.904813</td>\n      <td>0.975827</td>\n      <td>-65</td>\n      <td>-0.071013</td>\n    </tr>\n    <tr>\n      <th>6968</th>\n      <td>values:animals</td>\n      <td>values:truth</td>\n      <td>2</td>\n      <td>71</td>\n      <td>0.877259</td>\n      <td>0.982374</td>\n      <td>-69</td>\n      <td>-0.105116</td>\n    </tr>\n    <tr>\n      <th>6969</th>\n      <td>values:animals</td>\n      <td>liwc2015:male</td>\n      <td>12</td>\n      <td>82</td>\n      <td>0.934944</td>\n      <td>1.117406</td>\n      <td>-70</td>\n      <td>-0.182462</td>\n    </tr>\n    <tr>\n      <th>6970</th>\n      <td>values:animals</td>\n      <td>liwc2015:body</td>\n      <td>5</td>\n      <td>77</td>\n      <td>0.921115</td>\n      <td>1.040876</td>\n      <td>-72</td>\n      <td>-0.119761</td>\n    </tr>\n    <tr>\n      <th>6971</th>\n      <td>values:animals</td>\n      <td>values:children</td>\n      <td>4</td>\n      <td>76</td>\n      <td>0.910941</td>\n      <td>1.028190</td>\n      <td>-72</td>\n      <td>-0.117249</td>\n    </tr>\n  </tbody>\n</table>\n<p>6972 rows × 8 columns</p>\n</div>"
     },
     "execution_count": 13,
     "metadata": {},
     "output_type": "execute_result"
    },
    {
     "data": {
      "text/plain": "              label_one            label_two  current_rank  control_rank  \\\n0     liwc2015:function  values:feeling-good            76            43   \n1     liwc2015:function         values:truth            78            55   \n2     liwc2015:function      values:children            72            50   \n3     liwc2015:function       values:animals            81            64   \n4     liwc2015:function      liwc2015:posemo            47            32   \n...                 ...                  ...           ...           ...   \n6967     values:animals        liwc2015:home             3            68   \n6968     values:animals         values:truth             2            71   \n6969     values:animals        liwc2015:male            12            82   \n6970     values:animals        liwc2015:body             5            77   \n6971     values:animals      values:children             4            76   \n\n      current_distance  control_distance  rank_delta  distance_delta  \n0             0.595167          0.499940          33        0.095227  \n1             0.673343          0.713501          23       -0.040158  \n2             0.303095          0.680796          22       -0.377701  \n3             0.957955          0.794112          17        0.163843  \n4             0.026139          0.259349          15       -0.233209  \n...                ...               ...         ...             ...  \n6967          0.904813          0.975827         -65       -0.071013  \n6968          0.877259          0.982374         -69       -0.105116  \n6969          0.934944          1.117406         -70       -0.182462  \n6970          0.921115          1.040876         -72       -0.119761  \n6971          0.910941          1.028190         -72       -0.117249  \n\n[6972 rows x 8 columns]",
      "text/html": "<div>\n<style scoped>\n    .dataframe tbody tr th:only-of-type {\n        vertical-align: middle;\n    }\n\n    .dataframe tbody tr th {\n        vertical-align: top;\n    }\n\n    .dataframe thead th {\n        text-align: right;\n    }\n</style>\n<table border=\"1\" class=\"dataframe\">\n  <thead>\n    <tr style=\"text-align: right;\">\n      <th></th>\n      <th>label_one</th>\n      <th>label_two</th>\n      <th>current_rank</th>\n      <th>control_rank</th>\n      <th>current_distance</th>\n      <th>control_distance</th>\n      <th>rank_delta</th>\n      <th>distance_delta</th>\n    </tr>\n  </thead>\n  <tbody>\n    <tr>\n      <th>0</th>\n      <td>liwc2015:function</td>\n      <td>values:feeling-good</td>\n      <td>76</td>\n      <td>43</td>\n      <td>0.595167</td>\n      <td>0.499940</td>\n      <td>33</td>\n      <td>0.095227</td>\n    </tr>\n    <tr>\n      <th>1</th>\n      <td>liwc2015:function</td>\n      <td>values:truth</td>\n      <td>78</td>\n      <td>55</td>\n      <td>0.673343</td>\n      <td>0.713501</td>\n      <td>23</td>\n      <td>-0.040158</td>\n    </tr>\n    <tr>\n      <th>2</th>\n      <td>liwc2015:function</td>\n      <td>values:children</td>\n      <td>72</td>\n      <td>50</td>\n      <td>0.303095</td>\n      <td>0.680796</td>\n      <td>22</td>\n      <td>-0.377701</td>\n    </tr>\n    <tr>\n      <th>3</th>\n      <td>liwc2015:function</td>\n      <td>values:animals</td>\n      <td>81</td>\n      <td>64</td>\n      <td>0.957955</td>\n      <td>0.794112</td>\n      <td>17</td>\n      <td>0.163843</td>\n    </tr>\n    <tr>\n      <th>4</th>\n      <td>liwc2015:function</td>\n      <td>liwc2015:posemo</td>\n      <td>47</td>\n      <td>32</td>\n      <td>0.026139</td>\n      <td>0.259349</td>\n      <td>15</td>\n      <td>-0.233209</td>\n    </tr>\n    <tr>\n      <th>...</th>\n      <td>...</td>\n      <td>...</td>\n      <td>...</td>\n      <td>...</td>\n      <td>...</td>\n      <td>...</td>\n      <td>...</td>\n      <td>...</td>\n    </tr>\n    <tr>\n      <th>6967</th>\n      <td>values:animals</td>\n      <td>liwc2015:home</td>\n      <td>3</td>\n      <td>68</td>\n      <td>0.904813</td>\n      <td>0.975827</td>\n      <td>-65</td>\n      <td>-0.071013</td>\n    </tr>\n    <tr>\n      <th>6968</th>\n      <td>values:animals</td>\n      <td>values:truth</td>\n      <td>2</td>\n      <td>71</td>\n      <td>0.877259</td>\n      <td>0.982374</td>\n      <td>-69</td>\n      <td>-0.105116</td>\n    </tr>\n    <tr>\n      <th>6969</th>\n      <td>values:animals</td>\n      <td>liwc2015:male</td>\n      <td>12</td>\n      <td>82</td>\n      <td>0.934944</td>\n      <td>1.117406</td>\n      <td>-70</td>\n      <td>-0.182462</td>\n    </tr>\n    <tr>\n      <th>6970</th>\n      <td>values:animals</td>\n      <td>liwc2015:body</td>\n      <td>5</td>\n      <td>77</td>\n      <td>0.921115</td>\n      <td>1.040876</td>\n      <td>-72</td>\n      <td>-0.119761</td>\n    </tr>\n    <tr>\n      <th>6971</th>\n      <td>values:animals</td>\n      <td>values:children</td>\n      <td>4</td>\n      <td>76</td>\n      <td>0.910941</td>\n      <td>1.028190</td>\n      <td>-72</td>\n      <td>-0.117249</td>\n    </tr>\n  </tbody>\n</table>\n<p>6972 rows × 8 columns</p>\n</div>"
     },
     "execution_count": 27,
     "metadata": {},
     "output_type": "execute_result"
    }
   ],
   "source": [
    "relative_ranks"
   ],
   "metadata": {
    "collapsed": false,
    "ExecuteTime": {
     "end_time": "2023-08-03T10:18:31.343972Z",
     "start_time": "2023-08-03T10:17:50.949401Z"
    }
   }
  },
  {
   "cell_type": "code",
   "execution_count": 28,
   "outputs": [
    {
     "data": {
      "text/plain": "              label_one          label_two  current_rank  control_rank  \\\n0     liwc2015:function    liwc2015:posemo            53            34   \n1     liwc2015:function    liwc2015:nonflu            79            65   \n2     liwc2015:function     liwc2015:money            72            58   \n3     liwc2015:function  liwc2015:pconcern            67            54   \n4     liwc2015:function       liwc2015:sad            70            57   \n...                 ...                ...           ...           ...   \n7135     liwc2015:death   liwc2015:discrep            11            61   \n7136     liwc2015:death  liwc2015:pconcern             3            57   \n7137     liwc2015:death  liwc2015:informal             1            65   \n7138     liwc2015:death    liwc2015:nonflu             6            77   \n7139     liwc2015:death     liwc2015:money             0            78   \n\n      current_distance  control_distance  rank_delta  distance_delta  \n0             0.026139          0.259349          19       -0.233209  \n1             0.327410          0.754531          14       -0.427121  \n2             0.119109          0.681783          14       -0.562674  \n3             0.099536          0.624154          13       -0.524618  \n4             0.110813          0.666393          13       -0.555579  \n...                ...               ...         ...             ...  \n7135          0.757361          0.980766         -50       -0.223406  \n7136          0.744971          0.974575         -54       -0.229603  \n7137          0.740628          1.004945         -64       -0.264316  \n7138          0.746120          1.086080         -71       -0.339960  \n7139          0.739865          1.098722         -78       -0.358858  \n\n[7140 rows x 8 columns]",
      "text/html": "<div>\n<style scoped>\n    .dataframe tbody tr th:only-of-type {\n        vertical-align: middle;\n    }\n\n    .dataframe tbody tr th {\n        vertical-align: top;\n    }\n\n    .dataframe thead th {\n        text-align: right;\n    }\n</style>\n<table border=\"1\" class=\"dataframe\">\n  <thead>\n    <tr style=\"text-align: right;\">\n      <th></th>\n      <th>label_one</th>\n      <th>label_two</th>\n      <th>current_rank</th>\n      <th>control_rank</th>\n      <th>current_distance</th>\n      <th>control_distance</th>\n      <th>rank_delta</th>\n      <th>distance_delta</th>\n    </tr>\n  </thead>\n  <tbody>\n    <tr>\n      <th>0</th>\n      <td>liwc2015:function</td>\n      <td>liwc2015:posemo</td>\n      <td>53</td>\n      <td>34</td>\n      <td>0.026139</td>\n      <td>0.259349</td>\n      <td>19</td>\n      <td>-0.233209</td>\n    </tr>\n    <tr>\n      <th>1</th>\n      <td>liwc2015:function</td>\n      <td>liwc2015:nonflu</td>\n      <td>79</td>\n      <td>65</td>\n      <td>0.327410</td>\n      <td>0.754531</td>\n      <td>14</td>\n      <td>-0.427121</td>\n    </tr>\n    <tr>\n      <th>2</th>\n      <td>liwc2015:function</td>\n      <td>liwc2015:money</td>\n      <td>72</td>\n      <td>58</td>\n      <td>0.119109</td>\n      <td>0.681783</td>\n      <td>14</td>\n      <td>-0.562674</td>\n    </tr>\n    <tr>\n      <th>3</th>\n      <td>liwc2015:function</td>\n      <td>liwc2015:pconcern</td>\n      <td>67</td>\n      <td>54</td>\n      <td>0.099536</td>\n      <td>0.624154</td>\n      <td>13</td>\n      <td>-0.524618</td>\n    </tr>\n    <tr>\n      <th>4</th>\n      <td>liwc2015:function</td>\n      <td>liwc2015:sad</td>\n      <td>70</td>\n      <td>57</td>\n      <td>0.110813</td>\n      <td>0.666393</td>\n      <td>13</td>\n      <td>-0.555579</td>\n    </tr>\n    <tr>\n      <th>...</th>\n      <td>...</td>\n      <td>...</td>\n      <td>...</td>\n      <td>...</td>\n      <td>...</td>\n      <td>...</td>\n      <td>...</td>\n      <td>...</td>\n    </tr>\n    <tr>\n      <th>7135</th>\n      <td>liwc2015:death</td>\n      <td>liwc2015:discrep</td>\n      <td>11</td>\n      <td>61</td>\n      <td>0.757361</td>\n      <td>0.980766</td>\n      <td>-50</td>\n      <td>-0.223406</td>\n    </tr>\n    <tr>\n      <th>7136</th>\n      <td>liwc2015:death</td>\n      <td>liwc2015:pconcern</td>\n      <td>3</td>\n      <td>57</td>\n      <td>0.744971</td>\n      <td>0.974575</td>\n      <td>-54</td>\n      <td>-0.229603</td>\n    </tr>\n    <tr>\n      <th>7137</th>\n      <td>liwc2015:death</td>\n      <td>liwc2015:informal</td>\n      <td>1</td>\n      <td>65</td>\n      <td>0.740628</td>\n      <td>1.004945</td>\n      <td>-64</td>\n      <td>-0.264316</td>\n    </tr>\n    <tr>\n      <th>7138</th>\n      <td>liwc2015:death</td>\n      <td>liwc2015:nonflu</td>\n      <td>6</td>\n      <td>77</td>\n      <td>0.746120</td>\n      <td>1.086080</td>\n      <td>-71</td>\n      <td>-0.339960</td>\n    </tr>\n    <tr>\n      <th>7139</th>\n      <td>liwc2015:death</td>\n      <td>liwc2015:money</td>\n      <td>0</td>\n      <td>78</td>\n      <td>0.739865</td>\n      <td>1.098722</td>\n      <td>-78</td>\n      <td>-0.358858</td>\n    </tr>\n  </tbody>\n</table>\n<p>7140 rows × 8 columns</p>\n</div>"
     },
     "execution_count": 14,
     "metadata": {},
     "output_type": "execute_result"
    },
    {
     "data": {
      "text/plain": "              label_one          label_two  current_rank  control_rank  \\\n0     liwc2015:function    liwc2015:posemo            53            34   \n1     liwc2015:function    liwc2015:nonflu            79            65   \n2     liwc2015:function     liwc2015:money            72            58   \n3     liwc2015:function  liwc2015:pconcern            67            54   \n4     liwc2015:function       liwc2015:sad            70            57   \n...                 ...                ...           ...           ...   \n7135     liwc2015:death   liwc2015:discrep            11            61   \n7136     liwc2015:death  liwc2015:pconcern             3            57   \n7137     liwc2015:death  liwc2015:informal             1            65   \n7138     liwc2015:death    liwc2015:nonflu             6            77   \n7139     liwc2015:death     liwc2015:money             0            78   \n\n      current_distance  control_distance  rank_delta  distance_delta  \n0             0.026139          0.259349          19       -0.233209  \n1             0.327410          0.754531          14       -0.427121  \n2             0.119109          0.681783          14       -0.562674  \n3             0.099536          0.624154          13       -0.524618  \n4             0.110813          0.666393          13       -0.555579  \n...                ...               ...         ...             ...  \n7135          0.757361          0.980766         -50       -0.223406  \n7136          0.744971          0.974575         -54       -0.229603  \n7137          0.740628          1.004945         -64       -0.264316  \n7138          0.746120          1.086080         -71       -0.339960  \n7139          0.739865          1.098722         -78       -0.358858  \n\n[7140 rows x 8 columns]",
      "text/html": "<div>\n<style scoped>\n    .dataframe tbody tr th:only-of-type {\n        vertical-align: middle;\n    }\n\n    .dataframe tbody tr th {\n        vertical-align: top;\n    }\n\n    .dataframe thead th {\n        text-align: right;\n    }\n</style>\n<table border=\"1\" class=\"dataframe\">\n  <thead>\n    <tr style=\"text-align: right;\">\n      <th></th>\n      <th>label_one</th>\n      <th>label_two</th>\n      <th>current_rank</th>\n      <th>control_rank</th>\n      <th>current_distance</th>\n      <th>control_distance</th>\n      <th>rank_delta</th>\n      <th>distance_delta</th>\n    </tr>\n  </thead>\n  <tbody>\n    <tr>\n      <th>0</th>\n      <td>liwc2015:function</td>\n      <td>liwc2015:posemo</td>\n      <td>53</td>\n      <td>34</td>\n      <td>0.026139</td>\n      <td>0.259349</td>\n      <td>19</td>\n      <td>-0.233209</td>\n    </tr>\n    <tr>\n      <th>1</th>\n      <td>liwc2015:function</td>\n      <td>liwc2015:nonflu</td>\n      <td>79</td>\n      <td>65</td>\n      <td>0.327410</td>\n      <td>0.754531</td>\n      <td>14</td>\n      <td>-0.427121</td>\n    </tr>\n    <tr>\n      <th>2</th>\n      <td>liwc2015:function</td>\n      <td>liwc2015:money</td>\n      <td>72</td>\n      <td>58</td>\n      <td>0.119109</td>\n      <td>0.681783</td>\n      <td>14</td>\n      <td>-0.562674</td>\n    </tr>\n    <tr>\n      <th>3</th>\n      <td>liwc2015:function</td>\n      <td>liwc2015:pconcern</td>\n      <td>67</td>\n      <td>54</td>\n      <td>0.099536</td>\n      <td>0.624154</td>\n      <td>13</td>\n      <td>-0.524618</td>\n    </tr>\n    <tr>\n      <th>4</th>\n      <td>liwc2015:function</td>\n      <td>liwc2015:sad</td>\n      <td>70</td>\n      <td>57</td>\n      <td>0.110813</td>\n      <td>0.666393</td>\n      <td>13</td>\n      <td>-0.555579</td>\n    </tr>\n    <tr>\n      <th>...</th>\n      <td>...</td>\n      <td>...</td>\n      <td>...</td>\n      <td>...</td>\n      <td>...</td>\n      <td>...</td>\n      <td>...</td>\n      <td>...</td>\n    </tr>\n    <tr>\n      <th>7135</th>\n      <td>liwc2015:death</td>\n      <td>liwc2015:discrep</td>\n      <td>11</td>\n      <td>61</td>\n      <td>0.757361</td>\n      <td>0.980766</td>\n      <td>-50</td>\n      <td>-0.223406</td>\n    </tr>\n    <tr>\n      <th>7136</th>\n      <td>liwc2015:death</td>\n      <td>liwc2015:pconcern</td>\n      <td>3</td>\n      <td>57</td>\n      <td>0.744971</td>\n      <td>0.974575</td>\n      <td>-54</td>\n      <td>-0.229603</td>\n    </tr>\n    <tr>\n      <th>7137</th>\n      <td>liwc2015:death</td>\n      <td>liwc2015:informal</td>\n      <td>1</td>\n      <td>65</td>\n      <td>0.740628</td>\n      <td>1.004945</td>\n      <td>-64</td>\n      <td>-0.264316</td>\n    </tr>\n    <tr>\n      <th>7138</th>\n      <td>liwc2015:death</td>\n      <td>liwc2015:nonflu</td>\n      <td>6</td>\n      <td>77</td>\n      <td>0.746120</td>\n      <td>1.086080</td>\n      <td>-71</td>\n      <td>-0.339960</td>\n    </tr>\n    <tr>\n      <th>7139</th>\n      <td>liwc2015:death</td>\n      <td>liwc2015:money</td>\n      <td>0</td>\n      <td>78</td>\n      <td>0.739865</td>\n      <td>1.098722</td>\n      <td>-78</td>\n      <td>-0.358858</td>\n    </tr>\n  </tbody>\n</table>\n<p>7140 rows × 8 columns</p>\n</div>"
     },
     "execution_count": 28,
     "metadata": {},
     "output_type": "execute_result"
    }
   ],
   "source": [
    "expanded_relative_ranks"
   ],
   "metadata": {
    "collapsed": false,
    "ExecuteTime": {
     "end_time": "2023-08-03T10:18:31.434789Z",
     "start_time": "2023-08-03T10:17:50.963464Z"
    }
   }
  }
 ],
 "metadata": {
  "kernelspec": {
   "display_name": "Python 3",
   "language": "python",
   "name": "python3"
  },
  "language_info": {
   "codemirror_mode": {
    "name": "ipython",
    "version": 2
   },
   "file_extension": ".py",
   "mimetype": "text/x-python",
   "name": "python",
   "nbconvert_exporter": "python",
   "pygments_lexer": "ipython2",
   "version": "2.7.6"
  }
 },
 "nbformat": 4,
 "nbformat_minor": 0
}
