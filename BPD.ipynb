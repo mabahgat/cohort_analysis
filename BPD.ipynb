{
 "cells": [
  {
   "cell_type": "markdown",
   "source": [
    "\n",
    "# Analysis Comparison between Original and Expanded Lexicons on Cohort Analysis Task\n",
    "\n",
    "Subreddit: BPD"
   ],
   "metadata": {
    "collapsed": false
   }
  },
  {
   "cell_type": "code",
   "execution_count": 1,
   "outputs": [],
   "source": [
    "from pathlib import Path\n",
    "import pandas as pd\n",
    "\n",
    "from config import global_config\n",
    "from lexicons2 import Values, ValuesExpanded, Liwc2015, Liwc2015Expanded\n",
    "from spaces import WordEmbeddings, LabelEmbeddings"
   ],
   "metadata": {
    "collapsed": false,
    "ExecuteTime": {
     "end_time": "2023-08-03T10:22:44.592694Z",
     "start_time": "2023-08-03T10:22:43.940311Z"
    }
   }
  },
  {
   "cell_type": "code",
   "execution_count": 2,
   "outputs": [],
   "source": [
    "COHORT_NAME = 'BPD'"
   ],
   "metadata": {
    "collapsed": false,
    "ExecuteTime": {
     "end_time": "2023-08-03T10:22:44.598319Z",
     "start_time": "2023-08-03T10:22:44.592203Z"
    }
   }
  },
  {
   "cell_type": "code",
   "execution_count": 3,
   "outputs": [],
   "source": [
    "cohort_corpus_path = global_config.reddit.submissions[COHORT_NAME]\n",
    "cohort_models_path = f'{global_config.paths.models}/{COHORT_NAME}'\n",
    "\n",
    "control_corpus_path = global_config.reddit.submissions['IAMA']\n",
    "control_models_path = f'{global_config.paths.models}/IAMA'"
   ],
   "metadata": {
    "collapsed": false,
    "ExecuteTime": {
     "end_time": "2023-08-03T10:22:44.603114Z",
     "start_time": "2023-08-03T10:22:44.598118Z"
    }
   }
  },
  {
   "cell_type": "code",
   "execution_count": 4,
   "outputs": [],
   "source": [
    "cohort_ranks_csv = f'{global_config.paths.ranks}/{COHORT_NAME}_ranks.csv'\n",
    "expanded_cohort_ranks_csv = f'{global_config.paths.ranks}/{COHORT_NAME}_ranks_expanded.csv'\n",
    "\n",
    "control_ranks_csv = f'{global_config.paths.ranks}/IAMA_ranks.csv'\n",
    "expanded_control_ranks_csv = f'{global_config.paths.ranks}/IAMA_ranks_expanded.csv'\n",
    "\n",
    "relative_ranks_csv = f'{global_config.paths.ranks}/{COHORT_NAME}_relative-ranks.csv'\n",
    "expanded_relative_ranks_csv = f'{global_config.paths.ranks}/{COHORT_NAME}_relative-ranks_expanded.csv'"
   ],
   "metadata": {
    "collapsed": false,
    "ExecuteTime": {
     "end_time": "2023-08-03T10:22:44.682756Z",
     "start_time": "2023-08-03T10:22:44.682207Z"
    }
   }
  },
  {
   "cell_type": "markdown",
   "source": [
    "Build Control Spaces"
   ],
   "metadata": {
    "collapsed": false
   }
  },
  {
   "cell_type": "code",
   "execution_count": 5,
   "outputs": [],
   "source": [
    "control_word_space = WordEmbeddings(corpus_path=control_corpus_path, model_path=control_models_path).build()"
   ],
   "metadata": {
    "collapsed": false,
    "ExecuteTime": {
     "end_time": "2023-08-03T10:22:48.258373Z",
     "start_time": "2023-08-03T10:22:44.682483Z"
    }
   }
  },
  {
   "cell_type": "code",
   "execution_count": 6,
   "outputs": [],
   "source": [
    "org_control_label_space = LabelEmbeddings(lexicons=[Liwc2015(), Values()], word_embeddings=control_word_space).build()"
   ],
   "metadata": {
    "collapsed": false,
    "ExecuteTime": {
     "end_time": "2023-08-03T10:22:50.195598Z",
     "start_time": "2023-08-03T10:22:48.257712Z"
    }
   }
  },
  {
   "cell_type": "code",
   "execution_count": 7,
   "outputs": [],
   "source": [
    "expanded_control_label_space = LabelEmbeddings(lexicons=[Liwc2015Expanded(), ValuesExpanded()], word_embeddings=control_word_space).build()"
   ],
   "metadata": {
    "collapsed": false,
    "ExecuteTime": {
     "end_time": "2023-08-03T10:23:12.983102Z",
     "start_time": "2023-08-03T10:22:50.197813Z"
    }
   }
  },
  {
   "cell_type": "markdown",
   "source": [
    "Build Cohort Spaces"
   ],
   "metadata": {
    "collapsed": false
   }
  },
  {
   "cell_type": "code",
   "execution_count": 8,
   "outputs": [],
   "source": [
    "cohort_word_space = WordEmbeddings(corpus_path=cohort_corpus_path, model_path=cohort_models_path).build()"
   ],
   "metadata": {
    "collapsed": false,
    "ExecuteTime": {
     "end_time": "2023-08-03T10:26:11.247746Z",
     "start_time": "2023-08-03T10:23:12.986292Z"
    }
   }
  },
  {
   "cell_type": "code",
   "execution_count": 9,
   "outputs": [],
   "source": [
    "org_cohort_label_space = LabelEmbeddings(lexicons=[Liwc2015(), Values()], word_embeddings=cohort_word_space).build()"
   ],
   "metadata": {
    "collapsed": false,
    "ExecuteTime": {
     "end_time": "2023-08-03T10:26:12.373818Z",
     "start_time": "2023-08-03T10:26:11.248282Z"
    }
   }
  },
  {
   "cell_type": "code",
   "execution_count": 10,
   "outputs": [],
   "source": [
    "expanded_cohort_label_space = LabelEmbeddings(lexicons=[Liwc2015Expanded(), ValuesExpanded()], word_embeddings=cohort_word_space).build()"
   ],
   "metadata": {
    "collapsed": false,
    "ExecuteTime": {
     "end_time": "2023-08-03T10:26:30.415736Z",
     "start_time": "2023-08-03T10:26:12.373117Z"
    }
   }
  },
  {
   "cell_type": "markdown",
   "source": [
    "Save and view results"
   ],
   "metadata": {
    "collapsed": false
   }
  },
  {
   "cell_type": "code",
   "execution_count": 11,
   "outputs": [],
   "source": [
    "def save_if_not_save_and_return(space: LabelEmbeddings, path: str):\n",
    "\tif not Path(path).exists():\n",
    "\t\tspace.save_distances_to_csv(path)\n",
    "\treturn pd.read_csv(path, names=['label_one', 'label_two', 'distance'])\n",
    "\n",
    "control_ranks = save_if_not_save_and_return(org_control_label_space, control_ranks_csv)\n",
    "expanded_control_ranks = save_if_not_save_and_return(expanded_control_label_space, expanded_control_ranks_csv)\n",
    "\n",
    "cohort_ranks = save_if_not_save_and_return(org_cohort_label_space, cohort_ranks_csv)\n",
    "expanded_cohort_ranks = save_if_not_save_and_return(expanded_cohort_label_space, expanded_cohort_ranks_csv)"
   ],
   "metadata": {
    "collapsed": false,
    "ExecuteTime": {
     "end_time": "2023-08-03T10:26:30.457762Z",
     "start_time": "2023-08-03T10:26:30.414591Z"
    }
   }
  },
  {
   "cell_type": "code",
   "execution_count": 12,
   "outputs": [],
   "source": [
    "org_cohort_label_space.compute_rank_deltas(org_control_label_space, relative_ranks_csv)\n",
    "relative_ranks = pd.read_csv(relative_ranks_csv, names=['label_one', 'label_two', 'current_rank', 'control_rank', 'current_distance', 'control_distance', 'rank_delta', 'distance_delta'])\n",
    "\n",
    "expanded_cohort_label_space.compute_rank_deltas(expanded_control_label_space, expanded_relative_ranks_csv)\n",
    "expanded_relative_ranks = pd.read_csv(expanded_relative_ranks_csv, names=['label_one', 'label_two', 'current_rank', 'control_rank', 'current_distance', 'control_distance', 'rank_delta', 'distance_delta'])"
   ],
   "metadata": {
    "collapsed": false,
    "ExecuteTime": {
     "end_time": "2023-08-03T10:26:30.544736Z",
     "start_time": "2023-08-03T10:26:30.455543Z"
    }
   }
  },
  {
   "cell_type": "markdown",
   "source": [
    "View Stuff"
   ],
   "metadata": {
    "collapsed": false
   }
  },
  {
   "cell_type": "code",
   "execution_count": 13,
   "outputs": [
    {
     "data": {
      "text/plain": "              label_one                label_two  current_rank  control_rank  \\\n0     liwc2015:function          values:learning            70            28   \n1     liwc2015:function      values:feeling-good            73            43   \n2     liwc2015:function            liwc2015:work            59            36   \n3     liwc2015:function           liwc2015:money            71            51   \n4     liwc2015:function           values:animals            82            64   \n...                 ...                      ...           ...           ...   \n6967     values:animals          liwc2015:assent             1            63   \n6968     values:animals          values:children             8            76   \n6969     values:animals          liwc2015:sexual             3            75   \n6970     values:animals             values:order             7            79   \n6971     values:animals  values:accepting-others             4            81   \n\n      current_distance  control_distance  rank_delta  distance_delta  \n0             0.241659          0.178845          42        0.062815  \n1             0.293116          0.499940          30       -0.206824  \n2             0.114591          0.336770          23       -0.222178  \n3             0.246038          0.681783          20       -0.435746  \n4             1.036170          0.794112          18        0.242059  \n...                ...               ...         ...             ...  \n6967          0.883170          0.948860         -62       -0.065689  \n6968          0.979765          1.028190         -68       -0.048425  \n6969          0.906185          1.021016         -72       -0.114831  \n6970          0.978004          1.078921         -72       -0.100918  \n6971          0.932953          1.114197         -77       -0.181244  \n\n[6972 rows x 8 columns]",
      "text/html": "<div>\n<style scoped>\n    .dataframe tbody tr th:only-of-type {\n        vertical-align: middle;\n    }\n\n    .dataframe tbody tr th {\n        vertical-align: top;\n    }\n\n    .dataframe thead th {\n        text-align: right;\n    }\n</style>\n<table border=\"1\" class=\"dataframe\">\n  <thead>\n    <tr style=\"text-align: right;\">\n      <th></th>\n      <th>label_one</th>\n      <th>label_two</th>\n      <th>current_rank</th>\n      <th>control_rank</th>\n      <th>current_distance</th>\n      <th>control_distance</th>\n      <th>rank_delta</th>\n      <th>distance_delta</th>\n    </tr>\n  </thead>\n  <tbody>\n    <tr>\n      <th>0</th>\n      <td>liwc2015:function</td>\n      <td>values:learning</td>\n      <td>70</td>\n      <td>28</td>\n      <td>0.241659</td>\n      <td>0.178845</td>\n      <td>42</td>\n      <td>0.062815</td>\n    </tr>\n    <tr>\n      <th>1</th>\n      <td>liwc2015:function</td>\n      <td>values:feeling-good</td>\n      <td>73</td>\n      <td>43</td>\n      <td>0.293116</td>\n      <td>0.499940</td>\n      <td>30</td>\n      <td>-0.206824</td>\n    </tr>\n    <tr>\n      <th>2</th>\n      <td>liwc2015:function</td>\n      <td>liwc2015:work</td>\n      <td>59</td>\n      <td>36</td>\n      <td>0.114591</td>\n      <td>0.336770</td>\n      <td>23</td>\n      <td>-0.222178</td>\n    </tr>\n    <tr>\n      <th>3</th>\n      <td>liwc2015:function</td>\n      <td>liwc2015:money</td>\n      <td>71</td>\n      <td>51</td>\n      <td>0.246038</td>\n      <td>0.681783</td>\n      <td>20</td>\n      <td>-0.435746</td>\n    </tr>\n    <tr>\n      <th>4</th>\n      <td>liwc2015:function</td>\n      <td>values:animals</td>\n      <td>82</td>\n      <td>64</td>\n      <td>1.036170</td>\n      <td>0.794112</td>\n      <td>18</td>\n      <td>0.242059</td>\n    </tr>\n    <tr>\n      <th>...</th>\n      <td>...</td>\n      <td>...</td>\n      <td>...</td>\n      <td>...</td>\n      <td>...</td>\n      <td>...</td>\n      <td>...</td>\n      <td>...</td>\n    </tr>\n    <tr>\n      <th>6967</th>\n      <td>values:animals</td>\n      <td>liwc2015:assent</td>\n      <td>1</td>\n      <td>63</td>\n      <td>0.883170</td>\n      <td>0.948860</td>\n      <td>-62</td>\n      <td>-0.065689</td>\n    </tr>\n    <tr>\n      <th>6968</th>\n      <td>values:animals</td>\n      <td>values:children</td>\n      <td>8</td>\n      <td>76</td>\n      <td>0.979765</td>\n      <td>1.028190</td>\n      <td>-68</td>\n      <td>-0.048425</td>\n    </tr>\n    <tr>\n      <th>6969</th>\n      <td>values:animals</td>\n      <td>liwc2015:sexual</td>\n      <td>3</td>\n      <td>75</td>\n      <td>0.906185</td>\n      <td>1.021016</td>\n      <td>-72</td>\n      <td>-0.114831</td>\n    </tr>\n    <tr>\n      <th>6970</th>\n      <td>values:animals</td>\n      <td>values:order</td>\n      <td>7</td>\n      <td>79</td>\n      <td>0.978004</td>\n      <td>1.078921</td>\n      <td>-72</td>\n      <td>-0.100918</td>\n    </tr>\n    <tr>\n      <th>6971</th>\n      <td>values:animals</td>\n      <td>values:accepting-others</td>\n      <td>4</td>\n      <td>81</td>\n      <td>0.932953</td>\n      <td>1.114197</td>\n      <td>-77</td>\n      <td>-0.181244</td>\n    </tr>\n  </tbody>\n</table>\n<p>6972 rows × 8 columns</p>\n</div>"
     },
     "execution_count": 13,
     "metadata": {},
     "output_type": "execute_result"
    }
   ],
   "source": [
    "relative_ranks"
   ],
   "metadata": {
    "collapsed": false,
    "ExecuteTime": {
     "end_time": "2023-08-03T10:26:30.570614Z",
     "start_time": "2023-08-03T10:26:30.548963Z"
    }
   }
  },
  {
   "cell_type": "code",
   "execution_count": 14,
   "outputs": [
    {
     "data": {
      "text/plain": "              label_one         label_two  current_rank  control_rank  \\\n0     liwc2015:function     liwc2015:work            68            39   \n1     liwc2015:function   liwc2015:posemo            51            34   \n2     liwc2015:function    liwc2015:money            75            58   \n3     liwc2015:function       liwc2015:we            41            25   \n4     liwc2015:function  liwc2015:discrep            39            26   \n...                 ...               ...           ...           ...   \n7135    liwc2015:ingest   liwc2015:tentat             3            54   \n7136    liwc2015:ingest    liwc2015:shehe            21            78   \n7137    liwc2015:ingest  liwc2015:compare             1            61   \n7138    liwc2015:ingest      liwc2015:adj             0            60   \n7139    liwc2015:ingest    liwc2015:space             8            72   \n\n      current_distance  control_distance  rank_delta  distance_delta  \n0             0.114591          0.336770          29       -0.222178  \n1             0.030827          0.259349          17       -0.228522  \n2             0.246038          0.681783          17       -0.435746  \n3             0.013967          0.130866          16       -0.116898  \n4             0.012835          0.131881          13       -0.119046  \n...                ...               ...         ...             ...  \n7135          0.256178          1.014663         -51       -0.758485  \n7136          0.261032          1.089677         -57       -0.828645  \n7137          0.246522          1.033294         -60       -0.786771  \n7138          0.245306          1.032501         -60       -0.787195  \n7139          0.257546          1.057702         -64       -0.800156  \n\n[7140 rows x 8 columns]",
      "text/html": "<div>\n<style scoped>\n    .dataframe tbody tr th:only-of-type {\n        vertical-align: middle;\n    }\n\n    .dataframe tbody tr th {\n        vertical-align: top;\n    }\n\n    .dataframe thead th {\n        text-align: right;\n    }\n</style>\n<table border=\"1\" class=\"dataframe\">\n  <thead>\n    <tr style=\"text-align: right;\">\n      <th></th>\n      <th>label_one</th>\n      <th>label_two</th>\n      <th>current_rank</th>\n      <th>control_rank</th>\n      <th>current_distance</th>\n      <th>control_distance</th>\n      <th>rank_delta</th>\n      <th>distance_delta</th>\n    </tr>\n  </thead>\n  <tbody>\n    <tr>\n      <th>0</th>\n      <td>liwc2015:function</td>\n      <td>liwc2015:work</td>\n      <td>68</td>\n      <td>39</td>\n      <td>0.114591</td>\n      <td>0.336770</td>\n      <td>29</td>\n      <td>-0.222178</td>\n    </tr>\n    <tr>\n      <th>1</th>\n      <td>liwc2015:function</td>\n      <td>liwc2015:posemo</td>\n      <td>51</td>\n      <td>34</td>\n      <td>0.030827</td>\n      <td>0.259349</td>\n      <td>17</td>\n      <td>-0.228522</td>\n    </tr>\n    <tr>\n      <th>2</th>\n      <td>liwc2015:function</td>\n      <td>liwc2015:money</td>\n      <td>75</td>\n      <td>58</td>\n      <td>0.246038</td>\n      <td>0.681783</td>\n      <td>17</td>\n      <td>-0.435746</td>\n    </tr>\n    <tr>\n      <th>3</th>\n      <td>liwc2015:function</td>\n      <td>liwc2015:we</td>\n      <td>41</td>\n      <td>25</td>\n      <td>0.013967</td>\n      <td>0.130866</td>\n      <td>16</td>\n      <td>-0.116898</td>\n    </tr>\n    <tr>\n      <th>4</th>\n      <td>liwc2015:function</td>\n      <td>liwc2015:discrep</td>\n      <td>39</td>\n      <td>26</td>\n      <td>0.012835</td>\n      <td>0.131881</td>\n      <td>13</td>\n      <td>-0.119046</td>\n    </tr>\n    <tr>\n      <th>...</th>\n      <td>...</td>\n      <td>...</td>\n      <td>...</td>\n      <td>...</td>\n      <td>...</td>\n      <td>...</td>\n      <td>...</td>\n      <td>...</td>\n    </tr>\n    <tr>\n      <th>7135</th>\n      <td>liwc2015:ingest</td>\n      <td>liwc2015:tentat</td>\n      <td>3</td>\n      <td>54</td>\n      <td>0.256178</td>\n      <td>1.014663</td>\n      <td>-51</td>\n      <td>-0.758485</td>\n    </tr>\n    <tr>\n      <th>7136</th>\n      <td>liwc2015:ingest</td>\n      <td>liwc2015:shehe</td>\n      <td>21</td>\n      <td>78</td>\n      <td>0.261032</td>\n      <td>1.089677</td>\n      <td>-57</td>\n      <td>-0.828645</td>\n    </tr>\n    <tr>\n      <th>7137</th>\n      <td>liwc2015:ingest</td>\n      <td>liwc2015:compare</td>\n      <td>1</td>\n      <td>61</td>\n      <td>0.246522</td>\n      <td>1.033294</td>\n      <td>-60</td>\n      <td>-0.786771</td>\n    </tr>\n    <tr>\n      <th>7138</th>\n      <td>liwc2015:ingest</td>\n      <td>liwc2015:adj</td>\n      <td>0</td>\n      <td>60</td>\n      <td>0.245306</td>\n      <td>1.032501</td>\n      <td>-60</td>\n      <td>-0.787195</td>\n    </tr>\n    <tr>\n      <th>7139</th>\n      <td>liwc2015:ingest</td>\n      <td>liwc2015:space</td>\n      <td>8</td>\n      <td>72</td>\n      <td>0.257546</td>\n      <td>1.057702</td>\n      <td>-64</td>\n      <td>-0.800156</td>\n    </tr>\n  </tbody>\n</table>\n<p>7140 rows × 8 columns</p>\n</div>"
     },
     "execution_count": 14,
     "metadata": {},
     "output_type": "execute_result"
    }
   ],
   "source": [
    "expanded_relative_ranks"
   ],
   "metadata": {
    "collapsed": false,
    "ExecuteTime": {
     "end_time": "2023-08-03T10:26:30.628204Z",
     "start_time": "2023-08-03T10:26:30.569160Z"
    }
   }
  },
  {
   "cell_type": "code",
   "execution_count": 14,
   "outputs": [],
   "source": [],
   "metadata": {
    "collapsed": false,
    "ExecuteTime": {
     "end_time": "2023-08-03T10:26:30.628428Z",
     "start_time": "2023-08-03T10:26:30.625637Z"
    }
   }
  }
 ],
 "metadata": {
  "kernelspec": {
   "display_name": "Python 3",
   "language": "python",
   "name": "python3"
  },
  "language_info": {
   "codemirror_mode": {
    "name": "ipython",
    "version": 2
   },
   "file_extension": ".py",
   "mimetype": "text/x-python",
   "name": "python",
   "nbconvert_exporter": "python",
   "pygments_lexer": "ipython2",
   "version": "2.7.6"
  }
 },
 "nbformat": 4,
 "nbformat_minor": 0
}
