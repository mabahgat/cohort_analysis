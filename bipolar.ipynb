{
 "cells": [
  {
   "cell_type": "markdown",
   "source": [
    "\n",
    "# Analysis Comparison between Original and Expanded Lexicons on Cohort Analysis Task\n",
    "\n",
    "Subreddit: bipolar"
   ],
   "metadata": {
    "collapsed": false
   }
  },
  {
   "cell_type": "code",
   "execution_count": 1,
   "outputs": [],
   "source": [
    "from pathlib import Path\n",
    "import pandas as pd\n",
    "\n",
    "from config import global_config\n",
    "from lexicons2 import Values, ValuesExpanded, Liwc2015, Liwc2015Expanded\n",
    "from spaces import WordEmbeddings, LabelEmbeddings"
   ],
   "metadata": {
    "collapsed": false,
    "ExecuteTime": {
     "end_time": "2023-08-03T10:22:04.693150Z",
     "start_time": "2023-08-03T10:22:04.012188Z"
    }
   }
  },
  {
   "cell_type": "code",
   "execution_count": 2,
   "outputs": [],
   "source": [
    "COHORT_NAME = 'bipolar'"
   ],
   "metadata": {
    "collapsed": false,
    "ExecuteTime": {
     "end_time": "2023-08-03T10:22:04.693605Z",
     "start_time": "2023-08-03T10:22:04.692814Z"
    }
   }
  },
  {
   "cell_type": "code",
   "execution_count": 3,
   "outputs": [],
   "source": [
    "cohort_corpus_path = global_config.reddit.submissions[COHORT_NAME]\n",
    "cohort_models_path = f'{global_config.paths.models}/{COHORT_NAME}'\n",
    "\n",
    "control_corpus_path = global_config.reddit.submissions['IAMA']\n",
    "control_models_path = f'{global_config.paths.models}/IAMA'"
   ],
   "metadata": {
    "collapsed": false,
    "ExecuteTime": {
     "end_time": "2023-08-03T10:22:04.696314Z",
     "start_time": "2023-08-03T10:22:04.693544Z"
    }
   }
  },
  {
   "cell_type": "code",
   "execution_count": 4,
   "outputs": [],
   "source": [
    "cohort_ranks_csv = f'{global_config.paths.ranks}/{COHORT_NAME}_ranks.csv'\n",
    "expanded_cohort_ranks_csv = f'{global_config.paths.ranks}/{COHORT_NAME}_ranks_expanded.csv'\n",
    "\n",
    "control_ranks_csv = f'{global_config.paths.ranks}/IAMA_ranks.csv'\n",
    "expanded_control_ranks_csv = f'{global_config.paths.ranks}/IAMA_ranks_expanded.csv'\n",
    "\n",
    "relative_ranks_csv = f'{global_config.paths.ranks}/{COHORT_NAME}_relative-ranks.csv'\n",
    "expanded_relative_ranks_csv = f'{global_config.paths.ranks}/{COHORT_NAME}_relative-ranks_expanded.csv'"
   ],
   "metadata": {
    "collapsed": false,
    "ExecuteTime": {
     "end_time": "2023-08-03T10:22:04.770338Z",
     "start_time": "2023-08-03T10:22:04.769337Z"
    }
   }
  },
  {
   "cell_type": "markdown",
   "source": [
    "Build Control Spaces"
   ],
   "metadata": {
    "collapsed": false
   }
  },
  {
   "cell_type": "code",
   "execution_count": 5,
   "outputs": [],
   "source": [
    "control_word_space = WordEmbeddings(corpus_path=control_corpus_path, model_path=control_models_path).build()"
   ],
   "metadata": {
    "collapsed": false,
    "ExecuteTime": {
     "end_time": "2023-08-03T10:22:08.929802Z",
     "start_time": "2023-08-03T10:22:04.770236Z"
    }
   }
  },
  {
   "cell_type": "code",
   "execution_count": 6,
   "outputs": [],
   "source": [
    "org_control_label_space = LabelEmbeddings(lexicons=[Liwc2015(), Values()], word_embeddings=control_word_space).build()"
   ],
   "metadata": {
    "collapsed": false,
    "ExecuteTime": {
     "end_time": "2023-08-03T10:22:10.833133Z",
     "start_time": "2023-08-03T10:22:08.929185Z"
    }
   }
  },
  {
   "cell_type": "code",
   "execution_count": 7,
   "outputs": [],
   "source": [
    "expanded_control_label_space = LabelEmbeddings(lexicons=[Liwc2015Expanded(), ValuesExpanded()], word_embeddings=control_word_space).build()"
   ],
   "metadata": {
    "collapsed": false,
    "ExecuteTime": {
     "end_time": "2023-08-03T10:22:31.733272Z",
     "start_time": "2023-08-03T10:22:10.832697Z"
    }
   }
  },
  {
   "cell_type": "markdown",
   "source": [
    "Build Cohort Spaces"
   ],
   "metadata": {
    "collapsed": false
   }
  },
  {
   "cell_type": "code",
   "execution_count": 8,
   "outputs": [],
   "source": [
    "cohort_word_space = WordEmbeddings(corpus_path=cohort_corpus_path, model_path=cohort_models_path).build()"
   ],
   "metadata": {
    "collapsed": false,
    "ExecuteTime": {
     "end_time": "2023-08-03T10:25:07.756696Z",
     "start_time": "2023-08-03T10:22:31.733111Z"
    }
   }
  },
  {
   "cell_type": "code",
   "execution_count": 9,
   "outputs": [],
   "source": [
    "org_cohort_label_space = LabelEmbeddings(lexicons=[Liwc2015(), Values()], word_embeddings=cohort_word_space).build()"
   ],
   "metadata": {
    "collapsed": false,
    "ExecuteTime": {
     "end_time": "2023-08-03T10:25:08.996892Z",
     "start_time": "2023-08-03T10:25:07.757430Z"
    }
   }
  },
  {
   "cell_type": "code",
   "execution_count": 10,
   "outputs": [],
   "source": [
    "expanded_cohort_label_space = LabelEmbeddings(lexicons=[Liwc2015Expanded(), ValuesExpanded()], word_embeddings=cohort_word_space).build()"
   ],
   "metadata": {
    "collapsed": false,
    "ExecuteTime": {
     "end_time": "2023-08-03T10:25:28.669025Z",
     "start_time": "2023-08-03T10:25:08.996496Z"
    }
   }
  },
  {
   "cell_type": "markdown",
   "source": [
    "Save and view results"
   ],
   "metadata": {
    "collapsed": false
   }
  },
  {
   "cell_type": "code",
   "execution_count": 11,
   "outputs": [],
   "source": [
    "def save_if_not_save_and_return(space: LabelEmbeddings, path: str):\n",
    "\tif not Path(path).exists():\n",
    "\t\tspace.save_distances_to_csv(path)\n",
    "\treturn pd.read_csv(path, names=['label_one', 'label_two', 'distance'])\n",
    "\n",
    "control_ranks = save_if_not_save_and_return(org_control_label_space, control_ranks_csv)\n",
    "expanded_control_ranks = save_if_not_save_and_return(expanded_control_label_space, expanded_control_ranks_csv)\n",
    "\n",
    "cohort_ranks = save_if_not_save_and_return(org_cohort_label_space, cohort_ranks_csv)\n",
    "expanded_cohort_ranks = save_if_not_save_and_return(expanded_cohort_label_space, expanded_cohort_ranks_csv)"
   ],
   "metadata": {
    "collapsed": false,
    "ExecuteTime": {
     "end_time": "2023-08-03T10:25:28.690701Z",
     "start_time": "2023-08-03T10:25:28.664170Z"
    }
   }
  },
  {
   "cell_type": "code",
   "execution_count": 12,
   "outputs": [],
   "source": [
    "org_cohort_label_space.compute_rank_deltas(org_control_label_space, relative_ranks_csv)\n",
    "relative_ranks = pd.read_csv(relative_ranks_csv, names=['label_one', 'label_two', 'current_rank', 'control_rank', 'current_distance', 'control_distance', 'rank_delta', 'distance_delta'])\n",
    "\n",
    "expanded_cohort_label_space.compute_rank_deltas(expanded_control_label_space, expanded_relative_ranks_csv)\n",
    "expanded_relative_ranks = pd.read_csv(expanded_relative_ranks_csv, names=['label_one', 'label_two', 'current_rank', 'control_rank', 'current_distance', 'control_distance', 'rank_delta', 'distance_delta'])"
   ],
   "metadata": {
    "collapsed": false,
    "ExecuteTime": {
     "end_time": "2023-08-03T10:25:28.775137Z",
     "start_time": "2023-08-03T10:25:28.704104Z"
    }
   }
  },
  {
   "cell_type": "markdown",
   "source": [
    "View Stuff"
   ],
   "metadata": {
    "collapsed": false
   }
  },
  {
   "cell_type": "code",
   "execution_count": 13,
   "outputs": [
    {
     "data": {
      "text/plain": "              label_one            label_two  current_rank  control_rank  \\\n0     liwc2015:function      values:learning            60            28   \n1     liwc2015:function  values:feeling-good            68            43   \n2     liwc2015:function         values:truth            76            55   \n3     liwc2015:function      values:children            69            50   \n4     liwc2015:function    liwc2015:netspeak            80            62   \n...                 ...                  ...           ...           ...   \n6967     values:animals      values:religion             6            65   \n6968     values:animals      liwc2015:filler             1            69   \n6969     values:animals        liwc2015:male            12            82   \n6970     values:animals      liwc2015:ingest             0            70   \n6971     values:animals         values:order             3            79   \n\n      current_distance  control_distance  rank_delta  distance_delta  \n0             0.186554          0.178845          32        0.007709  \n1             0.297118          0.499940          25       -0.202823  \n2             0.520907          0.713501          21       -0.192593  \n3             0.335780          0.680796          19       -0.345016  \n4             0.660682          0.781215          18       -0.120532  \n...                ...               ...         ...             ...  \n6967          0.824966          0.965300         -59       -0.140334  \n6968          0.793116          0.980616         -68       -0.187500  \n6969          0.841695          1.117406         -70       -0.275710  \n6970          0.686929          0.981867         -70       -0.294938  \n6971          0.811743          1.078921         -76       -0.267178  \n\n[6972 rows x 8 columns]",
      "text/html": "<div>\n<style scoped>\n    .dataframe tbody tr th:only-of-type {\n        vertical-align: middle;\n    }\n\n    .dataframe tbody tr th {\n        vertical-align: top;\n    }\n\n    .dataframe thead th {\n        text-align: right;\n    }\n</style>\n<table border=\"1\" class=\"dataframe\">\n  <thead>\n    <tr style=\"text-align: right;\">\n      <th></th>\n      <th>label_one</th>\n      <th>label_two</th>\n      <th>current_rank</th>\n      <th>control_rank</th>\n      <th>current_distance</th>\n      <th>control_distance</th>\n      <th>rank_delta</th>\n      <th>distance_delta</th>\n    </tr>\n  </thead>\n  <tbody>\n    <tr>\n      <th>0</th>\n      <td>liwc2015:function</td>\n      <td>values:learning</td>\n      <td>60</td>\n      <td>28</td>\n      <td>0.186554</td>\n      <td>0.178845</td>\n      <td>32</td>\n      <td>0.007709</td>\n    </tr>\n    <tr>\n      <th>1</th>\n      <td>liwc2015:function</td>\n      <td>values:feeling-good</td>\n      <td>68</td>\n      <td>43</td>\n      <td>0.297118</td>\n      <td>0.499940</td>\n      <td>25</td>\n      <td>-0.202823</td>\n    </tr>\n    <tr>\n      <th>2</th>\n      <td>liwc2015:function</td>\n      <td>values:truth</td>\n      <td>76</td>\n      <td>55</td>\n      <td>0.520907</td>\n      <td>0.713501</td>\n      <td>21</td>\n      <td>-0.192593</td>\n    </tr>\n    <tr>\n      <th>3</th>\n      <td>liwc2015:function</td>\n      <td>values:children</td>\n      <td>69</td>\n      <td>50</td>\n      <td>0.335780</td>\n      <td>0.680796</td>\n      <td>19</td>\n      <td>-0.345016</td>\n    </tr>\n    <tr>\n      <th>4</th>\n      <td>liwc2015:function</td>\n      <td>liwc2015:netspeak</td>\n      <td>80</td>\n      <td>62</td>\n      <td>0.660682</td>\n      <td>0.781215</td>\n      <td>18</td>\n      <td>-0.120532</td>\n    </tr>\n    <tr>\n      <th>...</th>\n      <td>...</td>\n      <td>...</td>\n      <td>...</td>\n      <td>...</td>\n      <td>...</td>\n      <td>...</td>\n      <td>...</td>\n      <td>...</td>\n    </tr>\n    <tr>\n      <th>6967</th>\n      <td>values:animals</td>\n      <td>values:religion</td>\n      <td>6</td>\n      <td>65</td>\n      <td>0.824966</td>\n      <td>0.965300</td>\n      <td>-59</td>\n      <td>-0.140334</td>\n    </tr>\n    <tr>\n      <th>6968</th>\n      <td>values:animals</td>\n      <td>liwc2015:filler</td>\n      <td>1</td>\n      <td>69</td>\n      <td>0.793116</td>\n      <td>0.980616</td>\n      <td>-68</td>\n      <td>-0.187500</td>\n    </tr>\n    <tr>\n      <th>6969</th>\n      <td>values:animals</td>\n      <td>liwc2015:male</td>\n      <td>12</td>\n      <td>82</td>\n      <td>0.841695</td>\n      <td>1.117406</td>\n      <td>-70</td>\n      <td>-0.275710</td>\n    </tr>\n    <tr>\n      <th>6970</th>\n      <td>values:animals</td>\n      <td>liwc2015:ingest</td>\n      <td>0</td>\n      <td>70</td>\n      <td>0.686929</td>\n      <td>0.981867</td>\n      <td>-70</td>\n      <td>-0.294938</td>\n    </tr>\n    <tr>\n      <th>6971</th>\n      <td>values:animals</td>\n      <td>values:order</td>\n      <td>3</td>\n      <td>79</td>\n      <td>0.811743</td>\n      <td>1.078921</td>\n      <td>-76</td>\n      <td>-0.267178</td>\n    </tr>\n  </tbody>\n</table>\n<p>6972 rows × 8 columns</p>\n</div>"
     },
     "execution_count": 13,
     "metadata": {},
     "output_type": "execute_result"
    }
   ],
   "source": [
    "relative_ranks"
   ],
   "metadata": {
    "collapsed": false,
    "ExecuteTime": {
     "end_time": "2023-08-03T10:25:28.795064Z",
     "start_time": "2023-08-03T10:25:28.778100Z"
    }
   }
  },
  {
   "cell_type": "code",
   "execution_count": 14,
   "outputs": [
    {
     "data": {
      "text/plain": "              label_one          label_two  current_rank  control_rank  \\\n0     liwc2015:function      liwc2015:work            57            39   \n1     liwc2015:function  liwc2015:pconcern            71            54   \n2     liwc2015:function    liwc2015:posemo            50            34   \n3     liwc2015:function     liwc2015:money            74            58   \n4     liwc2015:function  liwc2015:netspeak            83            68   \n...                 ...                ...           ...           ...   \n7135    liwc2015:filler      values:social            10            54   \n7136    liwc2015:filler     values:parents             0            51   \n7137    liwc2015:filler    liwc2015:friend             7            61   \n7138    liwc2015:filler    liwc2015:achiev             2            67   \n7139    liwc2015:filler      liwc2015:hear             1            77   \n\n      current_distance  control_distance  rank_delta  distance_delta  \n0             0.071887          0.336770          18       -0.264883  \n1             0.241987          0.624154          17       -0.382167  \n2             0.045427          0.259349          16       -0.213921  \n3             0.295761          0.681783          16       -0.386022  \n4             0.660682          0.781215          15       -0.120532  \n...                ...               ...         ...             ...  \n7135          0.438908          0.994057         -44       -0.555148  \n7136          0.413480          0.992307         -51       -0.578827  \n7137          0.438105          1.007286         -54       -0.569182  \n7138          0.426735          1.031193         -65       -0.604458  \n7139          0.421133          1.131925         -76       -0.710791  \n\n[7140 rows x 8 columns]",
      "text/html": "<div>\n<style scoped>\n    .dataframe tbody tr th:only-of-type {\n        vertical-align: middle;\n    }\n\n    .dataframe tbody tr th {\n        vertical-align: top;\n    }\n\n    .dataframe thead th {\n        text-align: right;\n    }\n</style>\n<table border=\"1\" class=\"dataframe\">\n  <thead>\n    <tr style=\"text-align: right;\">\n      <th></th>\n      <th>label_one</th>\n      <th>label_two</th>\n      <th>current_rank</th>\n      <th>control_rank</th>\n      <th>current_distance</th>\n      <th>control_distance</th>\n      <th>rank_delta</th>\n      <th>distance_delta</th>\n    </tr>\n  </thead>\n  <tbody>\n    <tr>\n      <th>0</th>\n      <td>liwc2015:function</td>\n      <td>liwc2015:work</td>\n      <td>57</td>\n      <td>39</td>\n      <td>0.071887</td>\n      <td>0.336770</td>\n      <td>18</td>\n      <td>-0.264883</td>\n    </tr>\n    <tr>\n      <th>1</th>\n      <td>liwc2015:function</td>\n      <td>liwc2015:pconcern</td>\n      <td>71</td>\n      <td>54</td>\n      <td>0.241987</td>\n      <td>0.624154</td>\n      <td>17</td>\n      <td>-0.382167</td>\n    </tr>\n    <tr>\n      <th>2</th>\n      <td>liwc2015:function</td>\n      <td>liwc2015:posemo</td>\n      <td>50</td>\n      <td>34</td>\n      <td>0.045427</td>\n      <td>0.259349</td>\n      <td>16</td>\n      <td>-0.213921</td>\n    </tr>\n    <tr>\n      <th>3</th>\n      <td>liwc2015:function</td>\n      <td>liwc2015:money</td>\n      <td>74</td>\n      <td>58</td>\n      <td>0.295761</td>\n      <td>0.681783</td>\n      <td>16</td>\n      <td>-0.386022</td>\n    </tr>\n    <tr>\n      <th>4</th>\n      <td>liwc2015:function</td>\n      <td>liwc2015:netspeak</td>\n      <td>83</td>\n      <td>68</td>\n      <td>0.660682</td>\n      <td>0.781215</td>\n      <td>15</td>\n      <td>-0.120532</td>\n    </tr>\n    <tr>\n      <th>...</th>\n      <td>...</td>\n      <td>...</td>\n      <td>...</td>\n      <td>...</td>\n      <td>...</td>\n      <td>...</td>\n      <td>...</td>\n      <td>...</td>\n    </tr>\n    <tr>\n      <th>7135</th>\n      <td>liwc2015:filler</td>\n      <td>values:social</td>\n      <td>10</td>\n      <td>54</td>\n      <td>0.438908</td>\n      <td>0.994057</td>\n      <td>-44</td>\n      <td>-0.555148</td>\n    </tr>\n    <tr>\n      <th>7136</th>\n      <td>liwc2015:filler</td>\n      <td>values:parents</td>\n      <td>0</td>\n      <td>51</td>\n      <td>0.413480</td>\n      <td>0.992307</td>\n      <td>-51</td>\n      <td>-0.578827</td>\n    </tr>\n    <tr>\n      <th>7137</th>\n      <td>liwc2015:filler</td>\n      <td>liwc2015:friend</td>\n      <td>7</td>\n      <td>61</td>\n      <td>0.438105</td>\n      <td>1.007286</td>\n      <td>-54</td>\n      <td>-0.569182</td>\n    </tr>\n    <tr>\n      <th>7138</th>\n      <td>liwc2015:filler</td>\n      <td>liwc2015:achiev</td>\n      <td>2</td>\n      <td>67</td>\n      <td>0.426735</td>\n      <td>1.031193</td>\n      <td>-65</td>\n      <td>-0.604458</td>\n    </tr>\n    <tr>\n      <th>7139</th>\n      <td>liwc2015:filler</td>\n      <td>liwc2015:hear</td>\n      <td>1</td>\n      <td>77</td>\n      <td>0.421133</td>\n      <td>1.131925</td>\n      <td>-76</td>\n      <td>-0.710791</td>\n    </tr>\n  </tbody>\n</table>\n<p>7140 rows × 8 columns</p>\n</div>"
     },
     "execution_count": 14,
     "metadata": {},
     "output_type": "execute_result"
    }
   ],
   "source": [
    "expanded_relative_ranks"
   ],
   "metadata": {
    "collapsed": false,
    "ExecuteTime": {
     "end_time": "2023-08-03T10:25:28.861015Z",
     "start_time": "2023-08-03T10:25:28.795151Z"
    }
   }
  },
  {
   "cell_type": "code",
   "execution_count": 14,
   "outputs": [],
   "source": [],
   "metadata": {
    "collapsed": false,
    "ExecuteTime": {
     "end_time": "2023-08-03T10:25:28.861141Z",
     "start_time": "2023-08-03T10:25:28.859640Z"
    }
   }
  }
 ],
 "metadata": {
  "kernelspec": {
   "display_name": "Python 3",
   "language": "python",
   "name": "python3"
  },
  "language_info": {
   "codemirror_mode": {
    "name": "ipython",
    "version": 2
   },
   "file_extension": ".py",
   "mimetype": "text/x-python",
   "name": "python",
   "nbconvert_exporter": "python",
   "pygments_lexer": "ipython2",
   "version": "2.7.6"
  }
 },
 "nbformat": 4,
 "nbformat_minor": 0
}
