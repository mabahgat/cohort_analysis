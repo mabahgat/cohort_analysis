{
 "cells": [
  {
   "cell_type": "markdown",
   "source": [
    "\n",
    "# Analysis Comparison between Original and Expanded Lexicons on Cohort Analysis Task\n",
    "\n",
    "Subreddit: Depression"
   ],
   "metadata": {
    "collapsed": false
   }
  },
  {
   "cell_type": "code",
   "execution_count": 1,
   "outputs": [],
   "source": [
    "from pathlib import Path\n",
    "import pandas as pd\n",
    "\n",
    "from config import global_config\n",
    "from lexicons2 import Values, ValuesExpanded, Liwc2015, Liwc2015Expanded\n",
    "from spaces import WordEmbeddings, LabelEmbeddings\n",
    "from statistics import compute_lexicon_voc_coverage"
   ],
   "metadata": {
    "collapsed": false,
    "ExecuteTime": {
     "end_time": "2023-08-06T20:32:31.610550Z",
     "start_time": "2023-08-06T20:32:30.992742Z"
    }
   }
  },
  {
   "cell_type": "code",
   "execution_count": 2,
   "outputs": [],
   "source": [
    "COHORT_NAME = 'depression'"
   ],
   "metadata": {
    "collapsed": false,
    "ExecuteTime": {
     "end_time": "2023-08-06T20:32:31.613247Z",
     "start_time": "2023-08-06T20:32:31.611367Z"
    }
   }
  },
  {
   "cell_type": "code",
   "execution_count": 3,
   "outputs": [],
   "source": [
    "cohort_corpus_path = global_config.reddit.submissions[COHORT_NAME]\n",
    "cohort_models_path = f'{global_config.paths.models}/{COHORT_NAME}'\n",
    "\n",
    "control_corpus_path = global_config.reddit.submissions['IAMA']\n",
    "control_models_path = f'{global_config.paths.models}/IAMA'"
   ],
   "metadata": {
    "collapsed": false,
    "ExecuteTime": {
     "end_time": "2023-08-06T20:32:31.619841Z",
     "start_time": "2023-08-06T20:32:31.612069Z"
    }
   }
  },
  {
   "cell_type": "code",
   "execution_count": 4,
   "outputs": [],
   "source": [
    "cohort_ranks_csv = f'{global_config.paths.ranks}/{COHORT_NAME}_ranks.csv'\n",
    "expanded_cohort_ranks_csv = f'{global_config.paths.ranks}/{COHORT_NAME}_ranks_expanded.csv'\n",
    "\n",
    "control_ranks_csv = f'{global_config.paths.ranks}/IAMA_ranks.csv'\n",
    "expanded_control_ranks_csv = f'{global_config.paths.ranks}/IAMA_ranks_expanded.csv'\n",
    "\n",
    "relative_ranks_csv = f'{global_config.paths.ranks}/{COHORT_NAME}_relative-ranks.csv'\n",
    "expanded_relative_ranks_csv = f'{global_config.paths.ranks}/{COHORT_NAME}_relative-ranks_expanded.csv'"
   ],
   "metadata": {
    "collapsed": false,
    "ExecuteTime": {
     "end_time": "2023-08-06T20:32:31.621435Z",
     "start_time": "2023-08-06T20:32:31.619697Z"
    }
   }
  },
  {
   "cell_type": "markdown",
   "source": [
    "Build Control Spaces"
   ],
   "metadata": {
    "collapsed": false
   }
  },
  {
   "cell_type": "code",
   "execution_count": 5,
   "outputs": [],
   "source": [
    "control_word_space = WordEmbeddings(corpus_path=control_corpus_path, model_path=control_models_path).build()"
   ],
   "metadata": {
    "collapsed": false,
    "ExecuteTime": {
     "end_time": "2023-08-06T20:32:34.038684Z",
     "start_time": "2023-08-06T20:32:31.621565Z"
    }
   }
  },
  {
   "cell_type": "code",
   "execution_count": 6,
   "outputs": [],
   "source": [
    "org_control_label_space = LabelEmbeddings(lexicons=[Liwc2015(), Values()], word_embeddings=control_word_space).build()"
   ],
   "metadata": {
    "collapsed": false,
    "ExecuteTime": {
     "end_time": "2023-08-06T20:32:35.837910Z",
     "start_time": "2023-08-06T20:32:34.038426Z"
    }
   }
  },
  {
   "cell_type": "code",
   "execution_count": 7,
   "outputs": [],
   "source": [
    "expanded_control_label_space = LabelEmbeddings(lexicons=[Liwc2015Expanded(), ValuesExpanded()], word_embeddings=control_word_space).build()"
   ],
   "metadata": {
    "collapsed": false,
    "ExecuteTime": {
     "end_time": "2023-08-06T20:32:55.317721Z",
     "start_time": "2023-08-06T20:32:35.837588Z"
    }
   }
  },
  {
   "cell_type": "markdown",
   "source": [
    "Build Cohort Spaces"
   ],
   "metadata": {
    "collapsed": false
   }
  },
  {
   "cell_type": "code",
   "execution_count": 8,
   "outputs": [],
   "source": [
    "cohort_word_space = WordEmbeddings(corpus_path=cohort_corpus_path, model_path=cohort_models_path).build()"
   ],
   "metadata": {
    "collapsed": false,
    "ExecuteTime": {
     "end_time": "2023-08-06T20:32:58.111865Z",
     "start_time": "2023-08-06T20:32:55.332431Z"
    }
   }
  },
  {
   "cell_type": "code",
   "execution_count": 9,
   "outputs": [],
   "source": [
    "org_cohort_label_space = LabelEmbeddings(lexicons=[Liwc2015(), Values()], word_embeddings=cohort_word_space).build()"
   ],
   "metadata": {
    "collapsed": false,
    "ExecuteTime": {
     "end_time": "2023-08-06T20:33:00.633321Z",
     "start_time": "2023-08-06T20:32:58.111534Z"
    }
   }
  },
  {
   "cell_type": "code",
   "execution_count": 10,
   "outputs": [],
   "source": [
    "expanded_cohort_label_space = LabelEmbeddings(lexicons=[Liwc2015Expanded(), ValuesExpanded()], word_embeddings=cohort_word_space).build()"
   ],
   "metadata": {
    "collapsed": false,
    "ExecuteTime": {
     "end_time": "2023-08-06T20:33:20.766276Z",
     "start_time": "2023-08-06T20:33:00.633036Z"
    }
   }
  },
  {
   "cell_type": "markdown",
   "source": [
    "Save and view results"
   ],
   "metadata": {
    "collapsed": false
   }
  },
  {
   "cell_type": "code",
   "execution_count": 11,
   "outputs": [],
   "source": [
    "def save_if_not_save_and_return(space: LabelEmbeddings, path: str):\n",
    "\tif not Path(path).exists():\n",
    "\t\tspace.save_distances_to_csv(path)\n",
    "\treturn pd.read_csv(path, names=['label_one', 'label_two', 'distance'])\n",
    "\n",
    "control_ranks = save_if_not_save_and_return(org_control_label_space, control_ranks_csv)\n",
    "expanded_control_ranks = save_if_not_save_and_return(expanded_control_label_space, expanded_control_ranks_csv)\n",
    "\n",
    "cohort_ranks = save_if_not_save_and_return(org_cohort_label_space, cohort_ranks_csv)\n",
    "expanded_cohort_ranks = save_if_not_save_and_return(expanded_cohort_label_space, expanded_cohort_ranks_csv)"
   ],
   "metadata": {
    "collapsed": false,
    "ExecuteTime": {
     "end_time": "2023-08-06T20:33:20.783173Z",
     "start_time": "2023-08-06T20:33:20.765745Z"
    }
   }
  },
  {
   "cell_type": "code",
   "execution_count": 12,
   "outputs": [],
   "source": [
    "org_cohort_label_space.compute_rank_deltas(org_control_label_space, relative_ranks_csv)\n",
    "relative_ranks = pd.read_csv(relative_ranks_csv, names=['label_one', 'label_two', 'current_rank', 'control_rank', 'current_distance', 'control_distance', 'rank_delta', 'distance_delta'])\n",
    "\n",
    "expanded_cohort_label_space.compute_rank_deltas(expanded_control_label_space, expanded_relative_ranks_csv)\n",
    "expanded_relative_ranks = pd.read_csv(expanded_relative_ranks_csv, names=['label_one', 'label_two', 'current_rank', 'control_rank', 'current_distance', 'control_distance', 'rank_delta', 'distance_delta'])"
   ],
   "metadata": {
    "collapsed": false,
    "ExecuteTime": {
     "end_time": "2023-08-06T20:33:20.905524Z",
     "start_time": "2023-08-06T20:33:20.785392Z"
    }
   }
  },
  {
   "cell_type": "code",
   "execution_count": 13,
   "outputs": [],
   "source": [
    "relative_ranks.sort_values(by='rank_delta', ascending=True, inplace=True)\n",
    "expanded_relative_ranks.sort_values(by='rank_delta', ascending=True, inplace=True)"
   ],
   "metadata": {
    "collapsed": false,
    "ExecuteTime": {
     "end_time": "2023-08-06T20:33:20.918853Z",
     "start_time": "2023-08-06T20:33:20.908374Z"
    }
   }
  },
  {
   "cell_type": "markdown",
   "source": [
    "View Stuff"
   ],
   "metadata": {
    "collapsed": false
   }
  },
  {
   "cell_type": "code",
   "execution_count": 14,
   "outputs": [
    {
     "data": {
      "text/plain": "                    label_one            label_two  current_rank  \\\n6390        liwc2015:netspeak         liwc2015:anx             2   \n6141          values:religion         liwc2015:see             2   \n6140          values:religion       liwc2015:death             4   \n6886  values:accepting-others         liwc2015:bio             2   \n6887  values:accepting-others         liwc2015:sad             3   \n...                       ...                  ...           ...   \n6142          liwc2015:assent      liwc2015:sexual            76   \n6143          liwc2015:assent    liwc2015:netspeak            77   \n6808  values:accepting-others      liwc2015:motion            78   \n6807  values:accepting-others  values:feeling-good            77   \n6806  values:accepting-others        liwc2015:male            82   \n\n      control_rank  current_distance  control_distance  rank_delta  \\\n6390            81          0.640102          1.157257         -79   \n6141            81          0.674108          1.118634         -79   \n6140            82          0.700019          1.178087         -78   \n6886            80          0.945920          1.168630         -78   \n6887            81          0.954994          1.190451         -78   \n...            ...               ...               ...         ...   \n6142             1          0.685680          0.751274          75   \n6143             2          0.764818          0.755847          75   \n6808             3          1.106400          0.890085          75   \n6807             1          1.099986          0.811712          76   \n6806             2          1.123054          0.881365          80   \n\n      distance_delta  \n6390       -0.517154  \n6141       -0.444526  \n6140       -0.478067  \n6886       -0.222710  \n6887       -0.235457  \n...              ...  \n6142       -0.065593  \n6143        0.008971  \n6808        0.216315  \n6807        0.288275  \n6806        0.241689  \n\n[6972 rows x 8 columns]",
      "text/html": "<div>\n<style scoped>\n    .dataframe tbody tr th:only-of-type {\n        vertical-align: middle;\n    }\n\n    .dataframe tbody tr th {\n        vertical-align: top;\n    }\n\n    .dataframe thead th {\n        text-align: right;\n    }\n</style>\n<table border=\"1\" class=\"dataframe\">\n  <thead>\n    <tr style=\"text-align: right;\">\n      <th></th>\n      <th>label_one</th>\n      <th>label_two</th>\n      <th>current_rank</th>\n      <th>control_rank</th>\n      <th>current_distance</th>\n      <th>control_distance</th>\n      <th>rank_delta</th>\n      <th>distance_delta</th>\n    </tr>\n  </thead>\n  <tbody>\n    <tr>\n      <th>6390</th>\n      <td>liwc2015:netspeak</td>\n      <td>liwc2015:anx</td>\n      <td>2</td>\n      <td>81</td>\n      <td>0.640102</td>\n      <td>1.157257</td>\n      <td>-79</td>\n      <td>-0.517154</td>\n    </tr>\n    <tr>\n      <th>6141</th>\n      <td>values:religion</td>\n      <td>liwc2015:see</td>\n      <td>2</td>\n      <td>81</td>\n      <td>0.674108</td>\n      <td>1.118634</td>\n      <td>-79</td>\n      <td>-0.444526</td>\n    </tr>\n    <tr>\n      <th>6140</th>\n      <td>values:religion</td>\n      <td>liwc2015:death</td>\n      <td>4</td>\n      <td>82</td>\n      <td>0.700019</td>\n      <td>1.178087</td>\n      <td>-78</td>\n      <td>-0.478067</td>\n    </tr>\n    <tr>\n      <th>6886</th>\n      <td>values:accepting-others</td>\n      <td>liwc2015:bio</td>\n      <td>2</td>\n      <td>80</td>\n      <td>0.945920</td>\n      <td>1.168630</td>\n      <td>-78</td>\n      <td>-0.222710</td>\n    </tr>\n    <tr>\n      <th>6887</th>\n      <td>values:accepting-others</td>\n      <td>liwc2015:sad</td>\n      <td>3</td>\n      <td>81</td>\n      <td>0.954994</td>\n      <td>1.190451</td>\n      <td>-78</td>\n      <td>-0.235457</td>\n    </tr>\n    <tr>\n      <th>...</th>\n      <td>...</td>\n      <td>...</td>\n      <td>...</td>\n      <td>...</td>\n      <td>...</td>\n      <td>...</td>\n      <td>...</td>\n      <td>...</td>\n    </tr>\n    <tr>\n      <th>6142</th>\n      <td>liwc2015:assent</td>\n      <td>liwc2015:sexual</td>\n      <td>76</td>\n      <td>1</td>\n      <td>0.685680</td>\n      <td>0.751274</td>\n      <td>75</td>\n      <td>-0.065593</td>\n    </tr>\n    <tr>\n      <th>6143</th>\n      <td>liwc2015:assent</td>\n      <td>liwc2015:netspeak</td>\n      <td>77</td>\n      <td>2</td>\n      <td>0.764818</td>\n      <td>0.755847</td>\n      <td>75</td>\n      <td>0.008971</td>\n    </tr>\n    <tr>\n      <th>6808</th>\n      <td>values:accepting-others</td>\n      <td>liwc2015:motion</td>\n      <td>78</td>\n      <td>3</td>\n      <td>1.106400</td>\n      <td>0.890085</td>\n      <td>75</td>\n      <td>0.216315</td>\n    </tr>\n    <tr>\n      <th>6807</th>\n      <td>values:accepting-others</td>\n      <td>values:feeling-good</td>\n      <td>77</td>\n      <td>1</td>\n      <td>1.099986</td>\n      <td>0.811712</td>\n      <td>76</td>\n      <td>0.288275</td>\n    </tr>\n    <tr>\n      <th>6806</th>\n      <td>values:accepting-others</td>\n      <td>liwc2015:male</td>\n      <td>82</td>\n      <td>2</td>\n      <td>1.123054</td>\n      <td>0.881365</td>\n      <td>80</td>\n      <td>0.241689</td>\n    </tr>\n  </tbody>\n</table>\n<p>6972 rows × 8 columns</p>\n</div>"
     },
     "execution_count": 14,
     "metadata": {},
     "output_type": "execute_result"
    }
   ],
   "source": [
    "relative_ranks"
   ],
   "metadata": {
    "collapsed": false,
    "ExecuteTime": {
     "end_time": "2023-08-06T20:33:20.927557Z",
     "start_time": "2023-08-06T20:33:20.914474Z"
    }
   }
  },
  {
   "cell_type": "code",
   "execution_count": 15,
   "outputs": [
    {
     "data": {
      "text/plain": "              label_one          label_two  current_rank  control_rank  \\\n6971  liwc2015:netspeak       liwc2015:anx             2            82   \n7055     liwc2015:relig   liwc2015:leisure             5            80   \n6887    liwc2015:ingest     liwc2015:shehe             4            78   \n7054     liwc2015:relig      liwc2015:feel            12            83   \n7053     liwc2015:relig   liwc2015:percept             2            72   \n...                 ...                ...           ...           ...   \n4620    liwc2015:friend    liwc2015:nonflu            79             2   \n6300      liwc2015:body    liwc2015:sexual            79             2   \n6720    liwc2015:assent    liwc2015:sexual            80             0   \n6721    liwc2015:assent  liwc2015:netspeak            81             1   \n1848  liwc2015:informal  liwc2015:netspeak            82             1   \n\n      current_distance  control_distance  rank_delta  distance_delta  \n6971          0.640102          1.157257         -80       -0.517154  \n7055          0.737662          1.147455         -75       -0.409793  \n6887          0.442647          1.089677         -74       -0.647030  \n7054          0.757671          1.212933         -71       -0.455263  \n7053          0.732030          1.029727         -70       -0.297697  \n...                ...               ...         ...             ...  \n4620          0.702106          0.762485          77       -0.060379  \n6300          0.514425          0.788858          77       -0.274432  \n6720          0.685680          0.751274          80       -0.065593  \n6721          0.764818          0.755847          80        0.008971  \n1848          0.584998          0.627568          81       -0.042570  \n\n[7140 rows x 8 columns]",
      "text/html": "<div>\n<style scoped>\n    .dataframe tbody tr th:only-of-type {\n        vertical-align: middle;\n    }\n\n    .dataframe tbody tr th {\n        vertical-align: top;\n    }\n\n    .dataframe thead th {\n        text-align: right;\n    }\n</style>\n<table border=\"1\" class=\"dataframe\">\n  <thead>\n    <tr style=\"text-align: right;\">\n      <th></th>\n      <th>label_one</th>\n      <th>label_two</th>\n      <th>current_rank</th>\n      <th>control_rank</th>\n      <th>current_distance</th>\n      <th>control_distance</th>\n      <th>rank_delta</th>\n      <th>distance_delta</th>\n    </tr>\n  </thead>\n  <tbody>\n    <tr>\n      <th>6971</th>\n      <td>liwc2015:netspeak</td>\n      <td>liwc2015:anx</td>\n      <td>2</td>\n      <td>82</td>\n      <td>0.640102</td>\n      <td>1.157257</td>\n      <td>-80</td>\n      <td>-0.517154</td>\n    </tr>\n    <tr>\n      <th>7055</th>\n      <td>liwc2015:relig</td>\n      <td>liwc2015:leisure</td>\n      <td>5</td>\n      <td>80</td>\n      <td>0.737662</td>\n      <td>1.147455</td>\n      <td>-75</td>\n      <td>-0.409793</td>\n    </tr>\n    <tr>\n      <th>6887</th>\n      <td>liwc2015:ingest</td>\n      <td>liwc2015:shehe</td>\n      <td>4</td>\n      <td>78</td>\n      <td>0.442647</td>\n      <td>1.089677</td>\n      <td>-74</td>\n      <td>-0.647030</td>\n    </tr>\n    <tr>\n      <th>7054</th>\n      <td>liwc2015:relig</td>\n      <td>liwc2015:feel</td>\n      <td>12</td>\n      <td>83</td>\n      <td>0.757671</td>\n      <td>1.212933</td>\n      <td>-71</td>\n      <td>-0.455263</td>\n    </tr>\n    <tr>\n      <th>7053</th>\n      <td>liwc2015:relig</td>\n      <td>liwc2015:percept</td>\n      <td>2</td>\n      <td>72</td>\n      <td>0.732030</td>\n      <td>1.029727</td>\n      <td>-70</td>\n      <td>-0.297697</td>\n    </tr>\n    <tr>\n      <th>...</th>\n      <td>...</td>\n      <td>...</td>\n      <td>...</td>\n      <td>...</td>\n      <td>...</td>\n      <td>...</td>\n      <td>...</td>\n      <td>...</td>\n    </tr>\n    <tr>\n      <th>4620</th>\n      <td>liwc2015:friend</td>\n      <td>liwc2015:nonflu</td>\n      <td>79</td>\n      <td>2</td>\n      <td>0.702106</td>\n      <td>0.762485</td>\n      <td>77</td>\n      <td>-0.060379</td>\n    </tr>\n    <tr>\n      <th>6300</th>\n      <td>liwc2015:body</td>\n      <td>liwc2015:sexual</td>\n      <td>79</td>\n      <td>2</td>\n      <td>0.514425</td>\n      <td>0.788858</td>\n      <td>77</td>\n      <td>-0.274432</td>\n    </tr>\n    <tr>\n      <th>6720</th>\n      <td>liwc2015:assent</td>\n      <td>liwc2015:sexual</td>\n      <td>80</td>\n      <td>0</td>\n      <td>0.685680</td>\n      <td>0.751274</td>\n      <td>80</td>\n      <td>-0.065593</td>\n    </tr>\n    <tr>\n      <th>6721</th>\n      <td>liwc2015:assent</td>\n      <td>liwc2015:netspeak</td>\n      <td>81</td>\n      <td>1</td>\n      <td>0.764818</td>\n      <td>0.755847</td>\n      <td>80</td>\n      <td>0.008971</td>\n    </tr>\n    <tr>\n      <th>1848</th>\n      <td>liwc2015:informal</td>\n      <td>liwc2015:netspeak</td>\n      <td>82</td>\n      <td>1</td>\n      <td>0.584998</td>\n      <td>0.627568</td>\n      <td>81</td>\n      <td>-0.042570</td>\n    </tr>\n  </tbody>\n</table>\n<p>7140 rows × 8 columns</p>\n</div>"
     },
     "execution_count": 15,
     "metadata": {},
     "output_type": "execute_result"
    }
   ],
   "source": [
    "expanded_relative_ranks"
   ],
   "metadata": {
    "collapsed": false,
    "ExecuteTime": {
     "end_time": "2023-08-06T20:33:21.002648Z",
     "start_time": "2023-08-06T20:33:20.926751Z"
    }
   }
  },
  {
   "cell_type": "markdown",
   "source": [
    "Debugging"
   ],
   "metadata": {
    "collapsed": false
   }
  },
  {
   "cell_type": "code",
   "execution_count": 16,
   "outputs": [
    {
     "data": {
      "text/plain": "      label_one            label_two  current_rank  control_rank  \\\n331  liwc2015:i        liwc2015:feel            38            69   \n330  liwc2015:i        liwc2015:body            50            77   \n329  liwc2015:i       values:parents            53            70   \n328  liwc2015:i      liwc2015:health            60            76   \n327  liwc2015:i       liwc2015:swear            61            75   \n..          ...                  ...           ...           ...   \n252  liwc2015:i        liwc2015:work            51            36   \n255  liwc2015:i         values:truth            71            56   \n251  liwc2015:i       values:animals            81            65   \n250  liwc2015:i  values:feeling-good            63            43   \n249  liwc2015:i      values:children            75            54   \n\n     current_distance  control_distance  rank_delta  distance_delta  \n331          0.037701          0.819923         -31       -0.782221  \n330          0.114711          0.892732         -27       -0.778021  \n329          0.132220          0.827608         -17       -0.695388  \n328          0.203280          0.870584         -16       -0.667304  \n327          0.217005          0.865515         -14       -0.648510  \n..                ...               ...         ...             ...  \n252          0.123357          0.339661          15       -0.216304  \n255          0.383042          0.698592          15       -0.315551  \n251          0.918565          0.790903          16        0.127662  \n250          0.245943          0.517573          20       -0.271630  \n249          0.480024          0.691977          21       -0.211953  \n\n[83 rows x 8 columns]",
      "text/html": "<div>\n<style scoped>\n    .dataframe tbody tr th:only-of-type {\n        vertical-align: middle;\n    }\n\n    .dataframe tbody tr th {\n        vertical-align: top;\n    }\n\n    .dataframe thead th {\n        text-align: right;\n    }\n</style>\n<table border=\"1\" class=\"dataframe\">\n  <thead>\n    <tr style=\"text-align: right;\">\n      <th></th>\n      <th>label_one</th>\n      <th>label_two</th>\n      <th>current_rank</th>\n      <th>control_rank</th>\n      <th>current_distance</th>\n      <th>control_distance</th>\n      <th>rank_delta</th>\n      <th>distance_delta</th>\n    </tr>\n  </thead>\n  <tbody>\n    <tr>\n      <th>331</th>\n      <td>liwc2015:i</td>\n      <td>liwc2015:feel</td>\n      <td>38</td>\n      <td>69</td>\n      <td>0.037701</td>\n      <td>0.819923</td>\n      <td>-31</td>\n      <td>-0.782221</td>\n    </tr>\n    <tr>\n      <th>330</th>\n      <td>liwc2015:i</td>\n      <td>liwc2015:body</td>\n      <td>50</td>\n      <td>77</td>\n      <td>0.114711</td>\n      <td>0.892732</td>\n      <td>-27</td>\n      <td>-0.778021</td>\n    </tr>\n    <tr>\n      <th>329</th>\n      <td>liwc2015:i</td>\n      <td>values:parents</td>\n      <td>53</td>\n      <td>70</td>\n      <td>0.132220</td>\n      <td>0.827608</td>\n      <td>-17</td>\n      <td>-0.695388</td>\n    </tr>\n    <tr>\n      <th>328</th>\n      <td>liwc2015:i</td>\n      <td>liwc2015:health</td>\n      <td>60</td>\n      <td>76</td>\n      <td>0.203280</td>\n      <td>0.870584</td>\n      <td>-16</td>\n      <td>-0.667304</td>\n    </tr>\n    <tr>\n      <th>327</th>\n      <td>liwc2015:i</td>\n      <td>liwc2015:swear</td>\n      <td>61</td>\n      <td>75</td>\n      <td>0.217005</td>\n      <td>0.865515</td>\n      <td>-14</td>\n      <td>-0.648510</td>\n    </tr>\n    <tr>\n      <th>...</th>\n      <td>...</td>\n      <td>...</td>\n      <td>...</td>\n      <td>...</td>\n      <td>...</td>\n      <td>...</td>\n      <td>...</td>\n      <td>...</td>\n    </tr>\n    <tr>\n      <th>252</th>\n      <td>liwc2015:i</td>\n      <td>liwc2015:work</td>\n      <td>51</td>\n      <td>36</td>\n      <td>0.123357</td>\n      <td>0.339661</td>\n      <td>15</td>\n      <td>-0.216304</td>\n    </tr>\n    <tr>\n      <th>255</th>\n      <td>liwc2015:i</td>\n      <td>values:truth</td>\n      <td>71</td>\n      <td>56</td>\n      <td>0.383042</td>\n      <td>0.698592</td>\n      <td>15</td>\n      <td>-0.315551</td>\n    </tr>\n    <tr>\n      <th>251</th>\n      <td>liwc2015:i</td>\n      <td>values:animals</td>\n      <td>81</td>\n      <td>65</td>\n      <td>0.918565</td>\n      <td>0.790903</td>\n      <td>16</td>\n      <td>0.127662</td>\n    </tr>\n    <tr>\n      <th>250</th>\n      <td>liwc2015:i</td>\n      <td>values:feeling-good</td>\n      <td>63</td>\n      <td>43</td>\n      <td>0.245943</td>\n      <td>0.517573</td>\n      <td>20</td>\n      <td>-0.271630</td>\n    </tr>\n    <tr>\n      <th>249</th>\n      <td>liwc2015:i</td>\n      <td>values:children</td>\n      <td>75</td>\n      <td>54</td>\n      <td>0.480024</td>\n      <td>0.691977</td>\n      <td>21</td>\n      <td>-0.211953</td>\n    </tr>\n  </tbody>\n</table>\n<p>83 rows × 8 columns</p>\n</div>"
     },
     "execution_count": 16,
     "metadata": {},
     "output_type": "execute_result"
    }
   ],
   "source": [
    "relative_ranks[relative_ranks.label_one == 'liwc2015:i']"
   ],
   "metadata": {
    "collapsed": false,
    "ExecuteTime": {
     "end_time": "2023-08-06T20:33:21.030229Z",
     "start_time": "2023-08-06T20:33:21.000860Z"
    }
   }
  },
  {
   "cell_type": "code",
   "execution_count": 17,
   "outputs": [
    {
     "data": {
      "text/plain": "      label_one          label_two  current_rank  control_rank  \\\n335  liwc2015:i      liwc2015:feel            43            73   \n334  liwc2015:i      liwc2015:body            58            79   \n333  liwc2015:i       liwc2015:bio            59            74   \n331  liwc2015:i    liwc2015:health            68            78   \n332  liwc2015:i     liwc2015:shehe            17            27   \n..          ...                ...           ...           ...   \n256  liwc2015:i      liwc2015:male            65            53   \n255  liwc2015:i    liwc2015:posemo            47            34   \n254  liwc2015:i  liwc2015:netspeak            82            68   \n253  liwc2015:i     liwc2015:money            72            58   \n252  liwc2015:i      liwc2015:work            60            39   \n\n     current_distance  control_distance  rank_delta  distance_delta  \n335          0.037701          0.819923         -30       -0.782221  \n334          0.114711          0.892732         -21       -0.778021  \n333          0.117285          0.826260         -15       -0.708976  \n331          0.203280          0.870584         -10       -0.667304  \n332          0.006368          0.155960         -10       -0.149591  \n..                ...               ...         ...             ...  \n256          0.183596          0.618264          12       -0.434668  \n255          0.047905          0.267308          13       -0.219403  \n254          0.673767          0.780373          14       -0.106605  \n253          0.277020          0.680134          14       -0.403114  \n252          0.123357          0.339661          21       -0.216304  \n\n[84 rows x 8 columns]",
      "text/html": "<div>\n<style scoped>\n    .dataframe tbody tr th:only-of-type {\n        vertical-align: middle;\n    }\n\n    .dataframe tbody tr th {\n        vertical-align: top;\n    }\n\n    .dataframe thead th {\n        text-align: right;\n    }\n</style>\n<table border=\"1\" class=\"dataframe\">\n  <thead>\n    <tr style=\"text-align: right;\">\n      <th></th>\n      <th>label_one</th>\n      <th>label_two</th>\n      <th>current_rank</th>\n      <th>control_rank</th>\n      <th>current_distance</th>\n      <th>control_distance</th>\n      <th>rank_delta</th>\n      <th>distance_delta</th>\n    </tr>\n  </thead>\n  <tbody>\n    <tr>\n      <th>335</th>\n      <td>liwc2015:i</td>\n      <td>liwc2015:feel</td>\n      <td>43</td>\n      <td>73</td>\n      <td>0.037701</td>\n      <td>0.819923</td>\n      <td>-30</td>\n      <td>-0.782221</td>\n    </tr>\n    <tr>\n      <th>334</th>\n      <td>liwc2015:i</td>\n      <td>liwc2015:body</td>\n      <td>58</td>\n      <td>79</td>\n      <td>0.114711</td>\n      <td>0.892732</td>\n      <td>-21</td>\n      <td>-0.778021</td>\n    </tr>\n    <tr>\n      <th>333</th>\n      <td>liwc2015:i</td>\n      <td>liwc2015:bio</td>\n      <td>59</td>\n      <td>74</td>\n      <td>0.117285</td>\n      <td>0.826260</td>\n      <td>-15</td>\n      <td>-0.708976</td>\n    </tr>\n    <tr>\n      <th>331</th>\n      <td>liwc2015:i</td>\n      <td>liwc2015:health</td>\n      <td>68</td>\n      <td>78</td>\n      <td>0.203280</td>\n      <td>0.870584</td>\n      <td>-10</td>\n      <td>-0.667304</td>\n    </tr>\n    <tr>\n      <th>332</th>\n      <td>liwc2015:i</td>\n      <td>liwc2015:shehe</td>\n      <td>17</td>\n      <td>27</td>\n      <td>0.006368</td>\n      <td>0.155960</td>\n      <td>-10</td>\n      <td>-0.149591</td>\n    </tr>\n    <tr>\n      <th>...</th>\n      <td>...</td>\n      <td>...</td>\n      <td>...</td>\n      <td>...</td>\n      <td>...</td>\n      <td>...</td>\n      <td>...</td>\n      <td>...</td>\n    </tr>\n    <tr>\n      <th>256</th>\n      <td>liwc2015:i</td>\n      <td>liwc2015:male</td>\n      <td>65</td>\n      <td>53</td>\n      <td>0.183596</td>\n      <td>0.618264</td>\n      <td>12</td>\n      <td>-0.434668</td>\n    </tr>\n    <tr>\n      <th>255</th>\n      <td>liwc2015:i</td>\n      <td>liwc2015:posemo</td>\n      <td>47</td>\n      <td>34</td>\n      <td>0.047905</td>\n      <td>0.267308</td>\n      <td>13</td>\n      <td>-0.219403</td>\n    </tr>\n    <tr>\n      <th>254</th>\n      <td>liwc2015:i</td>\n      <td>liwc2015:netspeak</td>\n      <td>82</td>\n      <td>68</td>\n      <td>0.673767</td>\n      <td>0.780373</td>\n      <td>14</td>\n      <td>-0.106605</td>\n    </tr>\n    <tr>\n      <th>253</th>\n      <td>liwc2015:i</td>\n      <td>liwc2015:money</td>\n      <td>72</td>\n      <td>58</td>\n      <td>0.277020</td>\n      <td>0.680134</td>\n      <td>14</td>\n      <td>-0.403114</td>\n    </tr>\n    <tr>\n      <th>252</th>\n      <td>liwc2015:i</td>\n      <td>liwc2015:work</td>\n      <td>60</td>\n      <td>39</td>\n      <td>0.123357</td>\n      <td>0.339661</td>\n      <td>21</td>\n      <td>-0.216304</td>\n    </tr>\n  </tbody>\n</table>\n<p>84 rows × 8 columns</p>\n</div>"
     },
     "execution_count": 17,
     "metadata": {},
     "output_type": "execute_result"
    }
   ],
   "source": [
    "expanded_relative_ranks[expanded_relative_ranks.label_one == 'liwc2015:i']"
   ],
   "metadata": {
    "collapsed": false,
    "ExecuteTime": {
     "end_time": "2023-08-06T20:33:21.044548Z",
     "start_time": "2023-08-06T20:33:21.012931Z"
    }
   }
  },
  {
   "cell_type": "code",
   "execution_count": 18,
   "outputs": [
    {
     "name": "stderr",
     "output_type": "stream",
     "text": [
      "building voc for /home/mbahgat/ws/work/datasets/reddit/archives_2023/submissions_selected/txt/depression_submissions.txt: 3387391it [17:11, 3282.81it/s]\n"
     ]
    },
    {
     "ename": "TypeError",
     "evalue": "label() missing 1 required positional argument: 'word'",
     "output_type": "error",
     "traceback": [
      "\u001B[0;31m---------------------------------------------------------------------------\u001B[0m",
      "\u001B[0;31mTypeError\u001B[0m                                 Traceback (most recent call last)",
      "Cell \u001B[0;32mIn[18], line 1\u001B[0m\n\u001B[0;32m----> 1\u001B[0m org_coverage \u001B[38;5;241m=\u001B[39m \u001B[43mcompute_lexicon_voc_coverage\u001B[49m\u001B[43m(\u001B[49m\u001B[43mcorpus_path\u001B[49m\u001B[38;5;241;43m=\u001B[39;49m\u001B[43mcohort_corpus_path\u001B[49m\u001B[43m,\u001B[49m\u001B[43m \u001B[49m\u001B[43mlexicon\u001B[49m\u001B[38;5;241;43m=\u001B[39;49m\u001B[43mLiwc2015\u001B[49m\u001B[43m)\u001B[49m\n\u001B[1;32m      2\u001B[0m extended_coverage \u001B[38;5;241m=\u001B[39m compute_lexicon_voc_coverage(corpus_path\u001B[38;5;241m=\u001B[39mcohort_corpus_path, lexicon\u001B[38;5;241m=\u001B[39mLiwc2015Expanded)\n\u001B[1;32m      4\u001B[0m \u001B[38;5;124mf\u001B[39m\u001B[38;5;124m'\u001B[39m\u001B[38;5;124mOriginal coverage \u001B[39m\u001B[38;5;132;01m{\u001B[39;00morg_coverage\u001B[38;5;132;01m}\u001B[39;00m\u001B[38;5;124m, Extended coverage \u001B[39m\u001B[38;5;132;01m{\u001B[39;00mextended_coverage\u001B[38;5;132;01m}\u001B[39;00m\u001B[38;5;124m'\u001B[39m\n",
      "File \u001B[0;32m/mnt/raid1/ws/mbahgat/work/ws_remote/cohort_analysis/statistics.py:22\u001B[0m, in \u001B[0;36mcompute_lexicon_voc_coverage\u001B[0;34m(corpus_path, lexicon)\u001B[0m\n\u001B[1;32m     20\u001B[0m \u001B[38;5;28;01mdef\u001B[39;00m \u001B[38;5;21mcompute_lexicon_voc_coverage\u001B[39m(corpus_path: \u001B[38;5;28mstr\u001B[39m, lexicon: Lexicon) \u001B[38;5;241m-\u001B[39m\u001B[38;5;241m>\u001B[39m \u001B[38;5;28mfloat\u001B[39m:\n\u001B[1;32m     21\u001B[0m \tvoc \u001B[38;5;241m=\u001B[39m \u001B[38;5;28mset\u001B[39m(__build_voc(corpus_path\u001B[38;5;241m=\u001B[39mcorpus_path)\u001B[38;5;241m.\u001B[39mkeys())\n\u001B[0;32m---> 22\u001B[0m \tfound_voc \u001B[38;5;241m=\u001B[39m \u001B[38;5;28mset\u001B[39m([w \u001B[38;5;28;01mfor\u001B[39;00m w \u001B[38;5;129;01min\u001B[39;00m voc \u001B[38;5;28;01mif\u001B[39;00m \u001B[38;5;28mlen\u001B[39m(lexicon\u001B[38;5;241m.\u001B[39mlabel(w)) \u001B[38;5;241m>\u001B[39m \u001B[38;5;241m0\u001B[39m])\n\u001B[1;32m     23\u001B[0m \t\u001B[38;5;28;01mreturn\u001B[39;00m \u001B[38;5;28mfloat\u001B[39m(\u001B[38;5;28mlen\u001B[39m(found_voc)) \u001B[38;5;241m/\u001B[39m \u001B[38;5;28mlen\u001B[39m(voc)\n",
      "File \u001B[0;32m/mnt/raid1/ws/mbahgat/work/ws_remote/cohort_analysis/statistics.py:22\u001B[0m, in \u001B[0;36m<listcomp>\u001B[0;34m(.0)\u001B[0m\n\u001B[1;32m     20\u001B[0m \u001B[38;5;28;01mdef\u001B[39;00m \u001B[38;5;21mcompute_lexicon_voc_coverage\u001B[39m(corpus_path: \u001B[38;5;28mstr\u001B[39m, lexicon: Lexicon) \u001B[38;5;241m-\u001B[39m\u001B[38;5;241m>\u001B[39m \u001B[38;5;28mfloat\u001B[39m:\n\u001B[1;32m     21\u001B[0m \tvoc \u001B[38;5;241m=\u001B[39m \u001B[38;5;28mset\u001B[39m(__build_voc(corpus_path\u001B[38;5;241m=\u001B[39mcorpus_path)\u001B[38;5;241m.\u001B[39mkeys())\n\u001B[0;32m---> 22\u001B[0m \tfound_voc \u001B[38;5;241m=\u001B[39m \u001B[38;5;28mset\u001B[39m([w \u001B[38;5;28;01mfor\u001B[39;00m w \u001B[38;5;129;01min\u001B[39;00m voc \u001B[38;5;28;01mif\u001B[39;00m \u001B[38;5;28mlen\u001B[39m(\u001B[43mlexicon\u001B[49m\u001B[38;5;241;43m.\u001B[39;49m\u001B[43mlabel\u001B[49m\u001B[43m(\u001B[49m\u001B[43mw\u001B[49m\u001B[43m)\u001B[49m) \u001B[38;5;241m>\u001B[39m \u001B[38;5;241m0\u001B[39m])\n\u001B[1;32m     23\u001B[0m \t\u001B[38;5;28;01mreturn\u001B[39;00m \u001B[38;5;28mfloat\u001B[39m(\u001B[38;5;28mlen\u001B[39m(found_voc)) \u001B[38;5;241m/\u001B[39m \u001B[38;5;28mlen\u001B[39m(voc)\n",
      "\u001B[0;31mTypeError\u001B[0m: label() missing 1 required positional argument: 'word'"
     ]
    }
   ],
   "source": [
    "org_coverage = compute_lexicon_voc_coverage(corpus_path=cohort_corpus_path, lexicon=Liwc2015)\n",
    "extended_coverage = compute_lexicon_voc_coverage(corpus_path=cohort_corpus_path, lexicon=Liwc2015Expanded)\n",
    "\n",
    "f'Original coverage {org_coverage}, Extended coverage {extended_coverage}'"
   ],
   "metadata": {
    "collapsed": false,
    "ExecuteTime": {
     "end_time": "2023-08-06T20:50:33.396931Z",
     "start_time": "2023-08-06T20:33:21.021577Z"
    }
   }
  },
  {
   "cell_type": "code",
   "execution_count": null,
   "outputs": [],
   "source": [],
   "metadata": {
    "collapsed": false,
    "ExecuteTime": {
     "start_time": "2023-08-06T20:50:33.382105Z"
    }
   }
  }
 ],
 "metadata": {
  "kernelspec": {
   "display_name": "Python 3",
   "language": "python",
   "name": "python3"
  },
  "language_info": {
   "codemirror_mode": {
    "name": "ipython",
    "version": 2
   },
   "file_extension": ".py",
   "mimetype": "text/x-python",
   "name": "python",
   "nbconvert_exporter": "python",
   "pygments_lexer": "ipython2",
   "version": "2.7.6"
  }
 },
 "nbformat": 4,
 "nbformat_minor": 0
}
