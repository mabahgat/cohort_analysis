{
 "cells": [
  {
   "cell_type": "markdown",
   "metadata": {},
   "source": [
    "### Parameters"
   ]
  },
  {
   "cell_type": "code",
   "execution_count": 1,
   "metadata": {
    "collapsed": false,
    "jupyter": {
     "outputs_hidden": false
    },
    "pycharm": {
     "is_executing": false,
     "name": "#%%\n"
    }
   },
   "outputs": [],
   "source": [
    "task_name = 'ptsd'\n",
    "model_iteration = '' # must include the underscore _\n",
    "model_name = 'RS_2011-2019.' + task_name + '.bin'"
   ]
  },
  {
   "cell_type": "markdown",
   "metadata": {},
   "source": [
    "### Paths"
   ]
  },
  {
   "cell_type": "code",
   "execution_count": 2,
   "metadata": {
    "collapsed": false,
    "jupyter": {
     "outputs_hidden": false
    },
    "pycharm": {
     "is_executing": false,
     "name": "#%%\n"
    }
   },
   "outputs": [
    {
     "data": {
      "text/plain": [
       "('Model Path: ',\n",
       " '/Users/mbahgat/phd/datasets/reddit/ptsd/we_model/RS_2011-2019.ptsd.bin')"
      ]
     },
     "execution_count": 2,
     "metadata": {},
     "output_type": "execute_result"
    }
   ],
   "source": [
    "reddit_home = '/Users/mbahgat/phd/datasets/reddit/'\n",
    "model_path = reddit_home + task_name + '/we_model' + model_iteration + '/' + model_name\n",
    "'Model Path: ', model_path"
   ]
  },
  {
   "cell_type": "code",
   "execution_count": 3,
   "metadata": {
    "collapsed": false,
    "jupyter": {
     "outputs_hidden": false
    },
    "pycharm": {
     "is_executing": false,
     "name": "#%%\n"
    }
   },
   "outputs": [],
   "source": [
    "voc_liwc_annotations = '/Users/mbahgat/phd/datasets/reddit/_liwc_tags/voc_liwc_only_header.csv'"
   ]
  },
  {
   "cell_type": "markdown",
   "metadata": {},
   "source": [
    "### Load Annotations"
   ]
  },
  {
   "cell_type": "code",
   "execution_count": 4,
   "metadata": {
    "collapsed": false,
    "jupyter": {
     "outputs_hidden": false
    },
    "pycharm": {
     "is_executing": false,
     "name": "#%%\n"
    }
   },
   "outputs": [],
   "source": [
    "import csv\n",
    "\n",
    "def get_marked_indexes(row):\n",
    "    indexes = []\n",
    "    for i in range(len(row)):\n",
    "        if row[i]:\n",
    "            indexes.append(i)\n",
    "    return indexes\n",
    "\n",
    "categories = []\n",
    "word2categories = {}\n",
    "\n",
    "with open(voc_liwc_annotations) as annotations_file:\n",
    "    annotations_csv = csv.reader(annotations_file)\n",
    "    header = next(annotations_csv)\n",
    "    categories = header[1:]\n",
    "    for row in annotations_csv:\n",
    "        word = row[0]\n",
    "        if word in word2categories:\n",
    "            raise ValueError('duplicate word {}'.format(word))\n",
    "        word2categories[word] = []\n",
    "        category_indexes = get_marked_indexes(row)\n",
    "        for i in category_indexes:\n",
    "            word2categories[word].append(categories[i - 1])"
   ]
  },
  {
   "cell_type": "code",
   "execution_count": 4,
   "metadata": {
    "collapsed": false,
    "jupyter": {
     "outputs_hidden": false
    },
    "pycharm": {
     "is_executing": false,
     "name": "#%%\n"
    }
   },
   "outputs": [],
   "source": [
    "import fasttext\n",
    "\n",
    "model = fasttext.load_model(model_path)\n",
    "model"
   ]
  }
 ],
 "metadata": {
  "kernelspec": {
   "display_name": "Python 3",
   "language": "python",
   "name": "python3"
  },
  "language_info": {
   "codemirror_mode": {
    "name": "ipython",
    "version": 3
   },
   "file_extension": ".py",
   "mimetype": "text/x-python",
   "name": "python",
   "nbconvert_exporter": "python",
   "pygments_lexer": "ipython3",
   "version": "3.6.9"
  },
  "pycharm": {
   "stem_cell": {
    "cell_type": "raw",
    "metadata": {
     "collapsed": false
    },
    "source": []
   }
  }
 },
 "nbformat": 4,
 "nbformat_minor": 4
}
