{
 "cells": [
  {
   "cell_type": "markdown",
   "source": [
    "\n",
    "# Analysis Comparison between Original and Expanded Lexicons on Cohort Analysis Task\n",
    "\n",
    "Subreddit: PTSD"
   ],
   "metadata": {
    "collapsed": false
   }
  },
  {
   "cell_type": "code",
   "execution_count": 1,
   "outputs": [],
   "source": [
    "from pathlib import Path\n",
    "import pandas as pd\n",
    "\n",
    "from config import global_config\n",
    "from lexicons2 import Values, ValuesExpanded, Liwc2015, Liwc2015Expanded\n",
    "from spaces import WordEmbeddings, LabelEmbeddings"
   ],
   "metadata": {
    "collapsed": false,
    "ExecuteTime": {
     "end_time": "2023-08-03T10:13:14.666253Z",
     "start_time": "2023-08-03T10:13:14.019795Z"
    }
   }
  },
  {
   "cell_type": "code",
   "execution_count": 2,
   "outputs": [],
   "source": [
    "COHORT_NAME = 'ptsd'"
   ],
   "metadata": {
    "collapsed": false,
    "ExecuteTime": {
     "end_time": "2023-08-03T10:13:14.666599Z",
     "start_time": "2023-08-03T10:13:14.666022Z"
    }
   }
  },
  {
   "cell_type": "code",
   "execution_count": 3,
   "outputs": [],
   "source": [
    "cohort_corpus_path = global_config.reddit.submissions[COHORT_NAME]\n",
    "cohort_models_path = f'{global_config.paths.models}/{COHORT_NAME}'\n",
    "\n",
    "control_corpus_path = global_config.reddit.submissions['IAMA']\n",
    "control_models_path = f'{global_config.paths.models}/IAMA'"
   ],
   "metadata": {
    "collapsed": false,
    "ExecuteTime": {
     "end_time": "2023-08-03T10:13:14.666732Z",
     "start_time": "2023-08-03T10:13:14.666490Z"
    }
   }
  },
  {
   "cell_type": "code",
   "execution_count": 4,
   "outputs": [],
   "source": [
    "cohort_ranks_csv = f'{global_config.paths.ranks}/{COHORT_NAME}_ranks.csv'\n",
    "expanded_cohort_ranks_csv = f'{global_config.paths.ranks}/{COHORT_NAME}_ranks_expanded.csv'\n",
    "\n",
    "control_ranks_csv = f'{global_config.paths.ranks}/IAMA_ranks.csv'\n",
    "expanded_control_ranks_csv = f'{global_config.paths.ranks}/IAMA_ranks_expanded.csv'\n",
    "\n",
    "relative_ranks_csv = f'{global_config.paths.ranks}/{COHORT_NAME}_relative-ranks.csv'\n",
    "expanded_relative_ranks_csv = f'{global_config.paths.ranks}/{COHORT_NAME}_relative-ranks_expanded.csv'"
   ],
   "metadata": {
    "collapsed": false,
    "ExecuteTime": {
     "end_time": "2023-08-03T10:13:14.798508Z",
     "start_time": "2023-08-03T10:13:14.791848Z"
    }
   }
  },
  {
   "cell_type": "markdown",
   "source": [
    "Build Control Spaces"
   ],
   "metadata": {
    "collapsed": false
   }
  },
  {
   "cell_type": "code",
   "execution_count": 5,
   "outputs": [],
   "source": [
    "control_word_space = WordEmbeddings(corpus_path=control_corpus_path, model_path=control_models_path).build()"
   ],
   "metadata": {
    "collapsed": false,
    "ExecuteTime": {
     "end_time": "2023-08-03T10:13:17.011062Z",
     "start_time": "2023-08-03T10:13:14.792370Z"
    }
   }
  },
  {
   "cell_type": "code",
   "execution_count": 6,
   "outputs": [],
   "source": [
    "org_control_label_space = LabelEmbeddings(lexicons=[Liwc2015(), Values()], word_embeddings=control_word_space).build()"
   ],
   "metadata": {
    "collapsed": false,
    "ExecuteTime": {
     "end_time": "2023-08-03T10:13:18.785843Z",
     "start_time": "2023-08-03T10:13:17.010242Z"
    }
   }
  },
  {
   "cell_type": "code",
   "execution_count": 7,
   "outputs": [],
   "source": [
    "expanded_control_label_space = LabelEmbeddings(lexicons=[Liwc2015Expanded(), ValuesExpanded()], word_embeddings=control_word_space).build()"
   ],
   "metadata": {
    "collapsed": false,
    "ExecuteTime": {
     "end_time": "2023-08-03T10:13:37.981068Z",
     "start_time": "2023-08-03T10:13:18.790013Z"
    }
   }
  },
  {
   "cell_type": "markdown",
   "source": [
    "Build Cohort Spaces"
   ],
   "metadata": {
    "collapsed": false
   }
  },
  {
   "cell_type": "code",
   "execution_count": 8,
   "outputs": [],
   "source": [
    "cohort_word_space = WordEmbeddings(corpus_path=cohort_corpus_path, model_path=cohort_models_path).build()"
   ],
   "metadata": {
    "collapsed": false,
    "ExecuteTime": {
     "end_time": "2023-08-03T10:14:23.753497Z",
     "start_time": "2023-08-03T10:13:37.981708Z"
    }
   }
  },
  {
   "cell_type": "code",
   "execution_count": 9,
   "outputs": [],
   "source": [
    "org_cohort_label_space = LabelEmbeddings(lexicons=[Liwc2015(), Values()], word_embeddings=cohort_word_space).build()"
   ],
   "metadata": {
    "collapsed": false,
    "ExecuteTime": {
     "end_time": "2023-08-03T10:14:24.409700Z",
     "start_time": "2023-08-03T10:14:23.753121Z"
    }
   }
  },
  {
   "cell_type": "code",
   "execution_count": 10,
   "outputs": [],
   "source": [
    "expanded_cohort_label_space = LabelEmbeddings(lexicons=[Liwc2015Expanded(), ValuesExpanded()], word_embeddings=cohort_word_space).build()"
   ],
   "metadata": {
    "collapsed": false,
    "ExecuteTime": {
     "end_time": "2023-08-03T10:14:40.966279Z",
     "start_time": "2023-08-03T10:14:24.412357Z"
    }
   }
  },
  {
   "cell_type": "markdown",
   "source": [
    "Save and view results"
   ],
   "metadata": {
    "collapsed": false
   }
  },
  {
   "cell_type": "code",
   "execution_count": 11,
   "outputs": [],
   "source": [
    "def save_if_not_save_and_return(space: LabelEmbeddings, path: str):\n",
    "\tif not Path(path).exists():\n",
    "\t\tspace.save_distances_to_csv(path)\n",
    "\treturn pd.read_csv(path, names=['label_one', 'label_two', 'distance'])\n",
    "\n",
    "control_ranks = save_if_not_save_and_return(org_control_label_space, control_ranks_csv)\n",
    "expanded_control_ranks = save_if_not_save_and_return(expanded_control_label_space, expanded_control_ranks_csv)\n",
    "\n",
    "cohort_ranks = save_if_not_save_and_return(org_cohort_label_space, cohort_ranks_csv)\n",
    "expanded_cohort_ranks = save_if_not_save_and_return(expanded_cohort_label_space, expanded_cohort_ranks_csv)"
   ],
   "metadata": {
    "collapsed": false,
    "ExecuteTime": {
     "end_time": "2023-08-03T10:14:41.000739Z",
     "start_time": "2023-08-03T10:14:40.966803Z"
    }
   }
  },
  {
   "cell_type": "code",
   "execution_count": 13,
   "outputs": [],
   "source": [
    "org_cohort_label_space.compute_rank_deltas(org_control_label_space, relative_ranks_csv)\n",
    "relative_ranks = pd.read_csv(relative_ranks_csv, names=['label_one', 'label_two', 'current_rank', 'control_rank', 'current_distance', 'control_distance', 'rank_delta', 'distance_delta'])\n",
    "\n",
    "expanded_cohort_label_space.compute_rank_deltas(expanded_control_label_space, expanded_relative_ranks_csv)\n",
    "expanded_relative_ranks = pd.read_csv(expanded_relative_ranks_csv, names=['label_one', 'label_two', 'current_rank', 'control_rank', 'current_distance', 'control_distance', 'rank_delta', 'distance_delta'])"
   ],
   "metadata": {
    "collapsed": false,
    "ExecuteTime": {
     "end_time": "2023-08-03T10:14:56.173474Z",
     "start_time": "2023-08-03T10:14:56.100380Z"
    }
   }
  },
  {
   "cell_type": "markdown",
   "source": [
    "View Stuff"
   ],
   "metadata": {
    "collapsed": false
   }
  },
  {
   "cell_type": "code",
   "execution_count": 14,
   "outputs": [
    {
     "data": {
      "text/plain": "              label_one            label_two  current_rank  control_rank  \\\n0     liwc2015:function      values:learning            67            28   \n1     liwc2015:function  values:feeling-good            81            43   \n2     liwc2015:function       liwc2015:money            77            51   \n3     liwc2015:function        liwc2015:work            56            36   \n4     liwc2015:function    liwc2015:netspeak            82            62   \n...                 ...                  ...           ...           ...   \n6967     values:animals       liwc2015:swear             1            59   \n6968     values:animals      liwc2015:sexual             5            75   \n6969     values:animals       values:parents             7            78   \n6970     values:animals         values:truth             0            71   \n6971     values:animals         values:order             2            79   \n\n      current_distance  control_distance  rank_delta  distance_delta  \n0             0.151187          0.178845          39       -0.027657  \n1             0.733822          0.499940          38        0.233882  \n2             0.349224          0.681783          26       -0.332559  \n3             0.070017          0.336770          20       -0.266753  \n4             0.901148          0.781215          20        0.119934  \n...                ...               ...         ...             ...  \n6967          0.635042          0.909386         -58       -0.274344  \n6968          0.678243          1.021016         -70       -0.342773  \n6969          0.692603          1.069746         -71       -0.377143  \n6970          0.634491          0.982374         -71       -0.347884  \n6971          0.654957          1.078921         -77       -0.423964  \n\n[6972 rows x 8 columns]",
      "text/html": "<div>\n<style scoped>\n    .dataframe tbody tr th:only-of-type {\n        vertical-align: middle;\n    }\n\n    .dataframe tbody tr th {\n        vertical-align: top;\n    }\n\n    .dataframe thead th {\n        text-align: right;\n    }\n</style>\n<table border=\"1\" class=\"dataframe\">\n  <thead>\n    <tr style=\"text-align: right;\">\n      <th></th>\n      <th>label_one</th>\n      <th>label_two</th>\n      <th>current_rank</th>\n      <th>control_rank</th>\n      <th>current_distance</th>\n      <th>control_distance</th>\n      <th>rank_delta</th>\n      <th>distance_delta</th>\n    </tr>\n  </thead>\n  <tbody>\n    <tr>\n      <th>0</th>\n      <td>liwc2015:function</td>\n      <td>values:learning</td>\n      <td>67</td>\n      <td>28</td>\n      <td>0.151187</td>\n      <td>0.178845</td>\n      <td>39</td>\n      <td>-0.027657</td>\n    </tr>\n    <tr>\n      <th>1</th>\n      <td>liwc2015:function</td>\n      <td>values:feeling-good</td>\n      <td>81</td>\n      <td>43</td>\n      <td>0.733822</td>\n      <td>0.499940</td>\n      <td>38</td>\n      <td>0.233882</td>\n    </tr>\n    <tr>\n      <th>2</th>\n      <td>liwc2015:function</td>\n      <td>liwc2015:money</td>\n      <td>77</td>\n      <td>51</td>\n      <td>0.349224</td>\n      <td>0.681783</td>\n      <td>26</td>\n      <td>-0.332559</td>\n    </tr>\n    <tr>\n      <th>3</th>\n      <td>liwc2015:function</td>\n      <td>liwc2015:work</td>\n      <td>56</td>\n      <td>36</td>\n      <td>0.070017</td>\n      <td>0.336770</td>\n      <td>20</td>\n      <td>-0.266753</td>\n    </tr>\n    <tr>\n      <th>4</th>\n      <td>liwc2015:function</td>\n      <td>liwc2015:netspeak</td>\n      <td>82</td>\n      <td>62</td>\n      <td>0.901148</td>\n      <td>0.781215</td>\n      <td>20</td>\n      <td>0.119934</td>\n    </tr>\n    <tr>\n      <th>...</th>\n      <td>...</td>\n      <td>...</td>\n      <td>...</td>\n      <td>...</td>\n      <td>...</td>\n      <td>...</td>\n      <td>...</td>\n      <td>...</td>\n    </tr>\n    <tr>\n      <th>6967</th>\n      <td>values:animals</td>\n      <td>liwc2015:swear</td>\n      <td>1</td>\n      <td>59</td>\n      <td>0.635042</td>\n      <td>0.909386</td>\n      <td>-58</td>\n      <td>-0.274344</td>\n    </tr>\n    <tr>\n      <th>6968</th>\n      <td>values:animals</td>\n      <td>liwc2015:sexual</td>\n      <td>5</td>\n      <td>75</td>\n      <td>0.678243</td>\n      <td>1.021016</td>\n      <td>-70</td>\n      <td>-0.342773</td>\n    </tr>\n    <tr>\n      <th>6969</th>\n      <td>values:animals</td>\n      <td>values:parents</td>\n      <td>7</td>\n      <td>78</td>\n      <td>0.692603</td>\n      <td>1.069746</td>\n      <td>-71</td>\n      <td>-0.377143</td>\n    </tr>\n    <tr>\n      <th>6970</th>\n      <td>values:animals</td>\n      <td>values:truth</td>\n      <td>0</td>\n      <td>71</td>\n      <td>0.634491</td>\n      <td>0.982374</td>\n      <td>-71</td>\n      <td>-0.347884</td>\n    </tr>\n    <tr>\n      <th>6971</th>\n      <td>values:animals</td>\n      <td>values:order</td>\n      <td>2</td>\n      <td>79</td>\n      <td>0.654957</td>\n      <td>1.078921</td>\n      <td>-77</td>\n      <td>-0.423964</td>\n    </tr>\n  </tbody>\n</table>\n<p>6972 rows × 8 columns</p>\n</div>"
     },
     "execution_count": 14,
     "metadata": {},
     "output_type": "execute_result"
    }
   ],
   "source": [
    "relative_ranks"
   ],
   "metadata": {
    "collapsed": false,
    "ExecuteTime": {
     "end_time": "2023-08-03T10:14:56.770476Z",
     "start_time": "2023-08-03T10:14:56.761731Z"
    }
   }
  },
  {
   "cell_type": "code",
   "execution_count": 15,
   "outputs": [
    {
     "data": {
      "text/plain": "              label_one          label_two  current_rank  control_rank  \\\n0     liwc2015:function      liwc2015:they            44            19   \n1     liwc2015:function      liwc2015:work            64            39   \n2     liwc2015:function     liwc2015:money            80            58   \n3     liwc2015:function    liwc2015:posemo            52            34   \n4     liwc2015:function  liwc2015:netspeak            83            68   \n...                 ...                ...           ...           ...   \n7135    liwc2015:filler   liwc2015:cogproc            20            57   \n7136    liwc2015:filler     liwc2015:power             6            43   \n7137    liwc2015:filler       liwc2015:adj            11            49   \n7138    liwc2015:filler   liwc2015:compare             4            45   \n7139    liwc2015:filler      values:social            10            54   \n\n      current_distance  control_distance  rank_delta  distance_delta  \n0             0.013176          0.103689          25       -0.090512  \n1             0.070017          0.336770          25       -0.266753  \n2             0.349224          0.681783          22       -0.332559  \n3             0.023454          0.259349          18       -0.235894  \n4             0.901148          0.781215          15        0.119934  \n...                ...               ...         ...             ...  \n7135          0.309082          0.998537         -37       -0.689455  \n7136          0.306198          0.982761         -37       -0.676563  \n7137          0.308220          0.988968         -38       -0.680748  \n7138          0.305423          0.984765         -41       -0.679341  \n7139          0.308148          0.994057         -44       -0.685909  \n\n[7140 rows x 8 columns]",
      "text/html": "<div>\n<style scoped>\n    .dataframe tbody tr th:only-of-type {\n        vertical-align: middle;\n    }\n\n    .dataframe tbody tr th {\n        vertical-align: top;\n    }\n\n    .dataframe thead th {\n        text-align: right;\n    }\n</style>\n<table border=\"1\" class=\"dataframe\">\n  <thead>\n    <tr style=\"text-align: right;\">\n      <th></th>\n      <th>label_one</th>\n      <th>label_two</th>\n      <th>current_rank</th>\n      <th>control_rank</th>\n      <th>current_distance</th>\n      <th>control_distance</th>\n      <th>rank_delta</th>\n      <th>distance_delta</th>\n    </tr>\n  </thead>\n  <tbody>\n    <tr>\n      <th>0</th>\n      <td>liwc2015:function</td>\n      <td>liwc2015:they</td>\n      <td>44</td>\n      <td>19</td>\n      <td>0.013176</td>\n      <td>0.103689</td>\n      <td>25</td>\n      <td>-0.090512</td>\n    </tr>\n    <tr>\n      <th>1</th>\n      <td>liwc2015:function</td>\n      <td>liwc2015:work</td>\n      <td>64</td>\n      <td>39</td>\n      <td>0.070017</td>\n      <td>0.336770</td>\n      <td>25</td>\n      <td>-0.266753</td>\n    </tr>\n    <tr>\n      <th>2</th>\n      <td>liwc2015:function</td>\n      <td>liwc2015:money</td>\n      <td>80</td>\n      <td>58</td>\n      <td>0.349224</td>\n      <td>0.681783</td>\n      <td>22</td>\n      <td>-0.332559</td>\n    </tr>\n    <tr>\n      <th>3</th>\n      <td>liwc2015:function</td>\n      <td>liwc2015:posemo</td>\n      <td>52</td>\n      <td>34</td>\n      <td>0.023454</td>\n      <td>0.259349</td>\n      <td>18</td>\n      <td>-0.235894</td>\n    </tr>\n    <tr>\n      <th>4</th>\n      <td>liwc2015:function</td>\n      <td>liwc2015:netspeak</td>\n      <td>83</td>\n      <td>68</td>\n      <td>0.901148</td>\n      <td>0.781215</td>\n      <td>15</td>\n      <td>0.119934</td>\n    </tr>\n    <tr>\n      <th>...</th>\n      <td>...</td>\n      <td>...</td>\n      <td>...</td>\n      <td>...</td>\n      <td>...</td>\n      <td>...</td>\n      <td>...</td>\n      <td>...</td>\n    </tr>\n    <tr>\n      <th>7135</th>\n      <td>liwc2015:filler</td>\n      <td>liwc2015:cogproc</td>\n      <td>20</td>\n      <td>57</td>\n      <td>0.309082</td>\n      <td>0.998537</td>\n      <td>-37</td>\n      <td>-0.689455</td>\n    </tr>\n    <tr>\n      <th>7136</th>\n      <td>liwc2015:filler</td>\n      <td>liwc2015:power</td>\n      <td>6</td>\n      <td>43</td>\n      <td>0.306198</td>\n      <td>0.982761</td>\n      <td>-37</td>\n      <td>-0.676563</td>\n    </tr>\n    <tr>\n      <th>7137</th>\n      <td>liwc2015:filler</td>\n      <td>liwc2015:adj</td>\n      <td>11</td>\n      <td>49</td>\n      <td>0.308220</td>\n      <td>0.988968</td>\n      <td>-38</td>\n      <td>-0.680748</td>\n    </tr>\n    <tr>\n      <th>7138</th>\n      <td>liwc2015:filler</td>\n      <td>liwc2015:compare</td>\n      <td>4</td>\n      <td>45</td>\n      <td>0.305423</td>\n      <td>0.984765</td>\n      <td>-41</td>\n      <td>-0.679341</td>\n    </tr>\n    <tr>\n      <th>7139</th>\n      <td>liwc2015:filler</td>\n      <td>values:social</td>\n      <td>10</td>\n      <td>54</td>\n      <td>0.308148</td>\n      <td>0.994057</td>\n      <td>-44</td>\n      <td>-0.685909</td>\n    </tr>\n  </tbody>\n</table>\n<p>7140 rows × 8 columns</p>\n</div>"
     },
     "execution_count": 15,
     "metadata": {},
     "output_type": "execute_result"
    }
   ],
   "source": [
    "expanded_relative_ranks"
   ],
   "metadata": {
    "collapsed": false,
    "ExecuteTime": {
     "end_time": "2023-08-03T10:14:56.946043Z",
     "start_time": "2023-08-03T10:14:56.945007Z"
    }
   }
  },
  {
   "cell_type": "code",
   "execution_count": null,
   "outputs": [],
   "source": [],
   "metadata": {
    "collapsed": false
   }
  }
 ],
 "metadata": {
  "kernelspec": {
   "display_name": "Python 3",
   "language": "python",
   "name": "python3"
  },
  "language_info": {
   "codemirror_mode": {
    "name": "ipython",
    "version": 2
   },
   "file_extension": ".py",
   "mimetype": "text/x-python",
   "name": "python",
   "nbconvert_exporter": "python",
   "pygments_lexer": "ipython2",
   "version": "2.7.6"
  }
 },
 "nbformat": 4,
 "nbformat_minor": 0
}
