{
 "cells": [
  {
   "cell_type": "markdown",
   "source": [
    "\n",
    "# Analysis Comparison between Original and Expanded Lexicons on Cohort Analysis Task\n",
    "\n",
    "Subreddit: bipolar2"
   ],
   "metadata": {
    "collapsed": false
   }
  },
  {
   "cell_type": "code",
   "execution_count": 1,
   "outputs": [],
   "source": [
    "from pathlib import Path\n",
    "import pandas as pd\n",
    "\n",
    "from config import global_config\n",
    "from lexicons2 import Values, ValuesExpanded, Liwc2015, Liwc2015Expanded\n",
    "from spaces import WordEmbeddings, LabelEmbeddings"
   ],
   "metadata": {
    "collapsed": false,
    "ExecuteTime": {
     "end_time": "2023-08-03T10:19:04.780229Z",
     "start_time": "2023-08-03T10:19:04.127147Z"
    }
   }
  },
  {
   "cell_type": "code",
   "execution_count": 2,
   "outputs": [],
   "source": [
    "COHORT_NAME = 'bipolar2'"
   ],
   "metadata": {
    "collapsed": false,
    "ExecuteTime": {
     "end_time": "2023-08-03T10:19:04.781186Z",
     "start_time": "2023-08-03T10:19:04.778872Z"
    }
   }
  },
  {
   "cell_type": "code",
   "execution_count": 3,
   "outputs": [],
   "source": [
    "cohort_corpus_path = global_config.reddit.submissions[COHORT_NAME]\n",
    "cohort_models_path = f'{global_config.paths.models}/{COHORT_NAME}'\n",
    "\n",
    "control_corpus_path = global_config.reddit.submissions['IAMA']\n",
    "control_models_path = f'{global_config.paths.models}/IAMA'"
   ],
   "metadata": {
    "collapsed": false,
    "ExecuteTime": {
     "end_time": "2023-08-03T10:19:04.785219Z",
     "start_time": "2023-08-03T10:19:04.782064Z"
    }
   }
  },
  {
   "cell_type": "code",
   "execution_count": 4,
   "outputs": [],
   "source": [
    "cohort_ranks_csv = f'{global_config.paths.ranks}/{COHORT_NAME}_ranks.csv'\n",
    "expanded_cohort_ranks_csv = f'{global_config.paths.ranks}/{COHORT_NAME}_ranks_expanded.csv'\n",
    "\n",
    "control_ranks_csv = f'{global_config.paths.ranks}/IAMA_ranks.csv'\n",
    "expanded_control_ranks_csv = f'{global_config.paths.ranks}/IAMA_ranks_expanded.csv'\n",
    "\n",
    "relative_ranks_csv = f'{global_config.paths.ranks}/{COHORT_NAME}_relative-ranks.csv'\n",
    "expanded_relative_ranks_csv = f'{global_config.paths.ranks}/{COHORT_NAME}_relative-ranks_expanded.csv'"
   ],
   "metadata": {
    "collapsed": false,
    "ExecuteTime": {
     "end_time": "2023-08-03T10:19:04.884813Z",
     "start_time": "2023-08-03T10:19:04.883538Z"
    }
   }
  },
  {
   "cell_type": "markdown",
   "source": [
    "Build Control Spaces"
   ],
   "metadata": {
    "collapsed": false
   }
  },
  {
   "cell_type": "code",
   "execution_count": 5,
   "outputs": [],
   "source": [
    "control_word_space = WordEmbeddings(corpus_path=control_corpus_path, model_path=control_models_path).build()"
   ],
   "metadata": {
    "collapsed": false,
    "ExecuteTime": {
     "end_time": "2023-08-03T10:19:07.279448Z",
     "start_time": "2023-08-03T10:19:04.884569Z"
    }
   }
  },
  {
   "cell_type": "code",
   "execution_count": 6,
   "outputs": [],
   "source": [
    "org_control_label_space = LabelEmbeddings(lexicons=[Liwc2015(), Values()], word_embeddings=control_word_space).build()"
   ],
   "metadata": {
    "collapsed": false,
    "ExecuteTime": {
     "end_time": "2023-08-03T10:19:09.173514Z",
     "start_time": "2023-08-03T10:19:07.278279Z"
    }
   }
  },
  {
   "cell_type": "code",
   "execution_count": 7,
   "outputs": [],
   "source": [
    "expanded_control_label_space = LabelEmbeddings(lexicons=[Liwc2015Expanded(), ValuesExpanded()], word_embeddings=control_word_space).build()"
   ],
   "metadata": {
    "collapsed": false,
    "ExecuteTime": {
     "end_time": "2023-08-03T10:19:31.098089Z",
     "start_time": "2023-08-03T10:19:09.163433Z"
    }
   }
  },
  {
   "cell_type": "markdown",
   "source": [
    "Build Cohort Spaces"
   ],
   "metadata": {
    "collapsed": false
   }
  },
  {
   "cell_type": "code",
   "execution_count": 8,
   "outputs": [],
   "source": [
    "cohort_word_space = WordEmbeddings(corpus_path=cohort_corpus_path, model_path=cohort_models_path).build()"
   ],
   "metadata": {
    "collapsed": false,
    "ExecuteTime": {
     "end_time": "2023-08-03T10:20:01.140496Z",
     "start_time": "2023-08-03T10:19:31.096583Z"
    }
   }
  },
  {
   "cell_type": "code",
   "execution_count": 9,
   "outputs": [],
   "source": [
    "org_cohort_label_space = LabelEmbeddings(lexicons=[Liwc2015(), Values()], word_embeddings=cohort_word_space).build()"
   ],
   "metadata": {
    "collapsed": false,
    "ExecuteTime": {
     "end_time": "2023-08-03T10:20:01.729147Z",
     "start_time": "2023-08-03T10:20:01.156673Z"
    }
   }
  },
  {
   "cell_type": "code",
   "execution_count": 10,
   "outputs": [],
   "source": [
    "expanded_cohort_label_space = LabelEmbeddings(lexicons=[Liwc2015Expanded(), ValuesExpanded()], word_embeddings=cohort_word_space).build()"
   ],
   "metadata": {
    "collapsed": false,
    "ExecuteTime": {
     "end_time": "2023-08-03T10:20:17.678922Z",
     "start_time": "2023-08-03T10:20:01.732880Z"
    }
   }
  },
  {
   "cell_type": "markdown",
   "source": [
    "Save and view results"
   ],
   "metadata": {
    "collapsed": false
   }
  },
  {
   "cell_type": "code",
   "execution_count": 11,
   "outputs": [],
   "source": [
    "def save_if_not_save_and_return(space: LabelEmbeddings, path: str):\n",
    "\tif not Path(path).exists():\n",
    "\t\tspace.save_distances_to_csv(path)\n",
    "\treturn pd.read_csv(path, names=['label_one', 'label_two', 'distance'])\n",
    "\n",
    "control_ranks = save_if_not_save_and_return(org_control_label_space, control_ranks_csv)\n",
    "expanded_control_ranks = save_if_not_save_and_return(expanded_control_label_space, expanded_control_ranks_csv)\n",
    "\n",
    "cohort_ranks = save_if_not_save_and_return(org_cohort_label_space, cohort_ranks_csv)\n",
    "expanded_cohort_ranks = save_if_not_save_and_return(expanded_cohort_label_space, expanded_cohort_ranks_csv)"
   ],
   "metadata": {
    "collapsed": false,
    "ExecuteTime": {
     "end_time": "2023-08-03T10:20:17.715730Z",
     "start_time": "2023-08-03T10:20:17.682958Z"
    }
   }
  },
  {
   "cell_type": "code",
   "execution_count": 12,
   "outputs": [],
   "source": [
    "org_cohort_label_space.compute_rank_deltas(org_control_label_space, relative_ranks_csv)\n",
    "relative_ranks = pd.read_csv(relative_ranks_csv, names=['label_one', 'label_two', 'current_rank', 'control_rank', 'current_distance', 'control_distance', 'rank_delta', 'distance_delta'])\n",
    "\n",
    "expanded_cohort_label_space.compute_rank_deltas(expanded_control_label_space, expanded_relative_ranks_csv)\n",
    "expanded_relative_ranks = pd.read_csv(expanded_relative_ranks_csv, names=['label_one', 'label_two', 'current_rank', 'control_rank', 'current_distance', 'control_distance', 'rank_delta', 'distance_delta'])"
   ],
   "metadata": {
    "collapsed": false,
    "ExecuteTime": {
     "end_time": "2023-08-03T10:20:17.793577Z",
     "start_time": "2023-08-03T10:20:17.711747Z"
    }
   }
  },
  {
   "cell_type": "markdown",
   "source": [
    "View Stuff"
   ],
   "metadata": {
    "collapsed": false
   }
  },
  {
   "cell_type": "code",
   "execution_count": 13,
   "outputs": [
    {
     "data": {
      "text/plain": "              label_one                label_two  current_rank  control_rank  \\\n0     liwc2015:function      values:feeling-good            69            43   \n1     liwc2015:function          values:learning            51            28   \n2     liwc2015:function             values:truth            77            55   \n3     liwc2015:function              liwc2015:we            40            22   \n4     liwc2015:function           values:animals            82            64   \n...                 ...                      ...           ...           ...   \n6967     values:animals          liwc2015:sexual            11            75   \n6968     values:animals          values:children             9            76   \n6969     values:animals          liwc2015:nonflu             6            74   \n6970     values:animals          liwc2015:filler             0            69   \n6971     values:animals  values:accepting-others             3            81   \n\n      current_distance  control_distance  rank_delta  distance_delta  \n0             0.195169          0.499940          26       -0.304771  \n1             0.029772          0.178845          23       -0.149072  \n2             0.478888          0.713501          22       -0.234613  \n3             0.011880          0.130866          18       -0.118986  \n4             1.342300          0.794112          18        0.548188  \n...                ...               ...         ...             ...  \n6967          1.228608          1.021016         -64        0.207592  \n6968          1.194637          1.028190         -67        0.166448  \n6969          1.175533          1.009550         -68        0.165982  \n6970          1.074962          0.980616         -69        0.094346  \n6971          1.150618          1.114197         -78        0.036421  \n\n[6972 rows x 8 columns]",
      "text/html": "<div>\n<style scoped>\n    .dataframe tbody tr th:only-of-type {\n        vertical-align: middle;\n    }\n\n    .dataframe tbody tr th {\n        vertical-align: top;\n    }\n\n    .dataframe thead th {\n        text-align: right;\n    }\n</style>\n<table border=\"1\" class=\"dataframe\">\n  <thead>\n    <tr style=\"text-align: right;\">\n      <th></th>\n      <th>label_one</th>\n      <th>label_two</th>\n      <th>current_rank</th>\n      <th>control_rank</th>\n      <th>current_distance</th>\n      <th>control_distance</th>\n      <th>rank_delta</th>\n      <th>distance_delta</th>\n    </tr>\n  </thead>\n  <tbody>\n    <tr>\n      <th>0</th>\n      <td>liwc2015:function</td>\n      <td>values:feeling-good</td>\n      <td>69</td>\n      <td>43</td>\n      <td>0.195169</td>\n      <td>0.499940</td>\n      <td>26</td>\n      <td>-0.304771</td>\n    </tr>\n    <tr>\n      <th>1</th>\n      <td>liwc2015:function</td>\n      <td>values:learning</td>\n      <td>51</td>\n      <td>28</td>\n      <td>0.029772</td>\n      <td>0.178845</td>\n      <td>23</td>\n      <td>-0.149072</td>\n    </tr>\n    <tr>\n      <th>2</th>\n      <td>liwc2015:function</td>\n      <td>values:truth</td>\n      <td>77</td>\n      <td>55</td>\n      <td>0.478888</td>\n      <td>0.713501</td>\n      <td>22</td>\n      <td>-0.234613</td>\n    </tr>\n    <tr>\n      <th>3</th>\n      <td>liwc2015:function</td>\n      <td>liwc2015:we</td>\n      <td>40</td>\n      <td>22</td>\n      <td>0.011880</td>\n      <td>0.130866</td>\n      <td>18</td>\n      <td>-0.118986</td>\n    </tr>\n    <tr>\n      <th>4</th>\n      <td>liwc2015:function</td>\n      <td>values:animals</td>\n      <td>82</td>\n      <td>64</td>\n      <td>1.342300</td>\n      <td>0.794112</td>\n      <td>18</td>\n      <td>0.548188</td>\n    </tr>\n    <tr>\n      <th>...</th>\n      <td>...</td>\n      <td>...</td>\n      <td>...</td>\n      <td>...</td>\n      <td>...</td>\n      <td>...</td>\n      <td>...</td>\n      <td>...</td>\n    </tr>\n    <tr>\n      <th>6967</th>\n      <td>values:animals</td>\n      <td>liwc2015:sexual</td>\n      <td>11</td>\n      <td>75</td>\n      <td>1.228608</td>\n      <td>1.021016</td>\n      <td>-64</td>\n      <td>0.207592</td>\n    </tr>\n    <tr>\n      <th>6968</th>\n      <td>values:animals</td>\n      <td>values:children</td>\n      <td>9</td>\n      <td>76</td>\n      <td>1.194637</td>\n      <td>1.028190</td>\n      <td>-67</td>\n      <td>0.166448</td>\n    </tr>\n    <tr>\n      <th>6969</th>\n      <td>values:animals</td>\n      <td>liwc2015:nonflu</td>\n      <td>6</td>\n      <td>74</td>\n      <td>1.175533</td>\n      <td>1.009550</td>\n      <td>-68</td>\n      <td>0.165982</td>\n    </tr>\n    <tr>\n      <th>6970</th>\n      <td>values:animals</td>\n      <td>liwc2015:filler</td>\n      <td>0</td>\n      <td>69</td>\n      <td>1.074962</td>\n      <td>0.980616</td>\n      <td>-69</td>\n      <td>0.094346</td>\n    </tr>\n    <tr>\n      <th>6971</th>\n      <td>values:animals</td>\n      <td>values:accepting-others</td>\n      <td>3</td>\n      <td>81</td>\n      <td>1.150618</td>\n      <td>1.114197</td>\n      <td>-78</td>\n      <td>0.036421</td>\n    </tr>\n  </tbody>\n</table>\n<p>6972 rows × 8 columns</p>\n</div>"
     },
     "execution_count": 13,
     "metadata": {},
     "output_type": "execute_result"
    }
   ],
   "source": [
    "relative_ranks"
   ],
   "metadata": {
    "collapsed": false,
    "ExecuteTime": {
     "end_time": "2023-08-03T10:20:17.805132Z",
     "start_time": "2023-08-03T10:20:17.793226Z"
    }
   }
  },
  {
   "cell_type": "code",
   "execution_count": 14,
   "outputs": [
    {
     "data": {
      "text/plain": "              label_one             label_two  current_rank  control_rank  \\\n0     liwc2015:function           liwc2015:we            45            25   \n1     liwc2015:function         liwc2015:work            57            39   \n2     liwc2015:function        liwc2015:money            73            58   \n3     liwc2015:function     liwc2015:pconcern            67            54   \n4     liwc2015:function        liwc2015:anger            74            61   \n...                 ...                   ...           ...           ...   \n7135    liwc2015:filler          values:order            15            50   \n7136    liwc2015:filler  liwc2015:affiliation             9            47   \n7137    liwc2015:filler      liwc2015:certain            10            65   \n7138    liwc2015:filler       liwc2015:affect             3            58   \n7139    liwc2015:filler     liwc2015:informal             0            66   \n\n      current_distance  control_distance  rank_delta  distance_delta  \n0             0.011880          0.130866          20       -0.118986  \n1             0.025867          0.336770          18       -0.310903  \n2             0.177593          0.681783          15       -0.504190  \n3             0.071297          0.624154          13       -0.552857  \n4             0.190324          0.719446          13       -0.529122  \n...                ...               ...         ...             ...  \n7135          0.589706          0.989284         -35       -0.399577  \n7136          0.586435          0.985804         -38       -0.399368  \n7137          0.586919          1.022467         -55       -0.435548  \n7138          0.580702          1.000825         -55       -0.420123  \n7139          0.563608          1.025523         -66       -0.461915  \n\n[7140 rows x 8 columns]",
      "text/html": "<div>\n<style scoped>\n    .dataframe tbody tr th:only-of-type {\n        vertical-align: middle;\n    }\n\n    .dataframe tbody tr th {\n        vertical-align: top;\n    }\n\n    .dataframe thead th {\n        text-align: right;\n    }\n</style>\n<table border=\"1\" class=\"dataframe\">\n  <thead>\n    <tr style=\"text-align: right;\">\n      <th></th>\n      <th>label_one</th>\n      <th>label_two</th>\n      <th>current_rank</th>\n      <th>control_rank</th>\n      <th>current_distance</th>\n      <th>control_distance</th>\n      <th>rank_delta</th>\n      <th>distance_delta</th>\n    </tr>\n  </thead>\n  <tbody>\n    <tr>\n      <th>0</th>\n      <td>liwc2015:function</td>\n      <td>liwc2015:we</td>\n      <td>45</td>\n      <td>25</td>\n      <td>0.011880</td>\n      <td>0.130866</td>\n      <td>20</td>\n      <td>-0.118986</td>\n    </tr>\n    <tr>\n      <th>1</th>\n      <td>liwc2015:function</td>\n      <td>liwc2015:work</td>\n      <td>57</td>\n      <td>39</td>\n      <td>0.025867</td>\n      <td>0.336770</td>\n      <td>18</td>\n      <td>-0.310903</td>\n    </tr>\n    <tr>\n      <th>2</th>\n      <td>liwc2015:function</td>\n      <td>liwc2015:money</td>\n      <td>73</td>\n      <td>58</td>\n      <td>0.177593</td>\n      <td>0.681783</td>\n      <td>15</td>\n      <td>-0.504190</td>\n    </tr>\n    <tr>\n      <th>3</th>\n      <td>liwc2015:function</td>\n      <td>liwc2015:pconcern</td>\n      <td>67</td>\n      <td>54</td>\n      <td>0.071297</td>\n      <td>0.624154</td>\n      <td>13</td>\n      <td>-0.552857</td>\n    </tr>\n    <tr>\n      <th>4</th>\n      <td>liwc2015:function</td>\n      <td>liwc2015:anger</td>\n      <td>74</td>\n      <td>61</td>\n      <td>0.190324</td>\n      <td>0.719446</td>\n      <td>13</td>\n      <td>-0.529122</td>\n    </tr>\n    <tr>\n      <th>...</th>\n      <td>...</td>\n      <td>...</td>\n      <td>...</td>\n      <td>...</td>\n      <td>...</td>\n      <td>...</td>\n      <td>...</td>\n      <td>...</td>\n    </tr>\n    <tr>\n      <th>7135</th>\n      <td>liwc2015:filler</td>\n      <td>values:order</td>\n      <td>15</td>\n      <td>50</td>\n      <td>0.589706</td>\n      <td>0.989284</td>\n      <td>-35</td>\n      <td>-0.399577</td>\n    </tr>\n    <tr>\n      <th>7136</th>\n      <td>liwc2015:filler</td>\n      <td>liwc2015:affiliation</td>\n      <td>9</td>\n      <td>47</td>\n      <td>0.586435</td>\n      <td>0.985804</td>\n      <td>-38</td>\n      <td>-0.399368</td>\n    </tr>\n    <tr>\n      <th>7137</th>\n      <td>liwc2015:filler</td>\n      <td>liwc2015:certain</td>\n      <td>10</td>\n      <td>65</td>\n      <td>0.586919</td>\n      <td>1.022467</td>\n      <td>-55</td>\n      <td>-0.435548</td>\n    </tr>\n    <tr>\n      <th>7138</th>\n      <td>liwc2015:filler</td>\n      <td>liwc2015:affect</td>\n      <td>3</td>\n      <td>58</td>\n      <td>0.580702</td>\n      <td>1.000825</td>\n      <td>-55</td>\n      <td>-0.420123</td>\n    </tr>\n    <tr>\n      <th>7139</th>\n      <td>liwc2015:filler</td>\n      <td>liwc2015:informal</td>\n      <td>0</td>\n      <td>66</td>\n      <td>0.563608</td>\n      <td>1.025523</td>\n      <td>-66</td>\n      <td>-0.461915</td>\n    </tr>\n  </tbody>\n</table>\n<p>7140 rows × 8 columns</p>\n</div>"
     },
     "execution_count": 14,
     "metadata": {},
     "output_type": "execute_result"
    }
   ],
   "source": [
    "expanded_relative_ranks"
   ],
   "metadata": {
    "collapsed": false,
    "ExecuteTime": {
     "end_time": "2023-08-03T10:20:17.894336Z",
     "start_time": "2023-08-03T10:20:17.804467Z"
    }
   }
  },
  {
   "cell_type": "code",
   "execution_count": 14,
   "outputs": [],
   "source": [],
   "metadata": {
    "collapsed": false,
    "ExecuteTime": {
     "end_time": "2023-08-03T10:20:17.894494Z",
     "start_time": "2023-08-03T10:20:17.880451Z"
    }
   }
  }
 ],
 "metadata": {
  "kernelspec": {
   "display_name": "Python 3",
   "language": "python",
   "name": "python3"
  },
  "language_info": {
   "codemirror_mode": {
    "name": "ipython",
    "version": 2
   },
   "file_extension": ".py",
   "mimetype": "text/x-python",
   "name": "python",
   "nbconvert_exporter": "python",
   "pygments_lexer": "ipython2",
   "version": "2.7.6"
  }
 },
 "nbformat": 4,
 "nbformat_minor": 0
}
