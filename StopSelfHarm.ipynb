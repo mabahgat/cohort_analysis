{
 "cells": [
  {
   "cell_type": "markdown",
   "source": [
    "\n",
    "# Analysis Comparison between Original and Expanded Lexicons on Cohort Analysis Task\n",
    "\n",
    "Subreddit: StopSelfHarm"
   ],
   "metadata": {
    "collapsed": false
   }
  },
  {
   "cell_type": "code",
   "execution_count": 1,
   "outputs": [],
   "source": [
    "from pathlib import Path\n",
    "import pandas as pd\n",
    "\n",
    "from config import global_config\n",
    "from lexicons2 import Values, ValuesExpanded, Liwc2015, Liwc2015Expanded\n",
    "from spaces import WordEmbeddings, LabelEmbeddings"
   ],
   "metadata": {
    "collapsed": false,
    "ExecuteTime": {
     "end_time": "2023-08-03T10:20:44.559528Z",
     "start_time": "2023-08-03T10:20:43.884494Z"
    }
   }
  },
  {
   "cell_type": "code",
   "execution_count": 2,
   "outputs": [],
   "source": [
    "COHORT_NAME = 'StopSelfHarm'"
   ],
   "metadata": {
    "collapsed": false,
    "ExecuteTime": {
     "end_time": "2023-08-03T10:20:44.560129Z",
     "start_time": "2023-08-03T10:20:44.559041Z"
    }
   }
  },
  {
   "cell_type": "code",
   "execution_count": 3,
   "outputs": [],
   "source": [
    "cohort_corpus_path = global_config.reddit.submissions[COHORT_NAME]\n",
    "cohort_models_path = f'{global_config.paths.models}/{COHORT_NAME}'\n",
    "\n",
    "control_corpus_path = global_config.reddit.submissions['IAMA']\n",
    "control_models_path = f'{global_config.paths.models}/IAMA'"
   ],
   "metadata": {
    "collapsed": false,
    "ExecuteTime": {
     "end_time": "2023-08-03T10:20:44.561982Z",
     "start_time": "2023-08-03T10:20:44.559964Z"
    }
   }
  },
  {
   "cell_type": "code",
   "execution_count": 4,
   "outputs": [],
   "source": [
    "cohort_ranks_csv = f'{global_config.paths.ranks}/{COHORT_NAME}_ranks.csv'\n",
    "expanded_cohort_ranks_csv = f'{global_config.paths.ranks}/{COHORT_NAME}_ranks_expanded.csv'\n",
    "\n",
    "control_ranks_csv = f'{global_config.paths.ranks}/IAMA_ranks.csv'\n",
    "expanded_control_ranks_csv = f'{global_config.paths.ranks}/IAMA_ranks_expanded.csv'\n",
    "\n",
    "relative_ranks_csv = f'{global_config.paths.ranks}/{COHORT_NAME}_relative-ranks.csv'\n",
    "expanded_relative_ranks_csv = f'{global_config.paths.ranks}/{COHORT_NAME}_relative-ranks_expanded.csv'"
   ],
   "metadata": {
    "collapsed": false,
    "ExecuteTime": {
     "end_time": "2023-08-03T10:20:44.644047Z",
     "start_time": "2023-08-03T10:20:44.642965Z"
    }
   }
  },
  {
   "cell_type": "markdown",
   "source": [
    "Build Control Spaces"
   ],
   "metadata": {
    "collapsed": false
   }
  },
  {
   "cell_type": "code",
   "execution_count": 5,
   "outputs": [],
   "source": [
    "control_word_space = WordEmbeddings(corpus_path=control_corpus_path, model_path=control_models_path).build()"
   ],
   "metadata": {
    "collapsed": false,
    "ExecuteTime": {
     "end_time": "2023-08-03T10:20:48.094844Z",
     "start_time": "2023-08-03T10:20:44.644404Z"
    }
   }
  },
  {
   "cell_type": "code",
   "execution_count": 6,
   "outputs": [],
   "source": [
    "org_control_label_space = LabelEmbeddings(lexicons=[Liwc2015(), Values()], word_embeddings=control_word_space).build()"
   ],
   "metadata": {
    "collapsed": false,
    "ExecuteTime": {
     "end_time": "2023-08-03T10:20:50.082773Z",
     "start_time": "2023-08-03T10:20:48.092016Z"
    }
   }
  },
  {
   "cell_type": "code",
   "execution_count": 7,
   "outputs": [],
   "source": [
    "expanded_control_label_space = LabelEmbeddings(lexicons=[Liwc2015Expanded(), ValuesExpanded()], word_embeddings=control_word_space).build()"
   ],
   "metadata": {
    "collapsed": false,
    "ExecuteTime": {
     "end_time": "2023-08-03T10:21:14.120757Z",
     "start_time": "2023-08-03T10:20:50.082077Z"
    }
   }
  },
  {
   "cell_type": "markdown",
   "source": [
    "Build Cohort Spaces"
   ],
   "metadata": {
    "collapsed": false
   }
  },
  {
   "cell_type": "code",
   "execution_count": 8,
   "outputs": [],
   "source": [
    "cohort_word_space = WordEmbeddings(corpus_path=cohort_corpus_path, model_path=cohort_models_path).build()"
   ],
   "metadata": {
    "collapsed": false,
    "ExecuteTime": {
     "end_time": "2023-08-03T10:21:18.524749Z",
     "start_time": "2023-08-03T10:21:12.110042Z"
    }
   }
  },
  {
   "cell_type": "code",
   "execution_count": 9,
   "outputs": [],
   "source": [
    "org_cohort_label_space = LabelEmbeddings(lexicons=[Liwc2015(), Values()], word_embeddings=cohort_word_space).build()"
   ],
   "metadata": {
    "collapsed": false,
    "ExecuteTime": {
     "end_time": "2023-08-03T10:21:18.958795Z",
     "start_time": "2023-08-03T10:21:18.525426Z"
    }
   }
  },
  {
   "cell_type": "code",
   "execution_count": 10,
   "outputs": [],
   "source": [
    "expanded_cohort_label_space = LabelEmbeddings(lexicons=[Liwc2015Expanded(), ValuesExpanded()], word_embeddings=cohort_word_space).build()"
   ],
   "metadata": {
    "collapsed": false,
    "ExecuteTime": {
     "end_time": "2023-08-03T10:21:35.789892Z",
     "start_time": "2023-08-03T10:21:18.958616Z"
    }
   }
  },
  {
   "cell_type": "markdown",
   "source": [
    "Save and view results"
   ],
   "metadata": {
    "collapsed": false
   }
  },
  {
   "cell_type": "code",
   "execution_count": 11,
   "outputs": [],
   "source": [
    "def save_if_not_save_and_return(space: LabelEmbeddings, path: str):\n",
    "\tif not Path(path).exists():\n",
    "\t\tspace.save_distances_to_csv(path)\n",
    "\treturn pd.read_csv(path, names=['label_one', 'label_two', 'distance'])\n",
    "\n",
    "control_ranks = save_if_not_save_and_return(org_control_label_space, control_ranks_csv)\n",
    "expanded_control_ranks = save_if_not_save_and_return(expanded_control_label_space, expanded_control_ranks_csv)\n",
    "\n",
    "cohort_ranks = save_if_not_save_and_return(org_cohort_label_space, cohort_ranks_csv)\n",
    "expanded_cohort_ranks = save_if_not_save_and_return(expanded_cohort_label_space, expanded_cohort_ranks_csv)"
   ],
   "metadata": {
    "collapsed": false,
    "ExecuteTime": {
     "end_time": "2023-08-03T10:21:35.830967Z",
     "start_time": "2023-08-03T10:21:35.791469Z"
    }
   }
  },
  {
   "cell_type": "code",
   "execution_count": 12,
   "outputs": [],
   "source": [
    "org_cohort_label_space.compute_rank_deltas(org_control_label_space, relative_ranks_csv)\n",
    "relative_ranks = pd.read_csv(relative_ranks_csv, names=['label_one', 'label_two', 'current_rank', 'control_rank', 'current_distance', 'control_distance', 'rank_delta', 'distance_delta'])\n",
    "\n",
    "expanded_cohort_label_space.compute_rank_deltas(expanded_control_label_space, expanded_relative_ranks_csv)\n",
    "expanded_relative_ranks = pd.read_csv(expanded_relative_ranks_csv, names=['label_one', 'label_two', 'current_rank', 'control_rank', 'current_distance', 'control_distance', 'rank_delta', 'distance_delta'])"
   ],
   "metadata": {
    "collapsed": false,
    "ExecuteTime": {
     "end_time": "2023-08-03T10:21:35.929212Z",
     "start_time": "2023-08-03T10:21:35.831616Z"
    }
   }
  },
  {
   "cell_type": "markdown",
   "source": [
    "View Stuff"
   ],
   "metadata": {
    "collapsed": false
   }
  },
  {
   "cell_type": "code",
   "execution_count": 13,
   "outputs": [
    {
     "data": {
      "text/plain": "              label_one            label_two  current_rank  control_rank  \\\n0     liwc2015:function      values:learning            66            28   \n1     liwc2015:function          liwc2015:we            54            22   \n2     liwc2015:function  values:feeling-good            67            43   \n3     liwc2015:function         values:truth            79            55   \n4     liwc2015:function      values:children            74            50   \n...                 ...                  ...           ...           ...   \n6967     values:animals        liwc2015:home             5            68   \n6968     values:animals      values:religion             0            65   \n6969     values:animals        liwc2015:male             9            82   \n6970     values:animals       values:parents             4            78   \n6971     values:animals      values:children             1            76   \n\n      current_distance  control_distance  rank_delta  distance_delta  \n0             0.073958          0.178845          38       -0.104887  \n1             0.018628          0.130866          32       -0.112237  \n2             0.077803          0.499940          24       -0.422137  \n3             0.280839          0.713501          24       -0.432661  \n4             0.148450          0.680796          24       -0.532346  \n...                ...               ...         ...             ...  \n6967          0.895421          0.975827         -63       -0.080406  \n6968          0.812330          0.965300         -65       -0.152970  \n6969          0.910205          1.117406         -73       -0.207200  \n6970          0.870228          1.069746         -74       -0.199518  \n6971          0.812430          1.028190         -75       -0.215760  \n\n[6972 rows x 8 columns]",
      "text/html": "<div>\n<style scoped>\n    .dataframe tbody tr th:only-of-type {\n        vertical-align: middle;\n    }\n\n    .dataframe tbody tr th {\n        vertical-align: top;\n    }\n\n    .dataframe thead th {\n        text-align: right;\n    }\n</style>\n<table border=\"1\" class=\"dataframe\">\n  <thead>\n    <tr style=\"text-align: right;\">\n      <th></th>\n      <th>label_one</th>\n      <th>label_two</th>\n      <th>current_rank</th>\n      <th>control_rank</th>\n      <th>current_distance</th>\n      <th>control_distance</th>\n      <th>rank_delta</th>\n      <th>distance_delta</th>\n    </tr>\n  </thead>\n  <tbody>\n    <tr>\n      <th>0</th>\n      <td>liwc2015:function</td>\n      <td>values:learning</td>\n      <td>66</td>\n      <td>28</td>\n      <td>0.073958</td>\n      <td>0.178845</td>\n      <td>38</td>\n      <td>-0.104887</td>\n    </tr>\n    <tr>\n      <th>1</th>\n      <td>liwc2015:function</td>\n      <td>liwc2015:we</td>\n      <td>54</td>\n      <td>22</td>\n      <td>0.018628</td>\n      <td>0.130866</td>\n      <td>32</td>\n      <td>-0.112237</td>\n    </tr>\n    <tr>\n      <th>2</th>\n      <td>liwc2015:function</td>\n      <td>values:feeling-good</td>\n      <td>67</td>\n      <td>43</td>\n      <td>0.077803</td>\n      <td>0.499940</td>\n      <td>24</td>\n      <td>-0.422137</td>\n    </tr>\n    <tr>\n      <th>3</th>\n      <td>liwc2015:function</td>\n      <td>values:truth</td>\n      <td>79</td>\n      <td>55</td>\n      <td>0.280839</td>\n      <td>0.713501</td>\n      <td>24</td>\n      <td>-0.432661</td>\n    </tr>\n    <tr>\n      <th>4</th>\n      <td>liwc2015:function</td>\n      <td>values:children</td>\n      <td>74</td>\n      <td>50</td>\n      <td>0.148450</td>\n      <td>0.680796</td>\n      <td>24</td>\n      <td>-0.532346</td>\n    </tr>\n    <tr>\n      <th>...</th>\n      <td>...</td>\n      <td>...</td>\n      <td>...</td>\n      <td>...</td>\n      <td>...</td>\n      <td>...</td>\n      <td>...</td>\n      <td>...</td>\n    </tr>\n    <tr>\n      <th>6967</th>\n      <td>values:animals</td>\n      <td>liwc2015:home</td>\n      <td>5</td>\n      <td>68</td>\n      <td>0.895421</td>\n      <td>0.975827</td>\n      <td>-63</td>\n      <td>-0.080406</td>\n    </tr>\n    <tr>\n      <th>6968</th>\n      <td>values:animals</td>\n      <td>values:religion</td>\n      <td>0</td>\n      <td>65</td>\n      <td>0.812330</td>\n      <td>0.965300</td>\n      <td>-65</td>\n      <td>-0.152970</td>\n    </tr>\n    <tr>\n      <th>6969</th>\n      <td>values:animals</td>\n      <td>liwc2015:male</td>\n      <td>9</td>\n      <td>82</td>\n      <td>0.910205</td>\n      <td>1.117406</td>\n      <td>-73</td>\n      <td>-0.207200</td>\n    </tr>\n    <tr>\n      <th>6970</th>\n      <td>values:animals</td>\n      <td>values:parents</td>\n      <td>4</td>\n      <td>78</td>\n      <td>0.870228</td>\n      <td>1.069746</td>\n      <td>-74</td>\n      <td>-0.199518</td>\n    </tr>\n    <tr>\n      <th>6971</th>\n      <td>values:animals</td>\n      <td>values:children</td>\n      <td>1</td>\n      <td>76</td>\n      <td>0.812430</td>\n      <td>1.028190</td>\n      <td>-75</td>\n      <td>-0.215760</td>\n    </tr>\n  </tbody>\n</table>\n<p>6972 rows × 8 columns</p>\n</div>"
     },
     "execution_count": 13,
     "metadata": {},
     "output_type": "execute_result"
    }
   ],
   "source": [
    "relative_ranks"
   ],
   "metadata": {
    "collapsed": false,
    "ExecuteTime": {
     "end_time": "2023-08-03T10:21:35.947451Z",
     "start_time": "2023-08-03T10:21:35.937105Z"
    }
   }
  },
  {
   "cell_type": "code",
   "execution_count": 14,
   "outputs": [
    {
     "data": {
      "text/plain": "              label_one          label_two  current_rank  control_rank  \\\n0     liwc2015:function        liwc2015:we            63            25   \n1     liwc2015:function      liwc2015:work            64            39   \n2     liwc2015:function     liwc2015:money            75            58   \n3     liwc2015:function  liwc2015:netspeak            82            68   \n4     liwc2015:function    liwc2015:negate            41            28   \n...                 ...                ...           ...           ...   \n7135     liwc2015:relig    liwc2015:negemo             4            52   \n7136     liwc2015:relig      liwc2015:body            11            62   \n7137     liwc2015:relig       liwc2015:anx             3            56   \n7138     liwc2015:relig   liwc2015:relativ             9            64   \n7139     liwc2015:relig    liwc2015:achiev             6            67   \n\n      current_distance  control_distance  rank_delta  distance_delta  \n0             0.018628          0.130866          38       -0.112237  \n1             0.019321          0.336770          25       -0.317449  \n2             0.080604          0.681783          17       -0.601179  \n3             0.217174          0.781215          14       -0.564040  \n4             0.003164          0.150002          13       -0.146838  \n...                ...               ...         ...             ...  \n7135          0.369595          0.953860         -48       -0.584264  \n7136          0.372194          0.986268         -51       -0.614074  \n7137          0.369150          0.958372         -53       -0.589222  \n7138          0.371728          0.993088         -55       -0.621361  \n7139          0.370678          1.011724         -61       -0.641046  \n\n[7140 rows x 8 columns]",
      "text/html": "<div>\n<style scoped>\n    .dataframe tbody tr th:only-of-type {\n        vertical-align: middle;\n    }\n\n    .dataframe tbody tr th {\n        vertical-align: top;\n    }\n\n    .dataframe thead th {\n        text-align: right;\n    }\n</style>\n<table border=\"1\" class=\"dataframe\">\n  <thead>\n    <tr style=\"text-align: right;\">\n      <th></th>\n      <th>label_one</th>\n      <th>label_two</th>\n      <th>current_rank</th>\n      <th>control_rank</th>\n      <th>current_distance</th>\n      <th>control_distance</th>\n      <th>rank_delta</th>\n      <th>distance_delta</th>\n    </tr>\n  </thead>\n  <tbody>\n    <tr>\n      <th>0</th>\n      <td>liwc2015:function</td>\n      <td>liwc2015:we</td>\n      <td>63</td>\n      <td>25</td>\n      <td>0.018628</td>\n      <td>0.130866</td>\n      <td>38</td>\n      <td>-0.112237</td>\n    </tr>\n    <tr>\n      <th>1</th>\n      <td>liwc2015:function</td>\n      <td>liwc2015:work</td>\n      <td>64</td>\n      <td>39</td>\n      <td>0.019321</td>\n      <td>0.336770</td>\n      <td>25</td>\n      <td>-0.317449</td>\n    </tr>\n    <tr>\n      <th>2</th>\n      <td>liwc2015:function</td>\n      <td>liwc2015:money</td>\n      <td>75</td>\n      <td>58</td>\n      <td>0.080604</td>\n      <td>0.681783</td>\n      <td>17</td>\n      <td>-0.601179</td>\n    </tr>\n    <tr>\n      <th>3</th>\n      <td>liwc2015:function</td>\n      <td>liwc2015:netspeak</td>\n      <td>82</td>\n      <td>68</td>\n      <td>0.217174</td>\n      <td>0.781215</td>\n      <td>14</td>\n      <td>-0.564040</td>\n    </tr>\n    <tr>\n      <th>4</th>\n      <td>liwc2015:function</td>\n      <td>liwc2015:negate</td>\n      <td>41</td>\n      <td>28</td>\n      <td>0.003164</td>\n      <td>0.150002</td>\n      <td>13</td>\n      <td>-0.146838</td>\n    </tr>\n    <tr>\n      <th>...</th>\n      <td>...</td>\n      <td>...</td>\n      <td>...</td>\n      <td>...</td>\n      <td>...</td>\n      <td>...</td>\n      <td>...</td>\n      <td>...</td>\n    </tr>\n    <tr>\n      <th>7135</th>\n      <td>liwc2015:relig</td>\n      <td>liwc2015:negemo</td>\n      <td>4</td>\n      <td>52</td>\n      <td>0.369595</td>\n      <td>0.953860</td>\n      <td>-48</td>\n      <td>-0.584264</td>\n    </tr>\n    <tr>\n      <th>7136</th>\n      <td>liwc2015:relig</td>\n      <td>liwc2015:body</td>\n      <td>11</td>\n      <td>62</td>\n      <td>0.372194</td>\n      <td>0.986268</td>\n      <td>-51</td>\n      <td>-0.614074</td>\n    </tr>\n    <tr>\n      <th>7137</th>\n      <td>liwc2015:relig</td>\n      <td>liwc2015:anx</td>\n      <td>3</td>\n      <td>56</td>\n      <td>0.369150</td>\n      <td>0.958372</td>\n      <td>-53</td>\n      <td>-0.589222</td>\n    </tr>\n    <tr>\n      <th>7138</th>\n      <td>liwc2015:relig</td>\n      <td>liwc2015:relativ</td>\n      <td>9</td>\n      <td>64</td>\n      <td>0.371728</td>\n      <td>0.993088</td>\n      <td>-55</td>\n      <td>-0.621361</td>\n    </tr>\n    <tr>\n      <th>7139</th>\n      <td>liwc2015:relig</td>\n      <td>liwc2015:achiev</td>\n      <td>6</td>\n      <td>67</td>\n      <td>0.370678</td>\n      <td>1.011724</td>\n      <td>-61</td>\n      <td>-0.641046</td>\n    </tr>\n  </tbody>\n</table>\n<p>7140 rows × 8 columns</p>\n</div>"
     },
     "execution_count": 14,
     "metadata": {},
     "output_type": "execute_result"
    }
   ],
   "source": [
    "expanded_relative_ranks"
   ],
   "metadata": {
    "collapsed": false,
    "ExecuteTime": {
     "end_time": "2023-08-03T10:21:36.014913Z",
     "start_time": "2023-08-03T10:21:35.946672Z"
    }
   }
  },
  {
   "cell_type": "code",
   "execution_count": 14,
   "outputs": [],
   "source": [],
   "metadata": {
    "collapsed": false,
    "ExecuteTime": {
     "end_time": "2023-08-03T10:21:36.015066Z",
     "start_time": "2023-08-03T10:21:36.014613Z"
    }
   }
  }
 ],
 "metadata": {
  "kernelspec": {
   "display_name": "Python 3",
   "language": "python",
   "name": "python3"
  },
  "language_info": {
   "codemirror_mode": {
    "name": "ipython",
    "version": 2
   },
   "file_extension": ".py",
   "mimetype": "text/x-python",
   "name": "python",
   "nbconvert_exporter": "python",
   "pygments_lexer": "ipython2",
   "version": "2.7.6"
  }
 },
 "nbformat": 4,
 "nbformat_minor": 0
}
