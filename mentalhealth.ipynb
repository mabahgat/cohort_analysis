{
 "cells": [
  {
   "cell_type": "markdown",
   "source": [
    "\n",
    "# Analysis Comparison between Original and Expanded Lexicons on Cohort Analysis Task\n",
    "\n",
    "Subreddit: Mental Heatlh"
   ],
   "metadata": {
    "collapsed": false
   }
  },
  {
   "cell_type": "code",
   "execution_count": 1,
   "outputs": [],
   "source": [
    "from pathlib import Path\n",
    "import pandas as pd\n",
    "\n",
    "from config import global_config\n",
    "from lexicons2 import Values, ValuesExpanded, Liwc2015, Liwc2015Expanded\n",
    "from spaces import WordEmbeddings, LabelEmbeddings"
   ],
   "metadata": {
    "collapsed": false,
    "ExecuteTime": {
     "end_time": "2023-08-03T10:09:14.513751Z",
     "start_time": "2023-08-03T10:09:13.868960Z"
    }
   }
  },
  {
   "cell_type": "code",
   "execution_count": 2,
   "outputs": [],
   "source": [
    "COHORT_NAME = 'mentalhealth'"
   ],
   "metadata": {
    "collapsed": false,
    "ExecuteTime": {
     "end_time": "2023-08-03T10:09:14.514465Z",
     "start_time": "2023-08-03T10:09:14.510427Z"
    }
   }
  },
  {
   "cell_type": "code",
   "execution_count": 3,
   "outputs": [],
   "source": [
    "cohort_corpus_path = global_config.reddit.submissions[COHORT_NAME]\n",
    "cohort_models_path = f'{global_config.paths.models}/{COHORT_NAME}'\n",
    "\n",
    "control_corpus_path = global_config.reddit.submissions['IAMA']\n",
    "control_models_path = f'{global_config.paths.models}/IAMA'"
   ],
   "metadata": {
    "collapsed": false,
    "ExecuteTime": {
     "end_time": "2023-08-03T10:09:14.517687Z",
     "start_time": "2023-08-03T10:09:14.517574Z"
    }
   }
  },
  {
   "cell_type": "code",
   "execution_count": 4,
   "outputs": [],
   "source": [
    "cohort_ranks_csv = f'{global_config.paths.ranks}/{COHORT_NAME}_ranks.csv'\n",
    "expanded_cohort_ranks_csv = f'{global_config.paths.ranks}/{COHORT_NAME}_ranks_expanded.csv'\n",
    "\n",
    "control_ranks_csv = f'{global_config.paths.ranks}/IAMA_ranks.csv'\n",
    "expanded_control_ranks_csv = f'{global_config.paths.ranks}/IAMA_ranks_expanded.csv'\n",
    "\n",
    "relative_ranks_csv = f'{global_config.paths.ranks}/{COHORT_NAME}_relative-ranks.csv'\n",
    "expanded_relative_ranks_csv = f'{global_config.paths.ranks}/{COHORT_NAME}_relative-ranks_expanded.csv'"
   ],
   "metadata": {
    "collapsed": false,
    "ExecuteTime": {
     "end_time": "2023-08-03T10:09:14.592221Z",
     "start_time": "2023-08-03T10:09:14.591429Z"
    }
   }
  },
  {
   "cell_type": "markdown",
   "source": [
    "Build Control Spaces"
   ],
   "metadata": {
    "collapsed": false
   }
  },
  {
   "cell_type": "code",
   "execution_count": 5,
   "outputs": [],
   "source": [
    "control_word_space = WordEmbeddings(corpus_path=control_corpus_path, model_path=control_models_path).build()"
   ],
   "metadata": {
    "collapsed": false,
    "ExecuteTime": {
     "end_time": "2023-08-03T10:09:16.942246Z",
     "start_time": "2023-08-03T10:09:14.592068Z"
    }
   }
  },
  {
   "cell_type": "code",
   "execution_count": 6,
   "outputs": [],
   "source": [
    "org_control_label_space = LabelEmbeddings(lexicons=[Liwc2015(), Values()], word_embeddings=control_word_space).build()"
   ],
   "metadata": {
    "collapsed": false,
    "ExecuteTime": {
     "end_time": "2023-08-03T10:09:18.732438Z",
     "start_time": "2023-08-03T10:09:16.941957Z"
    }
   }
  },
  {
   "cell_type": "code",
   "execution_count": 7,
   "outputs": [],
   "source": [
    "expanded_control_label_space = LabelEmbeddings(lexicons=[Liwc2015Expanded(), ValuesExpanded()], word_embeddings=control_word_space).build()"
   ],
   "metadata": {
    "collapsed": false,
    "ExecuteTime": {
     "end_time": "2023-08-03T10:09:38.225639Z",
     "start_time": "2023-08-03T10:09:18.731822Z"
    }
   }
  },
  {
   "cell_type": "markdown",
   "source": [
    "Build Cohort Spaces"
   ],
   "metadata": {
    "collapsed": false
   }
  },
  {
   "cell_type": "code",
   "execution_count": 8,
   "outputs": [],
   "source": [
    "cohort_word_space = WordEmbeddings(corpus_path=cohort_corpus_path, model_path=cohort_models_path).build()"
   ],
   "metadata": {
    "collapsed": false,
    "ExecuteTime": {
     "end_time": "2023-08-03T10:09:39.737784Z",
     "start_time": "2023-08-03T10:09:38.224988Z"
    }
   }
  },
  {
   "cell_type": "code",
   "execution_count": 9,
   "outputs": [],
   "source": [
    "org_cohort_label_space = LabelEmbeddings(lexicons=[Liwc2015(), Values()], word_embeddings=cohort_word_space).build()"
   ],
   "metadata": {
    "collapsed": false,
    "ExecuteTime": {
     "end_time": "2023-08-03T10:09:41.200877Z",
     "start_time": "2023-08-03T10:09:39.737360Z"
    }
   }
  },
  {
   "cell_type": "code",
   "execution_count": 10,
   "outputs": [],
   "source": [
    "expanded_cohort_label_space = LabelEmbeddings(lexicons=[Liwc2015Expanded(), ValuesExpanded()], word_embeddings=cohort_word_space).build()"
   ],
   "metadata": {
    "collapsed": false,
    "ExecuteTime": {
     "end_time": "2023-08-03T10:09:59.287196Z",
     "start_time": "2023-08-03T10:09:41.209874Z"
    }
   }
  },
  {
   "cell_type": "markdown",
   "source": [
    "Save and view results"
   ],
   "metadata": {
    "collapsed": false
   }
  },
  {
   "cell_type": "code",
   "execution_count": 11,
   "outputs": [],
   "source": [
    "def save_if_not_save_and_return(space: LabelEmbeddings, path: str):\n",
    "\tif not Path(path).exists():\n",
    "\t\tspace.save_distances_to_csv(path)\n",
    "\treturn pd.read_csv(path, names=['label_one', 'label_two', 'distance'])\n",
    "\n",
    "control_ranks = save_if_not_save_and_return(org_control_label_space, control_ranks_csv)\n",
    "expanded_control_ranks = save_if_not_save_and_return(expanded_control_label_space, expanded_control_ranks_csv)\n",
    "\n",
    "cohort_ranks = save_if_not_save_and_return(org_cohort_label_space, cohort_ranks_csv)\n",
    "expanded_cohort_ranks = save_if_not_save_and_return(expanded_cohort_label_space, expanded_cohort_ranks_csv)"
   ],
   "metadata": {
    "collapsed": false,
    "ExecuteTime": {
     "end_time": "2023-08-03T10:09:59.293159Z",
     "start_time": "2023-08-03T10:09:59.286584Z"
    }
   }
  },
  {
   "cell_type": "code",
   "execution_count": 12,
   "outputs": [],
   "source": [
    "org_cohort_label_space.compute_rank_deltas(org_control_label_space, relative_ranks_csv)\n",
    "relative_ranks = pd.read_csv(relative_ranks_csv, names=['label_one', 'label_two', 'current_rank', 'control_rank', 'current_distance', 'control_distance', 'rank_delta', 'distance_delta'])\n",
    "\n",
    "expanded_cohort_label_space.compute_rank_deltas(expanded_control_label_space, expanded_relative_ranks_csv)\n",
    "expanded_relative_ranks = pd.read_csv(expanded_relative_ranks_csv, names=['label_one', 'label_two', 'current_rank', 'control_rank', 'current_distance', 'control_distance', 'rank_delta', 'distance_delta'])"
   ],
   "metadata": {
    "collapsed": false,
    "ExecuteTime": {
     "end_time": "2023-08-03T10:09:59.427947Z",
     "start_time": "2023-08-03T10:09:59.295485Z"
    }
   }
  },
  {
   "cell_type": "markdown",
   "source": [
    "View Stuff"
   ],
   "metadata": {
    "collapsed": false
   }
  },
  {
   "cell_type": "code",
   "execution_count": 13,
   "outputs": [
    {
     "data": {
      "text/plain": "              label_one            label_two  current_rank  control_rank  \\\n0     liwc2015:function      values:learning            64            28   \n1     liwc2015:function  values:feeling-good            76            43   \n2     liwc2015:function      values:children            75            50   \n3     liwc2015:function       liwc2015:money            70            51   \n4     liwc2015:function       values:animals            81            64   \n...                 ...                  ...           ...           ...   \n6967     values:animals        liwc2015:male            29            82   \n6968     values:animals         liwc2015:sad             4            58   \n6969     values:animals        liwc2015:home            12            68   \n6970     values:animals         values:truth             8            71   \n6971     values:animals      liwc2015:filler             1            69   \n\n      current_distance  control_distance  rank_delta  distance_delta  \n0             0.220263          0.178845          36        0.041419  \n1             0.591848          0.499940          33        0.091908  \n2             0.466853          0.680796          25       -0.213943  \n3             0.295679          0.681783          19       -0.386104  \n4             0.801544          0.794112          17        0.007432  \n...                ...               ...         ...             ...  \n6967          0.800333          1.117406         -53       -0.317073  \n6968          0.747120          0.906883         -54       -0.159763  \n6969          0.785926          0.975827         -56       -0.189901  \n6970          0.770242          0.982374         -63       -0.212133  \n6971          0.714395          0.980616         -68       -0.266221  \n\n[6972 rows x 8 columns]",
      "text/html": "<div>\n<style scoped>\n    .dataframe tbody tr th:only-of-type {\n        vertical-align: middle;\n    }\n\n    .dataframe tbody tr th {\n        vertical-align: top;\n    }\n\n    .dataframe thead th {\n        text-align: right;\n    }\n</style>\n<table border=\"1\" class=\"dataframe\">\n  <thead>\n    <tr style=\"text-align: right;\">\n      <th></th>\n      <th>label_one</th>\n      <th>label_two</th>\n      <th>current_rank</th>\n      <th>control_rank</th>\n      <th>current_distance</th>\n      <th>control_distance</th>\n      <th>rank_delta</th>\n      <th>distance_delta</th>\n    </tr>\n  </thead>\n  <tbody>\n    <tr>\n      <th>0</th>\n      <td>liwc2015:function</td>\n      <td>values:learning</td>\n      <td>64</td>\n      <td>28</td>\n      <td>0.220263</td>\n      <td>0.178845</td>\n      <td>36</td>\n      <td>0.041419</td>\n    </tr>\n    <tr>\n      <th>1</th>\n      <td>liwc2015:function</td>\n      <td>values:feeling-good</td>\n      <td>76</td>\n      <td>43</td>\n      <td>0.591848</td>\n      <td>0.499940</td>\n      <td>33</td>\n      <td>0.091908</td>\n    </tr>\n    <tr>\n      <th>2</th>\n      <td>liwc2015:function</td>\n      <td>values:children</td>\n      <td>75</td>\n      <td>50</td>\n      <td>0.466853</td>\n      <td>0.680796</td>\n      <td>25</td>\n      <td>-0.213943</td>\n    </tr>\n    <tr>\n      <th>3</th>\n      <td>liwc2015:function</td>\n      <td>liwc2015:money</td>\n      <td>70</td>\n      <td>51</td>\n      <td>0.295679</td>\n      <td>0.681783</td>\n      <td>19</td>\n      <td>-0.386104</td>\n    </tr>\n    <tr>\n      <th>4</th>\n      <td>liwc2015:function</td>\n      <td>values:animals</td>\n      <td>81</td>\n      <td>64</td>\n      <td>0.801544</td>\n      <td>0.794112</td>\n      <td>17</td>\n      <td>0.007432</td>\n    </tr>\n    <tr>\n      <th>...</th>\n      <td>...</td>\n      <td>...</td>\n      <td>...</td>\n      <td>...</td>\n      <td>...</td>\n      <td>...</td>\n      <td>...</td>\n      <td>...</td>\n    </tr>\n    <tr>\n      <th>6967</th>\n      <td>values:animals</td>\n      <td>liwc2015:male</td>\n      <td>29</td>\n      <td>82</td>\n      <td>0.800333</td>\n      <td>1.117406</td>\n      <td>-53</td>\n      <td>-0.317073</td>\n    </tr>\n    <tr>\n      <th>6968</th>\n      <td>values:animals</td>\n      <td>liwc2015:sad</td>\n      <td>4</td>\n      <td>58</td>\n      <td>0.747120</td>\n      <td>0.906883</td>\n      <td>-54</td>\n      <td>-0.159763</td>\n    </tr>\n    <tr>\n      <th>6969</th>\n      <td>values:animals</td>\n      <td>liwc2015:home</td>\n      <td>12</td>\n      <td>68</td>\n      <td>0.785926</td>\n      <td>0.975827</td>\n      <td>-56</td>\n      <td>-0.189901</td>\n    </tr>\n    <tr>\n      <th>6970</th>\n      <td>values:animals</td>\n      <td>values:truth</td>\n      <td>8</td>\n      <td>71</td>\n      <td>0.770242</td>\n      <td>0.982374</td>\n      <td>-63</td>\n      <td>-0.212133</td>\n    </tr>\n    <tr>\n      <th>6971</th>\n      <td>values:animals</td>\n      <td>liwc2015:filler</td>\n      <td>1</td>\n      <td>69</td>\n      <td>0.714395</td>\n      <td>0.980616</td>\n      <td>-68</td>\n      <td>-0.266221</td>\n    </tr>\n  </tbody>\n</table>\n<p>6972 rows × 8 columns</p>\n</div>"
     },
     "execution_count": 13,
     "metadata": {},
     "output_type": "execute_result"
    }
   ],
   "source": [
    "relative_ranks"
   ],
   "metadata": {
    "collapsed": false,
    "ExecuteTime": {
     "end_time": "2023-08-03T10:09:59.444218Z",
     "start_time": "2023-08-03T10:09:59.427522Z"
    }
   }
  },
  {
   "cell_type": "code",
   "execution_count": 14,
   "outputs": [
    {
     "data": {
      "text/plain": "              label_one          label_two  current_rank  control_rank  \\\n0     liwc2015:function    liwc2015:posemo            53            34   \n1     liwc2015:function      liwc2015:work            56            39   \n2     liwc2015:function     liwc2015:money            75            58   \n3     liwc2015:function  liwc2015:pconcern            70            54   \n4     liwc2015:function  liwc2015:netspeak            80            68   \n...                 ...                ...           ...           ...   \n7135     liwc2015:relig     liwc2015:space            14            68   \n7136     liwc2015:relig   liwc2015:percept            10            72   \n7137     liwc2015:relig     values:parents             3            71   \n7138     liwc2015:relig    liwc2015:friend             1            76   \n7139     liwc2015:relig      liwc2015:feel             6            83   \n\n      current_distance  control_distance  rank_delta  distance_delta  \n0             0.066118          0.259349          19       -0.193231  \n1             0.089691          0.336770          17       -0.247079  \n2             0.295679          0.681783          17       -0.386104  \n3             0.213819          0.624154          16       -0.410335  \n4             0.596505          0.781215          12       -0.184709  \n...                ...               ...         ...             ...  \n7135          0.742864          1.013450         -54       -0.270586  \n7136          0.731795          1.029727         -62       -0.297931  \n7137          0.717833          1.022422         -68       -0.304589  \n7138          0.707746          1.092038         -75       -0.384292  \n7139          0.725723          1.212933         -77       -0.487210  \n\n[7140 rows x 8 columns]",
      "text/html": "<div>\n<style scoped>\n    .dataframe tbody tr th:only-of-type {\n        vertical-align: middle;\n    }\n\n    .dataframe tbody tr th {\n        vertical-align: top;\n    }\n\n    .dataframe thead th {\n        text-align: right;\n    }\n</style>\n<table border=\"1\" class=\"dataframe\">\n  <thead>\n    <tr style=\"text-align: right;\">\n      <th></th>\n      <th>label_one</th>\n      <th>label_two</th>\n      <th>current_rank</th>\n      <th>control_rank</th>\n      <th>current_distance</th>\n      <th>control_distance</th>\n      <th>rank_delta</th>\n      <th>distance_delta</th>\n    </tr>\n  </thead>\n  <tbody>\n    <tr>\n      <th>0</th>\n      <td>liwc2015:function</td>\n      <td>liwc2015:posemo</td>\n      <td>53</td>\n      <td>34</td>\n      <td>0.066118</td>\n      <td>0.259349</td>\n      <td>19</td>\n      <td>-0.193231</td>\n    </tr>\n    <tr>\n      <th>1</th>\n      <td>liwc2015:function</td>\n      <td>liwc2015:work</td>\n      <td>56</td>\n      <td>39</td>\n      <td>0.089691</td>\n      <td>0.336770</td>\n      <td>17</td>\n      <td>-0.247079</td>\n    </tr>\n    <tr>\n      <th>2</th>\n      <td>liwc2015:function</td>\n      <td>liwc2015:money</td>\n      <td>75</td>\n      <td>58</td>\n      <td>0.295679</td>\n      <td>0.681783</td>\n      <td>17</td>\n      <td>-0.386104</td>\n    </tr>\n    <tr>\n      <th>3</th>\n      <td>liwc2015:function</td>\n      <td>liwc2015:pconcern</td>\n      <td>70</td>\n      <td>54</td>\n      <td>0.213819</td>\n      <td>0.624154</td>\n      <td>16</td>\n      <td>-0.410335</td>\n    </tr>\n    <tr>\n      <th>4</th>\n      <td>liwc2015:function</td>\n      <td>liwc2015:netspeak</td>\n      <td>80</td>\n      <td>68</td>\n      <td>0.596505</td>\n      <td>0.781215</td>\n      <td>12</td>\n      <td>-0.184709</td>\n    </tr>\n    <tr>\n      <th>...</th>\n      <td>...</td>\n      <td>...</td>\n      <td>...</td>\n      <td>...</td>\n      <td>...</td>\n      <td>...</td>\n      <td>...</td>\n      <td>...</td>\n    </tr>\n    <tr>\n      <th>7135</th>\n      <td>liwc2015:relig</td>\n      <td>liwc2015:space</td>\n      <td>14</td>\n      <td>68</td>\n      <td>0.742864</td>\n      <td>1.013450</td>\n      <td>-54</td>\n      <td>-0.270586</td>\n    </tr>\n    <tr>\n      <th>7136</th>\n      <td>liwc2015:relig</td>\n      <td>liwc2015:percept</td>\n      <td>10</td>\n      <td>72</td>\n      <td>0.731795</td>\n      <td>1.029727</td>\n      <td>-62</td>\n      <td>-0.297931</td>\n    </tr>\n    <tr>\n      <th>7137</th>\n      <td>liwc2015:relig</td>\n      <td>values:parents</td>\n      <td>3</td>\n      <td>71</td>\n      <td>0.717833</td>\n      <td>1.022422</td>\n      <td>-68</td>\n      <td>-0.304589</td>\n    </tr>\n    <tr>\n      <th>7138</th>\n      <td>liwc2015:relig</td>\n      <td>liwc2015:friend</td>\n      <td>1</td>\n      <td>76</td>\n      <td>0.707746</td>\n      <td>1.092038</td>\n      <td>-75</td>\n      <td>-0.384292</td>\n    </tr>\n    <tr>\n      <th>7139</th>\n      <td>liwc2015:relig</td>\n      <td>liwc2015:feel</td>\n      <td>6</td>\n      <td>83</td>\n      <td>0.725723</td>\n      <td>1.212933</td>\n      <td>-77</td>\n      <td>-0.487210</td>\n    </tr>\n  </tbody>\n</table>\n<p>7140 rows × 8 columns</p>\n</div>"
     },
     "execution_count": 14,
     "metadata": {},
     "output_type": "execute_result"
    }
   ],
   "source": [
    "expanded_relative_ranks"
   ],
   "metadata": {
    "collapsed": false,
    "ExecuteTime": {
     "end_time": "2023-08-03T10:09:59.534045Z",
     "start_time": "2023-08-03T10:09:59.444611Z"
    }
   }
  },
  {
   "cell_type": "code",
   "execution_count": 14,
   "outputs": [],
   "source": [],
   "metadata": {
    "collapsed": false,
    "ExecuteTime": {
     "end_time": "2023-08-03T10:09:59.534228Z",
     "start_time": "2023-08-03T10:09:59.530063Z"
    }
   }
  }
 ],
 "metadata": {
  "kernelspec": {
   "display_name": "Python 3",
   "language": "python",
   "name": "python3"
  },
  "language_info": {
   "codemirror_mode": {
    "name": "ipython",
    "version": 2
   },
   "file_extension": ".py",
   "mimetype": "text/x-python",
   "name": "python",
   "nbconvert_exporter": "python",
   "pygments_lexer": "ipython2",
   "version": "2.7.6"
  }
 },
 "nbformat": 4,
 "nbformat_minor": 0
}
