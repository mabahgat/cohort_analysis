{
 "cells": [
  {
   "cell_type": "markdown",
   "source": [
    "\n",
    "# Analysis Comparison between Original and Expanded Lexicons on Cohort Analysis Task\n",
    "\n",
    "Subreddit: CPTSD"
   ],
   "metadata": {
    "collapsed": false
   }
  },
  {
   "cell_type": "code",
   "execution_count": 1,
   "outputs": [],
   "source": [
    "from pathlib import Path\n",
    "import pandas as pd\n",
    "\n",
    "from config import global_config\n",
    "from lexicons2 import Values, ValuesExpanded, Liwc2015, Liwc2015Expanded\n",
    "from spaces import WordEmbeddings, LabelEmbeddings"
   ],
   "metadata": {
    "collapsed": false,
    "ExecuteTime": {
     "end_time": "2023-08-03T10:21:34.680022Z",
     "start_time": "2023-08-03T10:21:34.014924Z"
    }
   }
  },
  {
   "cell_type": "code",
   "execution_count": 2,
   "outputs": [],
   "source": [
    "COHORT_NAME = 'CPTSD'"
   ],
   "metadata": {
    "collapsed": false,
    "ExecuteTime": {
     "end_time": "2023-08-03T10:21:34.681479Z",
     "start_time": "2023-08-03T10:21:34.679859Z"
    }
   }
  },
  {
   "cell_type": "code",
   "execution_count": 3,
   "outputs": [],
   "source": [
    "cohort_corpus_path = global_config.reddit.submissions[COHORT_NAME]\n",
    "cohort_models_path = f'{global_config.paths.models}/{COHORT_NAME}'\n",
    "\n",
    "control_corpus_path = global_config.reddit.submissions['IAMA']\n",
    "control_models_path = f'{global_config.paths.models}/IAMA'"
   ],
   "metadata": {
    "collapsed": false,
    "ExecuteTime": {
     "end_time": "2023-08-03T10:21:34.786205Z",
     "start_time": "2023-08-03T10:21:34.680341Z"
    }
   }
  },
  {
   "cell_type": "code",
   "execution_count": 4,
   "outputs": [],
   "source": [
    "cohort_ranks_csv = f'{global_config.paths.ranks}/{COHORT_NAME}_ranks.csv'\n",
    "expanded_cohort_ranks_csv = f'{global_config.paths.ranks}/{COHORT_NAME}_ranks_expanded.csv'\n",
    "\n",
    "control_ranks_csv = f'{global_config.paths.ranks}/IAMA_ranks.csv'\n",
    "expanded_control_ranks_csv = f'{global_config.paths.ranks}/IAMA_ranks_expanded.csv'\n",
    "\n",
    "relative_ranks_csv = f'{global_config.paths.ranks}/{COHORT_NAME}_relative-ranks.csv'\n",
    "expanded_relative_ranks_csv = f'{global_config.paths.ranks}/{COHORT_NAME}_relative-ranks_expanded.csv'"
   ],
   "metadata": {
    "collapsed": false,
    "ExecuteTime": {
     "end_time": "2023-08-03T10:21:34.786395Z",
     "start_time": "2023-08-03T10:21:34.786004Z"
    }
   }
  },
  {
   "cell_type": "markdown",
   "source": [
    "Build Control Spaces"
   ],
   "metadata": {
    "collapsed": false
   }
  },
  {
   "cell_type": "code",
   "execution_count": 5,
   "outputs": [],
   "source": [
    "control_word_space = WordEmbeddings(corpus_path=control_corpus_path, model_path=control_models_path).build()"
   ],
   "metadata": {
    "collapsed": false,
    "ExecuteTime": {
     "end_time": "2023-08-03T10:21:38.745212Z",
     "start_time": "2023-08-03T10:21:34.787645Z"
    }
   }
  },
  {
   "cell_type": "code",
   "execution_count": 6,
   "outputs": [],
   "source": [
    "org_control_label_space = LabelEmbeddings(lexicons=[Liwc2015(), Values()], word_embeddings=control_word_space).build()"
   ],
   "metadata": {
    "collapsed": false,
    "ExecuteTime": {
     "end_time": "2023-08-03T10:21:40.628167Z",
     "start_time": "2023-08-03T10:21:38.745061Z"
    }
   }
  },
  {
   "cell_type": "code",
   "execution_count": 7,
   "outputs": [],
   "source": [
    "expanded_control_label_space = LabelEmbeddings(lexicons=[Liwc2015Expanded(), ValuesExpanded()], word_embeddings=control_word_space).build()"
   ],
   "metadata": {
    "collapsed": false,
    "ExecuteTime": {
     "end_time": "2023-08-03T10:22:01.436607Z",
     "start_time": "2023-08-03T10:21:40.627565Z"
    }
   }
  },
  {
   "cell_type": "markdown",
   "source": [
    "Build Cohort Spaces"
   ],
   "metadata": {
    "collapsed": false
   }
  },
  {
   "cell_type": "code",
   "execution_count": 8,
   "outputs": [],
   "source": [
    "cohort_word_space = WordEmbeddings(corpus_path=cohort_corpus_path, model_path=cohort_models_path).build()"
   ],
   "metadata": {
    "collapsed": false,
    "ExecuteTime": {
     "end_time": "2023-08-03T10:24:59.018847Z",
     "start_time": "2023-08-03T10:22:01.436257Z"
    }
   }
  },
  {
   "cell_type": "code",
   "execution_count": 9,
   "outputs": [],
   "source": [
    "org_cohort_label_space = LabelEmbeddings(lexicons=[Liwc2015(), Values()], word_embeddings=cohort_word_space).build()"
   ],
   "metadata": {
    "collapsed": false,
    "ExecuteTime": {
     "end_time": "2023-08-03T10:25:00.335583Z",
     "start_time": "2023-08-03T10:24:59.018411Z"
    }
   }
  },
  {
   "cell_type": "code",
   "execution_count": 10,
   "outputs": [],
   "source": [
    "expanded_cohort_label_space = LabelEmbeddings(lexicons=[Liwc2015Expanded(), ValuesExpanded()], word_embeddings=cohort_word_space).build()"
   ],
   "metadata": {
    "collapsed": false,
    "ExecuteTime": {
     "end_time": "2023-08-03T10:25:20.874014Z",
     "start_time": "2023-08-03T10:25:00.327690Z"
    }
   }
  },
  {
   "cell_type": "markdown",
   "source": [
    "Save and view results"
   ],
   "metadata": {
    "collapsed": false
   }
  },
  {
   "cell_type": "code",
   "execution_count": 11,
   "outputs": [],
   "source": [
    "def save_if_not_save_and_return(space: LabelEmbeddings, path: str):\n",
    "\tif not Path(path).exists():\n",
    "\t\tspace.save_distances_to_csv(path)\n",
    "\treturn pd.read_csv(path, names=['label_one', 'label_two', 'distance'])\n",
    "\n",
    "control_ranks = save_if_not_save_and_return(org_control_label_space, control_ranks_csv)\n",
    "expanded_control_ranks = save_if_not_save_and_return(expanded_control_label_space, expanded_control_ranks_csv)\n",
    "\n",
    "cohort_ranks = save_if_not_save_and_return(org_cohort_label_space, cohort_ranks_csv)\n",
    "expanded_cohort_ranks = save_if_not_save_and_return(expanded_cohort_label_space, expanded_cohort_ranks_csv)"
   ],
   "metadata": {
    "collapsed": false,
    "ExecuteTime": {
     "end_time": "2023-08-03T10:25:20.909728Z",
     "start_time": "2023-08-03T10:25:20.875158Z"
    }
   }
  },
  {
   "cell_type": "code",
   "execution_count": 12,
   "outputs": [],
   "source": [
    "org_cohort_label_space.compute_rank_deltas(org_control_label_space, relative_ranks_csv)\n",
    "relative_ranks = pd.read_csv(relative_ranks_csv, names=['label_one', 'label_two', 'current_rank', 'control_rank', 'current_distance', 'control_distance', 'rank_delta', 'distance_delta'])\n",
    "\n",
    "expanded_cohort_label_space.compute_rank_deltas(expanded_control_label_space, expanded_relative_ranks_csv)\n",
    "expanded_relative_ranks = pd.read_csv(expanded_relative_ranks_csv, names=['label_one', 'label_two', 'current_rank', 'control_rank', 'current_distance', 'control_distance', 'rank_delta', 'distance_delta'])"
   ],
   "metadata": {
    "collapsed": false,
    "ExecuteTime": {
     "end_time": "2023-08-03T10:25:20.996416Z",
     "start_time": "2023-08-03T10:25:20.922679Z"
    }
   }
  },
  {
   "cell_type": "markdown",
   "source": [
    "View Stuff"
   ],
   "metadata": {
    "collapsed": false
   }
  },
  {
   "cell_type": "code",
   "execution_count": 13,
   "outputs": [
    {
     "data": {
      "text/plain": "              label_one            label_two  current_rank  control_rank  \\\n0     liwc2015:function  values:feeling-good            73            43   \n1     liwc2015:function       liwc2015:money            72            51   \n2     liwc2015:function      values:learning            48            28   \n3     liwc2015:function         values:truth            75            55   \n4     liwc2015:function    liwc2015:netspeak            80            62   \n...                 ...                  ...           ...           ...   \n6967     values:animals      liwc2015:ingest             9            70   \n6968     values:animals         values:truth             7            71   \n6969     values:animals      liwc2015:filler             0            69   \n6970     values:animals      liwc2015:sexual             3            75   \n6971     values:animals        liwc2015:body             1            77   \n\n      current_distance  control_distance  rank_delta  distance_delta  \n0             0.438239          0.499940          30       -0.061701  \n1             0.403190          0.681783          21       -0.278593  \n2             0.060748          0.178845          20       -0.118097  \n3             0.475559          0.713501          20       -0.237941  \n4             0.747444          0.781215          18       -0.033771  \n...                ...               ...         ...             ...  \n6967          1.051697          0.981867         -61        0.069829  \n6968          1.043354          0.982374         -64        0.060980  \n6969          0.911402          0.980616         -69       -0.069214  \n6970          1.015476          1.021016         -72       -0.005540  \n6971          0.973590          1.040876         -76       -0.067287  \n\n[6972 rows x 8 columns]",
      "text/html": "<div>\n<style scoped>\n    .dataframe tbody tr th:only-of-type {\n        vertical-align: middle;\n    }\n\n    .dataframe tbody tr th {\n        vertical-align: top;\n    }\n\n    .dataframe thead th {\n        text-align: right;\n    }\n</style>\n<table border=\"1\" class=\"dataframe\">\n  <thead>\n    <tr style=\"text-align: right;\">\n      <th></th>\n      <th>label_one</th>\n      <th>label_two</th>\n      <th>current_rank</th>\n      <th>control_rank</th>\n      <th>current_distance</th>\n      <th>control_distance</th>\n      <th>rank_delta</th>\n      <th>distance_delta</th>\n    </tr>\n  </thead>\n  <tbody>\n    <tr>\n      <th>0</th>\n      <td>liwc2015:function</td>\n      <td>values:feeling-good</td>\n      <td>73</td>\n      <td>43</td>\n      <td>0.438239</td>\n      <td>0.499940</td>\n      <td>30</td>\n      <td>-0.061701</td>\n    </tr>\n    <tr>\n      <th>1</th>\n      <td>liwc2015:function</td>\n      <td>liwc2015:money</td>\n      <td>72</td>\n      <td>51</td>\n      <td>0.403190</td>\n      <td>0.681783</td>\n      <td>21</td>\n      <td>-0.278593</td>\n    </tr>\n    <tr>\n      <th>2</th>\n      <td>liwc2015:function</td>\n      <td>values:learning</td>\n      <td>48</td>\n      <td>28</td>\n      <td>0.060748</td>\n      <td>0.178845</td>\n      <td>20</td>\n      <td>-0.118097</td>\n    </tr>\n    <tr>\n      <th>3</th>\n      <td>liwc2015:function</td>\n      <td>values:truth</td>\n      <td>75</td>\n      <td>55</td>\n      <td>0.475559</td>\n      <td>0.713501</td>\n      <td>20</td>\n      <td>-0.237941</td>\n    </tr>\n    <tr>\n      <th>4</th>\n      <td>liwc2015:function</td>\n      <td>liwc2015:netspeak</td>\n      <td>80</td>\n      <td>62</td>\n      <td>0.747444</td>\n      <td>0.781215</td>\n      <td>18</td>\n      <td>-0.033771</td>\n    </tr>\n    <tr>\n      <th>...</th>\n      <td>...</td>\n      <td>...</td>\n      <td>...</td>\n      <td>...</td>\n      <td>...</td>\n      <td>...</td>\n      <td>...</td>\n      <td>...</td>\n    </tr>\n    <tr>\n      <th>6967</th>\n      <td>values:animals</td>\n      <td>liwc2015:ingest</td>\n      <td>9</td>\n      <td>70</td>\n      <td>1.051697</td>\n      <td>0.981867</td>\n      <td>-61</td>\n      <td>0.069829</td>\n    </tr>\n    <tr>\n      <th>6968</th>\n      <td>values:animals</td>\n      <td>values:truth</td>\n      <td>7</td>\n      <td>71</td>\n      <td>1.043354</td>\n      <td>0.982374</td>\n      <td>-64</td>\n      <td>0.060980</td>\n    </tr>\n    <tr>\n      <th>6969</th>\n      <td>values:animals</td>\n      <td>liwc2015:filler</td>\n      <td>0</td>\n      <td>69</td>\n      <td>0.911402</td>\n      <td>0.980616</td>\n      <td>-69</td>\n      <td>-0.069214</td>\n    </tr>\n    <tr>\n      <th>6970</th>\n      <td>values:animals</td>\n      <td>liwc2015:sexual</td>\n      <td>3</td>\n      <td>75</td>\n      <td>1.015476</td>\n      <td>1.021016</td>\n      <td>-72</td>\n      <td>-0.005540</td>\n    </tr>\n    <tr>\n      <th>6971</th>\n      <td>values:animals</td>\n      <td>liwc2015:body</td>\n      <td>1</td>\n      <td>77</td>\n      <td>0.973590</td>\n      <td>1.040876</td>\n      <td>-76</td>\n      <td>-0.067287</td>\n    </tr>\n  </tbody>\n</table>\n<p>6972 rows × 8 columns</p>\n</div>"
     },
     "execution_count": 13,
     "metadata": {},
     "output_type": "execute_result"
    }
   ],
   "source": [
    "relative_ranks"
   ],
   "metadata": {
    "collapsed": false,
    "ExecuteTime": {
     "end_time": "2023-08-03T10:25:21.014176Z",
     "start_time": "2023-08-03T10:25:20.999468Z"
    }
   }
  },
  {
   "cell_type": "code",
   "execution_count": 14,
   "outputs": [
    {
     "data": {
      "text/plain": "              label_one                label_two  current_rank  control_rank  \\\n0     liwc2015:function           liwc2015:money            77            58   \n1     liwc2015:function          liwc2015:posemo            52            34   \n2     liwc2015:function            liwc2015:work            56            39   \n3     liwc2015:function        liwc2015:netspeak            83            68   \n4     liwc2015:function        liwc2015:pconcern            68            54   \n...                 ...                      ...           ...           ...   \n7135    liwc2015:filler          liwc2015:motion            26            72   \n7136    liwc2015:filler          liwc2015:drives             1            48   \n7137    liwc2015:filler          liwc2015:number             8            60   \n7138    liwc2015:filler         liwc2015:certain             4            65   \n7139    liwc2015:filler  values:accepting-others            15            79   \n\n      current_distance  control_distance  rank_delta  distance_delta  \n0             0.403190          0.681783          19       -0.278593  \n1             0.057296          0.259349          18       -0.202053  \n2             0.069775          0.336770          17       -0.266994  \n3             0.747444          0.781215          15       -0.033771  \n4             0.185817          0.624154          14       -0.438337  \n...                ...               ...         ...             ...  \n7135          0.657227          1.066124         -46       -0.408897  \n7136          0.635582          0.987538         -47       -0.351956  \n7137          0.645844          1.005935         -52       -0.360090  \n7138          0.642007          1.022467         -61       -0.380461  \n7139          0.652988          1.133847         -64       -0.480859  \n\n[7140 rows x 8 columns]",
      "text/html": "<div>\n<style scoped>\n    .dataframe tbody tr th:only-of-type {\n        vertical-align: middle;\n    }\n\n    .dataframe tbody tr th {\n        vertical-align: top;\n    }\n\n    .dataframe thead th {\n        text-align: right;\n    }\n</style>\n<table border=\"1\" class=\"dataframe\">\n  <thead>\n    <tr style=\"text-align: right;\">\n      <th></th>\n      <th>label_one</th>\n      <th>label_two</th>\n      <th>current_rank</th>\n      <th>control_rank</th>\n      <th>current_distance</th>\n      <th>control_distance</th>\n      <th>rank_delta</th>\n      <th>distance_delta</th>\n    </tr>\n  </thead>\n  <tbody>\n    <tr>\n      <th>0</th>\n      <td>liwc2015:function</td>\n      <td>liwc2015:money</td>\n      <td>77</td>\n      <td>58</td>\n      <td>0.403190</td>\n      <td>0.681783</td>\n      <td>19</td>\n      <td>-0.278593</td>\n    </tr>\n    <tr>\n      <th>1</th>\n      <td>liwc2015:function</td>\n      <td>liwc2015:posemo</td>\n      <td>52</td>\n      <td>34</td>\n      <td>0.057296</td>\n      <td>0.259349</td>\n      <td>18</td>\n      <td>-0.202053</td>\n    </tr>\n    <tr>\n      <th>2</th>\n      <td>liwc2015:function</td>\n      <td>liwc2015:work</td>\n      <td>56</td>\n      <td>39</td>\n      <td>0.069775</td>\n      <td>0.336770</td>\n      <td>17</td>\n      <td>-0.266994</td>\n    </tr>\n    <tr>\n      <th>3</th>\n      <td>liwc2015:function</td>\n      <td>liwc2015:netspeak</td>\n      <td>83</td>\n      <td>68</td>\n      <td>0.747444</td>\n      <td>0.781215</td>\n      <td>15</td>\n      <td>-0.033771</td>\n    </tr>\n    <tr>\n      <th>4</th>\n      <td>liwc2015:function</td>\n      <td>liwc2015:pconcern</td>\n      <td>68</td>\n      <td>54</td>\n      <td>0.185817</td>\n      <td>0.624154</td>\n      <td>14</td>\n      <td>-0.438337</td>\n    </tr>\n    <tr>\n      <th>...</th>\n      <td>...</td>\n      <td>...</td>\n      <td>...</td>\n      <td>...</td>\n      <td>...</td>\n      <td>...</td>\n      <td>...</td>\n      <td>...</td>\n    </tr>\n    <tr>\n      <th>7135</th>\n      <td>liwc2015:filler</td>\n      <td>liwc2015:motion</td>\n      <td>26</td>\n      <td>72</td>\n      <td>0.657227</td>\n      <td>1.066124</td>\n      <td>-46</td>\n      <td>-0.408897</td>\n    </tr>\n    <tr>\n      <th>7136</th>\n      <td>liwc2015:filler</td>\n      <td>liwc2015:drives</td>\n      <td>1</td>\n      <td>48</td>\n      <td>0.635582</td>\n      <td>0.987538</td>\n      <td>-47</td>\n      <td>-0.351956</td>\n    </tr>\n    <tr>\n      <th>7137</th>\n      <td>liwc2015:filler</td>\n      <td>liwc2015:number</td>\n      <td>8</td>\n      <td>60</td>\n      <td>0.645844</td>\n      <td>1.005935</td>\n      <td>-52</td>\n      <td>-0.360090</td>\n    </tr>\n    <tr>\n      <th>7138</th>\n      <td>liwc2015:filler</td>\n      <td>liwc2015:certain</td>\n      <td>4</td>\n      <td>65</td>\n      <td>0.642007</td>\n      <td>1.022467</td>\n      <td>-61</td>\n      <td>-0.380461</td>\n    </tr>\n    <tr>\n      <th>7139</th>\n      <td>liwc2015:filler</td>\n      <td>values:accepting-others</td>\n      <td>15</td>\n      <td>79</td>\n      <td>0.652988</td>\n      <td>1.133847</td>\n      <td>-64</td>\n      <td>-0.480859</td>\n    </tr>\n  </tbody>\n</table>\n<p>7140 rows × 8 columns</p>\n</div>"
     },
     "execution_count": 14,
     "metadata": {},
     "output_type": "execute_result"
    }
   ],
   "source": [
    "expanded_relative_ranks"
   ],
   "metadata": {
    "collapsed": false,
    "ExecuteTime": {
     "end_time": "2023-08-03T10:25:21.088896Z",
     "start_time": "2023-08-03T10:25:21.015696Z"
    }
   }
  },
  {
   "cell_type": "code",
   "execution_count": 14,
   "outputs": [],
   "source": [],
   "metadata": {
    "collapsed": false,
    "ExecuteTime": {
     "end_time": "2023-08-03T10:25:21.089042Z",
     "start_time": "2023-08-03T10:25:21.083967Z"
    }
   }
  }
 ],
 "metadata": {
  "kernelspec": {
   "display_name": "Python 3",
   "language": "python",
   "name": "python3"
  },
  "language_info": {
   "codemirror_mode": {
    "name": "ipython",
    "version": 2
   },
   "file_extension": ".py",
   "mimetype": "text/x-python",
   "name": "python",
   "nbconvert_exporter": "python",
   "pygments_lexer": "ipython2",
   "version": "2.7.6"
  }
 },
 "nbformat": 4,
 "nbformat_minor": 0
}
