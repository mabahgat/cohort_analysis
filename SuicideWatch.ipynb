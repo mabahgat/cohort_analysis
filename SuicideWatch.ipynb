{
 "cells": [
  {
   "cell_type": "markdown",
   "source": [
    "\n",
    "# Analysis Comparison between Original and Expanded Lexicons on Cohort Analysis Task\n",
    "\n",
    "Subreddit: Suicide Watch"
   ],
   "metadata": {
    "collapsed": false
   }
  },
  {
   "cell_type": "code",
   "execution_count": 1,
   "outputs": [],
   "source": [
    "from pathlib import Path\n",
    "import pandas as pd\n",
    "\n",
    "from config import global_config\n",
    "from lexicons2 import Values, ValuesExpanded, Liwc2015, Liwc2015Expanded\n",
    "from spaces import WordEmbeddings, LabelEmbeddings\n",
    "from statistics import compute_lexicon_voc_coverage"
   ],
   "metadata": {
    "collapsed": false,
    "ExecuteTime": {
     "end_time": "2023-08-06T20:24:34.591624Z",
     "start_time": "2023-08-06T20:24:33.949149Z"
    }
   }
  },
  {
   "cell_type": "code",
   "execution_count": 2,
   "outputs": [],
   "source": [
    "COHORT_NAME = 'SuicideWatch'"
   ],
   "metadata": {
    "collapsed": false,
    "ExecuteTime": {
     "end_time": "2023-08-06T20:24:34.592249Z",
     "start_time": "2023-08-06T20:24:34.589223Z"
    }
   }
  },
  {
   "cell_type": "code",
   "execution_count": 3,
   "outputs": [],
   "source": [
    "cohort_corpus_path = global_config.reddit.submissions[COHORT_NAME]\n",
    "cohort_models_path = f'{global_config.paths.models}/{COHORT_NAME}'\n",
    "\n",
    "control_corpus_path = global_config.reddit.submissions['IAMA']\n",
    "control_models_path = f'{global_config.paths.models}/IAMA'"
   ],
   "metadata": {
    "collapsed": false,
    "ExecuteTime": {
     "end_time": "2023-08-06T20:24:34.598392Z",
     "start_time": "2023-08-06T20:24:34.597903Z"
    }
   }
  },
  {
   "cell_type": "code",
   "execution_count": 4,
   "outputs": [],
   "source": [
    "cohort_ranks_csv = f'{global_config.paths.ranks}/{COHORT_NAME}_ranks.csv'\n",
    "expanded_cohort_ranks_csv = f'{global_config.paths.ranks}/{COHORT_NAME}_ranks_expanded.csv'\n",
    "\n",
    "control_ranks_csv = f'{global_config.paths.ranks}/IAMA_ranks.csv'\n",
    "expanded_control_ranks_csv = f'{global_config.paths.ranks}/IAMA_ranks_expanded.csv'\n",
    "\n",
    "relative_ranks_csv = f'{global_config.paths.ranks}/{COHORT_NAME}_relative-ranks.csv'\n",
    "expanded_relative_ranks_csv = f'{global_config.paths.ranks}/{COHORT_NAME}_relative-ranks_expanded.csv'"
   ],
   "metadata": {
    "collapsed": false,
    "ExecuteTime": {
     "end_time": "2023-08-06T20:24:34.600415Z",
     "start_time": "2023-08-06T20:24:34.598860Z"
    }
   }
  },
  {
   "cell_type": "markdown",
   "source": [
    "Build Control Spaces"
   ],
   "metadata": {
    "collapsed": false
   }
  },
  {
   "cell_type": "code",
   "execution_count": 5,
   "outputs": [],
   "source": [
    "control_word_space = WordEmbeddings(corpus_path=control_corpus_path, model_path=control_models_path).build()"
   ],
   "metadata": {
    "collapsed": false,
    "ExecuteTime": {
     "end_time": "2023-08-06T20:24:37.076066Z",
     "start_time": "2023-08-06T20:24:34.599036Z"
    }
   }
  },
  {
   "cell_type": "code",
   "execution_count": 6,
   "outputs": [],
   "source": [
    "org_control_label_space = LabelEmbeddings(lexicons=[Liwc2015(), Values()], word_embeddings=control_word_space).build()"
   ],
   "metadata": {
    "collapsed": false,
    "ExecuteTime": {
     "end_time": "2023-08-06T20:24:38.813128Z",
     "start_time": "2023-08-06T20:24:37.075891Z"
    }
   }
  },
  {
   "cell_type": "code",
   "execution_count": 7,
   "outputs": [],
   "source": [
    "expanded_control_label_space = LabelEmbeddings(lexicons=[Liwc2015Expanded(), ValuesExpanded()], word_embeddings=control_word_space).build()"
   ],
   "metadata": {
    "collapsed": false,
    "ExecuteTime": {
     "end_time": "2023-08-06T20:24:58.168482Z",
     "start_time": "2023-08-06T20:24:38.821044Z"
    }
   }
  },
  {
   "cell_type": "markdown",
   "source": [
    "Build Cohort Spaces"
   ],
   "metadata": {
    "collapsed": false
   }
  },
  {
   "cell_type": "code",
   "execution_count": 8,
   "outputs": [],
   "source": [
    "cohort_word_space = WordEmbeddings(corpus_path=cohort_corpus_path, model_path=cohort_models_path).build()"
   ],
   "metadata": {
    "collapsed": false,
    "ExecuteTime": {
     "end_time": "2023-08-06T20:25:00.010164Z",
     "start_time": "2023-08-06T20:24:58.167851Z"
    }
   }
  },
  {
   "cell_type": "code",
   "execution_count": 9,
   "outputs": [],
   "source": [
    "org_cohort_label_space = LabelEmbeddings(lexicons=[Liwc2015(), Values()], word_embeddings=cohort_word_space).build()"
   ],
   "metadata": {
    "collapsed": false,
    "ExecuteTime": {
     "end_time": "2023-08-06T20:25:01.606745Z",
     "start_time": "2023-08-06T20:25:00.009651Z"
    }
   }
  },
  {
   "cell_type": "code",
   "execution_count": 10,
   "outputs": [],
   "source": [
    "expanded_cohort_label_space = LabelEmbeddings(lexicons=[Liwc2015Expanded(), ValuesExpanded()], word_embeddings=cohort_word_space).build()"
   ],
   "metadata": {
    "collapsed": false,
    "ExecuteTime": {
     "end_time": "2023-08-06T20:25:20.325282Z",
     "start_time": "2023-08-06T20:25:01.605801Z"
    }
   }
  },
  {
   "cell_type": "markdown",
   "source": [
    "Save and view results"
   ],
   "metadata": {
    "collapsed": false
   }
  },
  {
   "cell_type": "code",
   "execution_count": 11,
   "outputs": [],
   "source": [
    "def save_if_not_save_and_return(space: LabelEmbeddings, path: str):\n",
    "\tif not Path(path).exists():\n",
    "\t\tspace.save_distances_to_csv(path)\n",
    "\treturn pd.read_csv(path, names=['label_one', 'label_two', 'distance'])\n",
    "\n",
    "control_ranks = save_if_not_save_and_return(org_control_label_space, control_ranks_csv)\n",
    "expanded_control_ranks = save_if_not_save_and_return(expanded_control_label_space, expanded_control_ranks_csv)\n",
    "\n",
    "cohort_ranks = save_if_not_save_and_return(org_cohort_label_space, cohort_ranks_csv)\n",
    "expanded_cohort_ranks = save_if_not_save_and_return(expanded_cohort_label_space, expanded_cohort_ranks_csv)"
   ],
   "metadata": {
    "collapsed": false,
    "ExecuteTime": {
     "end_time": "2023-08-06T20:25:20.337111Z",
     "start_time": "2023-08-06T20:25:20.330030Z"
    }
   }
  },
  {
   "cell_type": "code",
   "execution_count": 12,
   "outputs": [],
   "source": [
    "org_cohort_label_space.compute_rank_deltas(org_control_label_space, relative_ranks_csv)\n",
    "relative_ranks = pd.read_csv(relative_ranks_csv, names=['label_one', 'label_two', 'current_rank', 'control_rank', 'current_distance', 'control_distance', 'rank_delta', 'distance_delta'])\n",
    "\n",
    "expanded_cohort_label_space.compute_rank_deltas(expanded_control_label_space, expanded_relative_ranks_csv)\n",
    "expanded_relative_ranks = pd.read_csv(expanded_relative_ranks_csv, names=['label_one', 'label_two', 'current_rank', 'control_rank', 'current_distance', 'control_distance', 'rank_delta', 'distance_delta'])"
   ],
   "metadata": {
    "collapsed": false,
    "ExecuteTime": {
     "end_time": "2023-08-06T20:25:20.410650Z",
     "start_time": "2023-08-06T20:25:20.337616Z"
    }
   }
  },
  {
   "cell_type": "code",
   "execution_count": 13,
   "outputs": [],
   "source": [
    "relative_ranks.sort_values(by='rank_delta', ascending=True, inplace=True)\n",
    "expanded_relative_ranks.sort_values(by='rank_delta', ascending=True, inplace=True)"
   ],
   "metadata": {
    "collapsed": false,
    "ExecuteTime": {
     "end_time": "2023-08-06T20:25:20.419649Z",
     "start_time": "2023-08-06T20:25:20.417346Z"
    }
   }
  },
  {
   "cell_type": "markdown",
   "source": [
    "View Stuff"
   ],
   "metadata": {
    "collapsed": false
   }
  },
  {
   "cell_type": "code",
   "execution_count": 14,
   "outputs": [
    {
     "data": {
      "text/plain": "                    label_one            label_two  current_rank  \\\n6971           values:animals        liwc2015:male             7   \n6224        liwc2015:netspeak  values:feeling-good             3   \n6888  values:accepting-others      values:children             6   \n6970           values:animals         liwc2015:see             2   \n6307           liwc2015:relig        liwc2015:risk             7   \n...                       ...                  ...           ...   \n1909             liwc2015:bio      liwc2015:sexual            76   \n5395            liwc2015:body      liwc2015:sexual            76   \n6806  values:accepting-others        liwc2015:male            76   \n6059          values:religion       liwc2015:relig            75   \n6308          liwc2015:assent    liwc2015:netspeak            77   \n\n      control_rank  current_distance  control_distance  rank_delta  \\\n6971            82          0.979822          1.117406         -75   \n6224            74          0.550032          1.027892         -71   \n6888            77          1.012973          1.121012         -71   \n6970            73          0.960579          1.008819         -71   \n6307            78          0.687100          1.136309         -71   \n...            ...               ...               ...         ...   \n1909             4          0.409594          0.677835          72   \n5395             3          0.657257          0.788858          73   \n6806             2          1.114432          0.881365          74   \n6059             1          0.537940          0.749945          74   \n6308             2          0.591694          0.755847          75   \n\n      distance_delta  \n6971       -0.137584  \n6224       -0.477861  \n6888       -0.108040  \n6970       -0.048241  \n6307       -0.449209  \n...              ...  \n1909       -0.268241  \n5395       -0.131600  \n6806        0.233067  \n6059       -0.212005  \n6308       -0.164153  \n\n[6972 rows x 8 columns]",
      "text/html": "<div>\n<style scoped>\n    .dataframe tbody tr th:only-of-type {\n        vertical-align: middle;\n    }\n\n    .dataframe tbody tr th {\n        vertical-align: top;\n    }\n\n    .dataframe thead th {\n        text-align: right;\n    }\n</style>\n<table border=\"1\" class=\"dataframe\">\n  <thead>\n    <tr style=\"text-align: right;\">\n      <th></th>\n      <th>label_one</th>\n      <th>label_two</th>\n      <th>current_rank</th>\n      <th>control_rank</th>\n      <th>current_distance</th>\n      <th>control_distance</th>\n      <th>rank_delta</th>\n      <th>distance_delta</th>\n    </tr>\n  </thead>\n  <tbody>\n    <tr>\n      <th>6971</th>\n      <td>values:animals</td>\n      <td>liwc2015:male</td>\n      <td>7</td>\n      <td>82</td>\n      <td>0.979822</td>\n      <td>1.117406</td>\n      <td>-75</td>\n      <td>-0.137584</td>\n    </tr>\n    <tr>\n      <th>6224</th>\n      <td>liwc2015:netspeak</td>\n      <td>values:feeling-good</td>\n      <td>3</td>\n      <td>74</td>\n      <td>0.550032</td>\n      <td>1.027892</td>\n      <td>-71</td>\n      <td>-0.477861</td>\n    </tr>\n    <tr>\n      <th>6888</th>\n      <td>values:accepting-others</td>\n      <td>values:children</td>\n      <td>6</td>\n      <td>77</td>\n      <td>1.012973</td>\n      <td>1.121012</td>\n      <td>-71</td>\n      <td>-0.108040</td>\n    </tr>\n    <tr>\n      <th>6970</th>\n      <td>values:animals</td>\n      <td>liwc2015:see</td>\n      <td>2</td>\n      <td>73</td>\n      <td>0.960579</td>\n      <td>1.008819</td>\n      <td>-71</td>\n      <td>-0.048241</td>\n    </tr>\n    <tr>\n      <th>6307</th>\n      <td>liwc2015:relig</td>\n      <td>liwc2015:risk</td>\n      <td>7</td>\n      <td>78</td>\n      <td>0.687100</td>\n      <td>1.136309</td>\n      <td>-71</td>\n      <td>-0.449209</td>\n    </tr>\n    <tr>\n      <th>...</th>\n      <td>...</td>\n      <td>...</td>\n      <td>...</td>\n      <td>...</td>\n      <td>...</td>\n      <td>...</td>\n      <td>...</td>\n      <td>...</td>\n    </tr>\n    <tr>\n      <th>1909</th>\n      <td>liwc2015:bio</td>\n      <td>liwc2015:sexual</td>\n      <td>76</td>\n      <td>4</td>\n      <td>0.409594</td>\n      <td>0.677835</td>\n      <td>72</td>\n      <td>-0.268241</td>\n    </tr>\n    <tr>\n      <th>5395</th>\n      <td>liwc2015:body</td>\n      <td>liwc2015:sexual</td>\n      <td>76</td>\n      <td>3</td>\n      <td>0.657257</td>\n      <td>0.788858</td>\n      <td>73</td>\n      <td>-0.131600</td>\n    </tr>\n    <tr>\n      <th>6806</th>\n      <td>values:accepting-others</td>\n      <td>liwc2015:male</td>\n      <td>76</td>\n      <td>2</td>\n      <td>1.114432</td>\n      <td>0.881365</td>\n      <td>74</td>\n      <td>0.233067</td>\n    </tr>\n    <tr>\n      <th>6059</th>\n      <td>values:religion</td>\n      <td>liwc2015:relig</td>\n      <td>75</td>\n      <td>1</td>\n      <td>0.537940</td>\n      <td>0.749945</td>\n      <td>74</td>\n      <td>-0.212005</td>\n    </tr>\n    <tr>\n      <th>6308</th>\n      <td>liwc2015:assent</td>\n      <td>liwc2015:netspeak</td>\n      <td>77</td>\n      <td>2</td>\n      <td>0.591694</td>\n      <td>0.755847</td>\n      <td>75</td>\n      <td>-0.164153</td>\n    </tr>\n  </tbody>\n</table>\n<p>6972 rows × 8 columns</p>\n</div>"
     },
     "execution_count": 14,
     "metadata": {},
     "output_type": "execute_result"
    }
   ],
   "source": [
    "relative_ranks"
   ],
   "metadata": {
    "collapsed": false,
    "ExecuteTime": {
     "end_time": "2023-08-06T20:25:20.450358Z",
     "start_time": "2023-08-06T20:25:20.419552Z"
    }
   }
  },
  {
   "cell_type": "code",
   "execution_count": 15,
   "outputs": [
    {
     "data": {
      "text/plain": "              label_one            label_two  current_rank  control_rank  \\\n3023       liwc2015:bio      liwc2015:female             1            81   \n3863     values:parents  values:feeling-good             1            75   \n6887     liwc2015:relig        liwc2015:risk             6            79   \n6803  liwc2015:netspeak        liwc2015:feel             1            74   \n5795     liwc2015:anger      liwc2015:female             4            77   \n...                 ...                  ...           ...           ...   \n5880     liwc2015:swear        liwc2015:body            80             3   \n6132      liwc2015:body      liwc2015:sexual            80             2   \n6889    liwc2015:assent      liwc2015:sexual            78             0   \n6888    liwc2015:assent    liwc2015:netspeak            80             1   \n1344  liwc2015:informal    liwc2015:netspeak            82             1   \n\n      current_distance  control_distance  rank_delta  distance_delta  \n3023          0.080702          1.000952         -80       -0.920251  \n3863          0.081911          0.941648         -74       -0.859737  \n6887          0.687100          1.136309         -73       -0.449209  \n6803          0.550640          1.003843         -73       -0.453204  \n5795          0.172471          0.975643         -73       -0.803171  \n...                ...               ...         ...             ...  \n5880          0.504107          0.763071          77       -0.258964  \n6132          0.657257          0.788858          78       -0.131600  \n6889          0.554813          0.751274          78       -0.196461  \n6888          0.591694          0.755847          79       -0.164153  \n1344          0.565958          0.627568          81       -0.061609  \n\n[7140 rows x 8 columns]",
      "text/html": "<div>\n<style scoped>\n    .dataframe tbody tr th:only-of-type {\n        vertical-align: middle;\n    }\n\n    .dataframe tbody tr th {\n        vertical-align: top;\n    }\n\n    .dataframe thead th {\n        text-align: right;\n    }\n</style>\n<table border=\"1\" class=\"dataframe\">\n  <thead>\n    <tr style=\"text-align: right;\">\n      <th></th>\n      <th>label_one</th>\n      <th>label_two</th>\n      <th>current_rank</th>\n      <th>control_rank</th>\n      <th>current_distance</th>\n      <th>control_distance</th>\n      <th>rank_delta</th>\n      <th>distance_delta</th>\n    </tr>\n  </thead>\n  <tbody>\n    <tr>\n      <th>3023</th>\n      <td>liwc2015:bio</td>\n      <td>liwc2015:female</td>\n      <td>1</td>\n      <td>81</td>\n      <td>0.080702</td>\n      <td>1.000952</td>\n      <td>-80</td>\n      <td>-0.920251</td>\n    </tr>\n    <tr>\n      <th>3863</th>\n      <td>values:parents</td>\n      <td>values:feeling-good</td>\n      <td>1</td>\n      <td>75</td>\n      <td>0.081911</td>\n      <td>0.941648</td>\n      <td>-74</td>\n      <td>-0.859737</td>\n    </tr>\n    <tr>\n      <th>6887</th>\n      <td>liwc2015:relig</td>\n      <td>liwc2015:risk</td>\n      <td>6</td>\n      <td>79</td>\n      <td>0.687100</td>\n      <td>1.136309</td>\n      <td>-73</td>\n      <td>-0.449209</td>\n    </tr>\n    <tr>\n      <th>6803</th>\n      <td>liwc2015:netspeak</td>\n      <td>liwc2015:feel</td>\n      <td>1</td>\n      <td>74</td>\n      <td>0.550640</td>\n      <td>1.003843</td>\n      <td>-73</td>\n      <td>-0.453204</td>\n    </tr>\n    <tr>\n      <th>5795</th>\n      <td>liwc2015:anger</td>\n      <td>liwc2015:female</td>\n      <td>4</td>\n      <td>77</td>\n      <td>0.172471</td>\n      <td>0.975643</td>\n      <td>-73</td>\n      <td>-0.803171</td>\n    </tr>\n    <tr>\n      <th>...</th>\n      <td>...</td>\n      <td>...</td>\n      <td>...</td>\n      <td>...</td>\n      <td>...</td>\n      <td>...</td>\n      <td>...</td>\n      <td>...</td>\n    </tr>\n    <tr>\n      <th>5880</th>\n      <td>liwc2015:swear</td>\n      <td>liwc2015:body</td>\n      <td>80</td>\n      <td>3</td>\n      <td>0.504107</td>\n      <td>0.763071</td>\n      <td>77</td>\n      <td>-0.258964</td>\n    </tr>\n    <tr>\n      <th>6132</th>\n      <td>liwc2015:body</td>\n      <td>liwc2015:sexual</td>\n      <td>80</td>\n      <td>2</td>\n      <td>0.657257</td>\n      <td>0.788858</td>\n      <td>78</td>\n      <td>-0.131600</td>\n    </tr>\n    <tr>\n      <th>6889</th>\n      <td>liwc2015:assent</td>\n      <td>liwc2015:sexual</td>\n      <td>78</td>\n      <td>0</td>\n      <td>0.554813</td>\n      <td>0.751274</td>\n      <td>78</td>\n      <td>-0.196461</td>\n    </tr>\n    <tr>\n      <th>6888</th>\n      <td>liwc2015:assent</td>\n      <td>liwc2015:netspeak</td>\n      <td>80</td>\n      <td>1</td>\n      <td>0.591694</td>\n      <td>0.755847</td>\n      <td>79</td>\n      <td>-0.164153</td>\n    </tr>\n    <tr>\n      <th>1344</th>\n      <td>liwc2015:informal</td>\n      <td>liwc2015:netspeak</td>\n      <td>82</td>\n      <td>1</td>\n      <td>0.565958</td>\n      <td>0.627568</td>\n      <td>81</td>\n      <td>-0.061609</td>\n    </tr>\n  </tbody>\n</table>\n<p>7140 rows × 8 columns</p>\n</div>"
     },
     "execution_count": 15,
     "metadata": {},
     "output_type": "execute_result"
    }
   ],
   "source": [
    "expanded_relative_ranks"
   ],
   "metadata": {
    "collapsed": false,
    "ExecuteTime": {
     "end_time": "2023-08-06T20:25:20.543596Z",
     "start_time": "2023-08-06T20:25:20.441150Z"
    }
   }
  },
  {
   "cell_type": "markdown",
   "source": [
    "Debugging"
   ],
   "metadata": {
    "collapsed": false
   }
  },
  {
   "cell_type": "code",
   "execution_count": 16,
   "outputs": [
    {
     "data": {
      "text/plain": "      label_one          label_two  current_rank  control_rank  \\\n330  liwc2015:i    liwc2015:health            49            76   \n331  liwc2015:i     values:parents            43            70   \n329  liwc2015:i    liwc2015:female            32            57   \n328  liwc2015:i      liwc2015:feel            51            69   \n327  liwc2015:i     liwc2015:shehe             7            24   \n..          ...                ...           ...           ...   \n253  liwc2015:i     values:animals            81            65   \n252  liwc2015:i  liwc2015:netspeak            79            63   \n251  liwc2015:i      liwc2015:work            52            36   \n250  liwc2015:i       values:truth            73            56   \n249  liwc2015:i    values:children            74            54   \n\n     current_distance  control_distance  rank_delta  distance_delta  \n330          0.048236          0.870584         -27       -0.822347  \n331          0.033756          0.827608         -27       -0.793852  \n329          0.014581          0.715905         -25       -0.701324  \n328          0.056762          0.819923         -18       -0.763161  \n327          0.001424          0.155960         -17       -0.154535  \n..                ...               ...         ...             ...  \n253          1.023022          0.790903          16        0.232119  \n252          0.573845          0.780373          16       -0.206528  \n251          0.063414          0.339661          16       -0.276247  \n250          0.341823          0.698592          17       -0.356770  \n249          0.364702          0.691977          20       -0.327275  \n\n[83 rows x 8 columns]",
      "text/html": "<div>\n<style scoped>\n    .dataframe tbody tr th:only-of-type {\n        vertical-align: middle;\n    }\n\n    .dataframe tbody tr th {\n        vertical-align: top;\n    }\n\n    .dataframe thead th {\n        text-align: right;\n    }\n</style>\n<table border=\"1\" class=\"dataframe\">\n  <thead>\n    <tr style=\"text-align: right;\">\n      <th></th>\n      <th>label_one</th>\n      <th>label_two</th>\n      <th>current_rank</th>\n      <th>control_rank</th>\n      <th>current_distance</th>\n      <th>control_distance</th>\n      <th>rank_delta</th>\n      <th>distance_delta</th>\n    </tr>\n  </thead>\n  <tbody>\n    <tr>\n      <th>330</th>\n      <td>liwc2015:i</td>\n      <td>liwc2015:health</td>\n      <td>49</td>\n      <td>76</td>\n      <td>0.048236</td>\n      <td>0.870584</td>\n      <td>-27</td>\n      <td>-0.822347</td>\n    </tr>\n    <tr>\n      <th>331</th>\n      <td>liwc2015:i</td>\n      <td>values:parents</td>\n      <td>43</td>\n      <td>70</td>\n      <td>0.033756</td>\n      <td>0.827608</td>\n      <td>-27</td>\n      <td>-0.793852</td>\n    </tr>\n    <tr>\n      <th>329</th>\n      <td>liwc2015:i</td>\n      <td>liwc2015:female</td>\n      <td>32</td>\n      <td>57</td>\n      <td>0.014581</td>\n      <td>0.715905</td>\n      <td>-25</td>\n      <td>-0.701324</td>\n    </tr>\n    <tr>\n      <th>328</th>\n      <td>liwc2015:i</td>\n      <td>liwc2015:feel</td>\n      <td>51</td>\n      <td>69</td>\n      <td>0.056762</td>\n      <td>0.819923</td>\n      <td>-18</td>\n      <td>-0.763161</td>\n    </tr>\n    <tr>\n      <th>327</th>\n      <td>liwc2015:i</td>\n      <td>liwc2015:shehe</td>\n      <td>7</td>\n      <td>24</td>\n      <td>0.001424</td>\n      <td>0.155960</td>\n      <td>-17</td>\n      <td>-0.154535</td>\n    </tr>\n    <tr>\n      <th>...</th>\n      <td>...</td>\n      <td>...</td>\n      <td>...</td>\n      <td>...</td>\n      <td>...</td>\n      <td>...</td>\n      <td>...</td>\n      <td>...</td>\n    </tr>\n    <tr>\n      <th>253</th>\n      <td>liwc2015:i</td>\n      <td>values:animals</td>\n      <td>81</td>\n      <td>65</td>\n      <td>1.023022</td>\n      <td>0.790903</td>\n      <td>16</td>\n      <td>0.232119</td>\n    </tr>\n    <tr>\n      <th>252</th>\n      <td>liwc2015:i</td>\n      <td>liwc2015:netspeak</td>\n      <td>79</td>\n      <td>63</td>\n      <td>0.573845</td>\n      <td>0.780373</td>\n      <td>16</td>\n      <td>-0.206528</td>\n    </tr>\n    <tr>\n      <th>251</th>\n      <td>liwc2015:i</td>\n      <td>liwc2015:work</td>\n      <td>52</td>\n      <td>36</td>\n      <td>0.063414</td>\n      <td>0.339661</td>\n      <td>16</td>\n      <td>-0.276247</td>\n    </tr>\n    <tr>\n      <th>250</th>\n      <td>liwc2015:i</td>\n      <td>values:truth</td>\n      <td>73</td>\n      <td>56</td>\n      <td>0.341823</td>\n      <td>0.698592</td>\n      <td>17</td>\n      <td>-0.356770</td>\n    </tr>\n    <tr>\n      <th>249</th>\n      <td>liwc2015:i</td>\n      <td>values:children</td>\n      <td>74</td>\n      <td>54</td>\n      <td>0.364702</td>\n      <td>0.691977</td>\n      <td>20</td>\n      <td>-0.327275</td>\n    </tr>\n  </tbody>\n</table>\n<p>83 rows × 8 columns</p>\n</div>"
     },
     "execution_count": 16,
     "metadata": {},
     "output_type": "execute_result"
    }
   ],
   "source": [
    "relative_ranks[relative_ranks.label_one == 'liwc2015:i']"
   ],
   "metadata": {
    "collapsed": false,
    "ExecuteTime": {
     "end_time": "2023-08-06T20:25:20.543843Z",
     "start_time": "2023-08-06T20:25:20.530594Z"
    }
   }
  },
  {
   "cell_type": "code",
   "execution_count": 17,
   "outputs": [
    {
     "data": {
      "text/plain": "      label_one          label_two  current_rank  control_rank  \\\n335  liwc2015:i    liwc2015:female            35            62   \n334  liwc2015:i    liwc2015:health            54            78   \n333  liwc2015:i     liwc2015:shehe             7            27   \n332  liwc2015:i      liwc2015:feel            55            73   \n331  liwc2015:i       liwc2015:bio            58            74   \n..          ...                ...           ...           ...   \n256  liwc2015:i      liwc2015:they            32            19   \n255  liwc2015:i  liwc2015:netspeak            82            68   \n254  liwc2015:i    liwc2015:posemo            49            34   \n253  liwc2015:i  liwc2015:pconcern            71            55   \n252  liwc2015:i      liwc2015:work            56            39   \n\n     current_distance  control_distance  rank_delta  distance_delta  \n335          0.014581          0.715905         -27       -0.701324  \n334          0.048236          0.870584         -24       -0.822347  \n333          0.001424          0.155960         -20       -0.154535  \n332          0.056762          0.819923         -18       -0.763161  \n331          0.082031          0.826260         -16       -0.744229  \n..                ...               ...         ...             ...  \n256          0.012182          0.117329          13       -0.105146  \n255          0.573845          0.780373          14       -0.206528  \n254          0.033887          0.267308          15       -0.233420  \n253          0.209119          0.646136          16       -0.437018  \n252          0.063414          0.339661          17       -0.276247  \n\n[84 rows x 8 columns]",
      "text/html": "<div>\n<style scoped>\n    .dataframe tbody tr th:only-of-type {\n        vertical-align: middle;\n    }\n\n    .dataframe tbody tr th {\n        vertical-align: top;\n    }\n\n    .dataframe thead th {\n        text-align: right;\n    }\n</style>\n<table border=\"1\" class=\"dataframe\">\n  <thead>\n    <tr style=\"text-align: right;\">\n      <th></th>\n      <th>label_one</th>\n      <th>label_two</th>\n      <th>current_rank</th>\n      <th>control_rank</th>\n      <th>current_distance</th>\n      <th>control_distance</th>\n      <th>rank_delta</th>\n      <th>distance_delta</th>\n    </tr>\n  </thead>\n  <tbody>\n    <tr>\n      <th>335</th>\n      <td>liwc2015:i</td>\n      <td>liwc2015:female</td>\n      <td>35</td>\n      <td>62</td>\n      <td>0.014581</td>\n      <td>0.715905</td>\n      <td>-27</td>\n      <td>-0.701324</td>\n    </tr>\n    <tr>\n      <th>334</th>\n      <td>liwc2015:i</td>\n      <td>liwc2015:health</td>\n      <td>54</td>\n      <td>78</td>\n      <td>0.048236</td>\n      <td>0.870584</td>\n      <td>-24</td>\n      <td>-0.822347</td>\n    </tr>\n    <tr>\n      <th>333</th>\n      <td>liwc2015:i</td>\n      <td>liwc2015:shehe</td>\n      <td>7</td>\n      <td>27</td>\n      <td>0.001424</td>\n      <td>0.155960</td>\n      <td>-20</td>\n      <td>-0.154535</td>\n    </tr>\n    <tr>\n      <th>332</th>\n      <td>liwc2015:i</td>\n      <td>liwc2015:feel</td>\n      <td>55</td>\n      <td>73</td>\n      <td>0.056762</td>\n      <td>0.819923</td>\n      <td>-18</td>\n      <td>-0.763161</td>\n    </tr>\n    <tr>\n      <th>331</th>\n      <td>liwc2015:i</td>\n      <td>liwc2015:bio</td>\n      <td>58</td>\n      <td>74</td>\n      <td>0.082031</td>\n      <td>0.826260</td>\n      <td>-16</td>\n      <td>-0.744229</td>\n    </tr>\n    <tr>\n      <th>...</th>\n      <td>...</td>\n      <td>...</td>\n      <td>...</td>\n      <td>...</td>\n      <td>...</td>\n      <td>...</td>\n      <td>...</td>\n      <td>...</td>\n    </tr>\n    <tr>\n      <th>256</th>\n      <td>liwc2015:i</td>\n      <td>liwc2015:they</td>\n      <td>32</td>\n      <td>19</td>\n      <td>0.012182</td>\n      <td>0.117329</td>\n      <td>13</td>\n      <td>-0.105146</td>\n    </tr>\n    <tr>\n      <th>255</th>\n      <td>liwc2015:i</td>\n      <td>liwc2015:netspeak</td>\n      <td>82</td>\n      <td>68</td>\n      <td>0.573845</td>\n      <td>0.780373</td>\n      <td>14</td>\n      <td>-0.206528</td>\n    </tr>\n    <tr>\n      <th>254</th>\n      <td>liwc2015:i</td>\n      <td>liwc2015:posemo</td>\n      <td>49</td>\n      <td>34</td>\n      <td>0.033887</td>\n      <td>0.267308</td>\n      <td>15</td>\n      <td>-0.233420</td>\n    </tr>\n    <tr>\n      <th>253</th>\n      <td>liwc2015:i</td>\n      <td>liwc2015:pconcern</td>\n      <td>71</td>\n      <td>55</td>\n      <td>0.209119</td>\n      <td>0.646136</td>\n      <td>16</td>\n      <td>-0.437018</td>\n    </tr>\n    <tr>\n      <th>252</th>\n      <td>liwc2015:i</td>\n      <td>liwc2015:work</td>\n      <td>56</td>\n      <td>39</td>\n      <td>0.063414</td>\n      <td>0.339661</td>\n      <td>17</td>\n      <td>-0.276247</td>\n    </tr>\n  </tbody>\n</table>\n<p>84 rows × 8 columns</p>\n</div>"
     },
     "execution_count": 17,
     "metadata": {},
     "output_type": "execute_result"
    }
   ],
   "source": [
    "expanded_relative_ranks[expanded_relative_ranks.label_one == 'liwc2015:i']"
   ],
   "metadata": {
    "collapsed": false,
    "ExecuteTime": {
     "end_time": "2023-08-06T20:25:20.544099Z",
     "start_time": "2023-08-06T20:25:20.540984Z"
    }
   }
  },
  {
   "cell_type": "code",
   "execution_count": 18,
   "outputs": [
    {
     "name": "stderr",
     "output_type": "stream",
     "text": [
      "building voc for /home/mbahgat/ws/work/datasets/reddit/archives_2023/submissions_selected/txt/SuicideWatch_submissions.txt: 1630163it [08:41, 3128.21it/s]\n"
     ]
    },
    {
     "ename": "TypeError",
     "evalue": "label() missing 1 required positional argument: 'word'",
     "output_type": "error",
     "traceback": [
      "\u001B[0;31m---------------------------------------------------------------------------\u001B[0m",
      "\u001B[0;31mTypeError\u001B[0m                                 Traceback (most recent call last)",
      "Cell \u001B[0;32mIn[18], line 1\u001B[0m\n\u001B[0;32m----> 1\u001B[0m org_coverage \u001B[38;5;241m=\u001B[39m \u001B[43mcompute_lexicon_voc_coverage\u001B[49m\u001B[43m(\u001B[49m\u001B[43mcorpus_path\u001B[49m\u001B[38;5;241;43m=\u001B[39;49m\u001B[43mcohort_corpus_path\u001B[49m\u001B[43m,\u001B[49m\u001B[43m \u001B[49m\u001B[43mlexicon\u001B[49m\u001B[38;5;241;43m=\u001B[39;49m\u001B[43mLiwc2015\u001B[49m\u001B[43m)\u001B[49m\n\u001B[1;32m      2\u001B[0m extended_coverage \u001B[38;5;241m=\u001B[39m compute_lexicon_voc_coverage(corpus_path\u001B[38;5;241m=\u001B[39mcohort_corpus_path, lexicon\u001B[38;5;241m=\u001B[39mLiwc2015Expanded)\n\u001B[1;32m      4\u001B[0m \u001B[38;5;124mf\u001B[39m\u001B[38;5;124m'\u001B[39m\u001B[38;5;124mOriginal coverage \u001B[39m\u001B[38;5;132;01m{\u001B[39;00morg_coverage\u001B[38;5;132;01m}\u001B[39;00m\u001B[38;5;124m, Extended coverage \u001B[39m\u001B[38;5;132;01m{\u001B[39;00mextended_coverage\u001B[38;5;132;01m}\u001B[39;00m\u001B[38;5;124m'\u001B[39m\n",
      "File \u001B[0;32m/mnt/raid1/ws/mbahgat/work/ws_remote/cohort_analysis/statistics.py:22\u001B[0m, in \u001B[0;36mcompute_lexicon_voc_coverage\u001B[0;34m(corpus_path, lexicon)\u001B[0m\n\u001B[1;32m     20\u001B[0m \u001B[38;5;28;01mdef\u001B[39;00m \u001B[38;5;21mcompute_lexicon_voc_coverage\u001B[39m(corpus_path: \u001B[38;5;28mstr\u001B[39m, lexicon: Lexicon) \u001B[38;5;241m-\u001B[39m\u001B[38;5;241m>\u001B[39m \u001B[38;5;28mfloat\u001B[39m:\n\u001B[1;32m     21\u001B[0m \tvoc \u001B[38;5;241m=\u001B[39m \u001B[38;5;28mset\u001B[39m(__build_voc(corpus_path\u001B[38;5;241m=\u001B[39mcorpus_path)\u001B[38;5;241m.\u001B[39mkeys())\n\u001B[0;32m---> 22\u001B[0m \tfound_voc \u001B[38;5;241m=\u001B[39m \u001B[38;5;28mset\u001B[39m([w \u001B[38;5;28;01mfor\u001B[39;00m w \u001B[38;5;129;01min\u001B[39;00m voc \u001B[38;5;28;01mif\u001B[39;00m \u001B[38;5;28mlen\u001B[39m(lexicon\u001B[38;5;241m.\u001B[39mlabel(w)) \u001B[38;5;241m>\u001B[39m \u001B[38;5;241m0\u001B[39m])\n\u001B[1;32m     23\u001B[0m \t\u001B[38;5;28;01mreturn\u001B[39;00m \u001B[38;5;28mfloat\u001B[39m(\u001B[38;5;28mlen\u001B[39m(found_voc)) \u001B[38;5;241m/\u001B[39m \u001B[38;5;28mlen\u001B[39m(voc)\n",
      "File \u001B[0;32m/mnt/raid1/ws/mbahgat/work/ws_remote/cohort_analysis/statistics.py:22\u001B[0m, in \u001B[0;36m<listcomp>\u001B[0;34m(.0)\u001B[0m\n\u001B[1;32m     20\u001B[0m \u001B[38;5;28;01mdef\u001B[39;00m \u001B[38;5;21mcompute_lexicon_voc_coverage\u001B[39m(corpus_path: \u001B[38;5;28mstr\u001B[39m, lexicon: Lexicon) \u001B[38;5;241m-\u001B[39m\u001B[38;5;241m>\u001B[39m \u001B[38;5;28mfloat\u001B[39m:\n\u001B[1;32m     21\u001B[0m \tvoc \u001B[38;5;241m=\u001B[39m \u001B[38;5;28mset\u001B[39m(__build_voc(corpus_path\u001B[38;5;241m=\u001B[39mcorpus_path)\u001B[38;5;241m.\u001B[39mkeys())\n\u001B[0;32m---> 22\u001B[0m \tfound_voc \u001B[38;5;241m=\u001B[39m \u001B[38;5;28mset\u001B[39m([w \u001B[38;5;28;01mfor\u001B[39;00m w \u001B[38;5;129;01min\u001B[39;00m voc \u001B[38;5;28;01mif\u001B[39;00m \u001B[38;5;28mlen\u001B[39m(\u001B[43mlexicon\u001B[49m\u001B[38;5;241;43m.\u001B[39;49m\u001B[43mlabel\u001B[49m\u001B[43m(\u001B[49m\u001B[43mw\u001B[49m\u001B[43m)\u001B[49m) \u001B[38;5;241m>\u001B[39m \u001B[38;5;241m0\u001B[39m])\n\u001B[1;32m     23\u001B[0m \t\u001B[38;5;28;01mreturn\u001B[39;00m \u001B[38;5;28mfloat\u001B[39m(\u001B[38;5;28mlen\u001B[39m(found_voc)) \u001B[38;5;241m/\u001B[39m \u001B[38;5;28mlen\u001B[39m(voc)\n",
      "\u001B[0;31mTypeError\u001B[0m: label() missing 1 required positional argument: 'word'"
     ]
    }
   ],
   "source": [
    "org_coverage = compute_lexicon_voc_coverage(corpus_path=cohort_corpus_path, lexicon=Liwc2015)\n",
    "extended_coverage = compute_lexicon_voc_coverage(corpus_path=cohort_corpus_path, lexicon=Liwc2015Expanded)\n",
    "\n",
    "f'Original coverage {org_coverage}, Extended coverage {extended_coverage}'"
   ],
   "metadata": {
    "collapsed": false,
    "ExecuteTime": {
     "end_time": "2023-08-06T20:36:16.957049Z",
     "start_time": "2023-08-06T20:27:35.644633Z"
    }
   }
  },
  {
   "cell_type": "code",
   "execution_count": null,
   "outputs": [],
   "source": [],
   "metadata": {
    "collapsed": false
   }
  }
 ],
 "metadata": {
  "kernelspec": {
   "display_name": "Python 3",
   "language": "python",
   "name": "python3"
  },
  "language_info": {
   "codemirror_mode": {
    "name": "ipython",
    "version": 2
   },
   "file_extension": ".py",
   "mimetype": "text/x-python",
   "name": "python",
   "nbconvert_exporter": "python",
   "pygments_lexer": "ipython2",
   "version": "2.7.6"
  }
 },
 "nbformat": 4,
 "nbformat_minor": 0
}
